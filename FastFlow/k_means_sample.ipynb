{
 "cells": [
  {
   "cell_type": "code",
   "execution_count": 32,
   "outputs": [],
   "source": [
    "import shutil\n",
    "import pathlib\n",
    "import argparse\n",
    "import yaml\n",
    "import timm\n",
    "import tqdm\n",
    "\n",
    "import torch\n",
    "import pandas as pd\n",
    "import numpy as np\n",
    "import itertools\n",
    "\n",
    "import constants as const\n",
    "import dataset\n",
    "import fastflow"
   ],
   "metadata": {
    "collapsed": false,
    "pycharm": {
     "name": "#%%\n"
    }
   }
  },
  {
   "cell_type": "code",
   "execution_count": 33,
   "outputs": [],
   "source": [
    "def parse_args(arg_list: list):\n",
    "    \"\"\"ArgumentParseインスタンスを作成し，コマンドライン引数を読み込む．\n",
    "    Returns:\n",
    "        args\n",
    "    \"\"\"\n",
    "    parser = argparse.ArgumentParser(description=\"Train FastFlow_org on MVTec-AD dataset\")\n",
    "    parser.add_argument(\n",
    "        \"-cfg\", \"--config\", type=str, required=True, help=\"path to config file\"\n",
    "    )\n",
    "    parser.add_argument('--name', type=str, required=True, help='dataset name')\n",
    "    parser.add_argument(\"--data\", type=str, required=True, help=\"path to dataset folder\")\n",
    "    parser.add_argument(\n",
    "        \"-cat\",\n",
    "        \"--category\",\n",
    "        type=str,\n",
    "        required=True,\n",
    "        help=\"category name in dataset. If 'all' was specified, train FastFlow by using all OK_Clip data\",\n",
    "    )\n",
    "    parser.add_argument('--valid', type=str, help='validation category')\n",
    "    parser.add_argument('--color', type=str, choices=['rgb', 'gray'])\n",
    "    parser.add_argument('--shuffle', action='store_true', help='shuffle batch')\n",
    "    parser.add_argument('-p', '--patchsize', type=int, help='patch size. By default, patch separation will not do')\n",
    "    parser.add_argument('--random', action='store_true', help='random patch sampling')\n",
    "    parser.add_argument('--mask', action='store_true', help='target mask')\n",
    "    parser.add_argument(\"--eval\", action=\"store_true\", help=\"run eval only\")\n",
    "    parser.add_argument(\"--post\", action='store_true', help='run postprocessing only')\n",
    "    parser.add_argument(\n",
    "        \"-ckpt\", \"--checkpoint\", type=str, help=\"path to load checkpoint\"\n",
    "    )\n",
    "    parser.add_argument(\"--heatmap\", action='store_true', help='saving heatmap on test images')\n",
    "    parser.add_argument('-t', '--threshold', type=float, help='threshold')\n",
    "\n",
    "    # 引数のチェック\n",
    "    dataset_list = ['mvtec', 'jelly', 'package']\n",
    "    args = parser.parse_args(arg_list)\n",
    "\n",
    "    assert args.name in dataset_list, f'利用可能なデータセットは{dataset_list}です．'\n",
    "\n",
    "    if args.name == 'mvtec':\n",
    "        assert args.category in const.MVTEC_CATEGORIES, f'MVTecにおいて利用可能なクラスは{const.MVTEC_CATEGORIES}です'\n",
    "    if args.name == 'jelly':\n",
    "        assert args.category in const.JELLY_CATEGORIES, f'Jellyにおいて利用可能なクラスは{const.JELLY_CATEGORIES}です'\n",
    "\n",
    "    return args"
   ],
   "metadata": {
    "collapsed": false,
    "pycharm": {
     "name": "#%%\n"
    }
   }
  },
  {
   "cell_type": "code",
   "execution_count": 35,
   "outputs": [],
   "source": [
    "args_list = [\n",
    "    '--config', 'C:\\\\Users\\s2231\\PycharmProjects\\FastFlow\\Fast_flow\\FastFlow\\configs\\\\deit.yaml',\n",
    "    '--name',\n",
    "    'package',\n",
    "    '--data',\n",
    "    'C:\\\\Users\\s2231\\PycharmProjects\\FastFlow\\Fast_flow\\FastFlow\\data\\package_square',\n",
    "    '-cat',\n",
    "    'cut',\n",
    "    '--valid',\n",
    "    'cut'\n",
    "]\n",
    "args = parse_args(args_list)\n",
    "with open(args.config, 'r') as yaml_file:\n",
    "    config = yaml.safe_load(yaml_file)"
   ],
   "metadata": {
    "collapsed": false,
    "pycharm": {
     "name": "#%%\n"
    }
   }
  },
  {
   "cell_type": "code",
   "execution_count": 36,
   "outputs": [
    {
     "name": "stdout",
     "output_type": "stream",
     "text": [
      "Total model Param#: 118.297492[MB]\n"
     ]
    }
   ],
   "source": [
    "# backboneのメタ情報を読み込み，モデルをビルド\n",
    "model = fastflow.build_model(config, args)\n",
    "optimizer = fastflow.build_optimizer(model)"
   ],
   "metadata": {
    "collapsed": false,
    "pycharm": {
     "name": "#%%\n"
    }
   }
  },
  {
   "cell_type": "code",
   "execution_count": 37,
   "outputs": [],
   "source": [
    "# instantiate dataloader and model\n",
    "train_dataloader = dataset.build_train_data_loader(args, config)\n",
    "test_dataloader = dataset.build_test_data_loader(args, config)"
   ],
   "metadata": {
    "collapsed": false,
    "pycharm": {
     "name": "#%%\n"
    }
   }
  },
  {
   "cell_type": "code",
   "execution_count": 50,
   "outputs": [
    {
     "data": {
      "text/plain": "VisionTransformerDistilled(\n  (patch_embed): PatchEmbed(\n    (proj): Conv2d(3, 768, kernel_size=(16, 16), stride=(16, 16))\n    (norm): Identity()\n  )\n  (pos_drop): Dropout(p=0.0, inplace=False)\n  (norm_pre): Identity()\n  (blocks): Sequential(\n    (0): Block(\n      (norm1): LayerNorm((768,), eps=1e-06, elementwise_affine=True)\n      (attn): Attention(\n        (qkv): Linear(in_features=768, out_features=2304, bias=True)\n        (attn_drop): Dropout(p=0.0, inplace=False)\n        (proj): Linear(in_features=768, out_features=768, bias=True)\n        (proj_drop): Dropout(p=0.0, inplace=False)\n      )\n      (ls1): Identity()\n      (drop_path1): Identity()\n      (norm2): LayerNorm((768,), eps=1e-06, elementwise_affine=True)\n      (mlp): Mlp(\n        (fc1): Linear(in_features=768, out_features=3072, bias=True)\n        (act): GELU(approximate='none')\n        (drop1): Dropout(p=0.0, inplace=False)\n        (fc2): Linear(in_features=3072, out_features=768, bias=True)\n        (drop2): Dropout(p=0.0, inplace=False)\n      )\n      (ls2): Identity()\n      (drop_path2): Identity()\n    )\n    (1): Block(\n      (norm1): LayerNorm((768,), eps=1e-06, elementwise_affine=True)\n      (attn): Attention(\n        (qkv): Linear(in_features=768, out_features=2304, bias=True)\n        (attn_drop): Dropout(p=0.0, inplace=False)\n        (proj): Linear(in_features=768, out_features=768, bias=True)\n        (proj_drop): Dropout(p=0.0, inplace=False)\n      )\n      (ls1): Identity()\n      (drop_path1): Identity()\n      (norm2): LayerNorm((768,), eps=1e-06, elementwise_affine=True)\n      (mlp): Mlp(\n        (fc1): Linear(in_features=768, out_features=3072, bias=True)\n        (act): GELU(approximate='none')\n        (drop1): Dropout(p=0.0, inplace=False)\n        (fc2): Linear(in_features=3072, out_features=768, bias=True)\n        (drop2): Dropout(p=0.0, inplace=False)\n      )\n      (ls2): Identity()\n      (drop_path2): Identity()\n    )\n    (2): Block(\n      (norm1): LayerNorm((768,), eps=1e-06, elementwise_affine=True)\n      (attn): Attention(\n        (qkv): Linear(in_features=768, out_features=2304, bias=True)\n        (attn_drop): Dropout(p=0.0, inplace=False)\n        (proj): Linear(in_features=768, out_features=768, bias=True)\n        (proj_drop): Dropout(p=0.0, inplace=False)\n      )\n      (ls1): Identity()\n      (drop_path1): Identity()\n      (norm2): LayerNorm((768,), eps=1e-06, elementwise_affine=True)\n      (mlp): Mlp(\n        (fc1): Linear(in_features=768, out_features=3072, bias=True)\n        (act): GELU(approximate='none')\n        (drop1): Dropout(p=0.0, inplace=False)\n        (fc2): Linear(in_features=3072, out_features=768, bias=True)\n        (drop2): Dropout(p=0.0, inplace=False)\n      )\n      (ls2): Identity()\n      (drop_path2): Identity()\n    )\n    (3): Block(\n      (norm1): LayerNorm((768,), eps=1e-06, elementwise_affine=True)\n      (attn): Attention(\n        (qkv): Linear(in_features=768, out_features=2304, bias=True)\n        (attn_drop): Dropout(p=0.0, inplace=False)\n        (proj): Linear(in_features=768, out_features=768, bias=True)\n        (proj_drop): Dropout(p=0.0, inplace=False)\n      )\n      (ls1): Identity()\n      (drop_path1): Identity()\n      (norm2): LayerNorm((768,), eps=1e-06, elementwise_affine=True)\n      (mlp): Mlp(\n        (fc1): Linear(in_features=768, out_features=3072, bias=True)\n        (act): GELU(approximate='none')\n        (drop1): Dropout(p=0.0, inplace=False)\n        (fc2): Linear(in_features=3072, out_features=768, bias=True)\n        (drop2): Dropout(p=0.0, inplace=False)\n      )\n      (ls2): Identity()\n      (drop_path2): Identity()\n    )\n    (4): Block(\n      (norm1): LayerNorm((768,), eps=1e-06, elementwise_affine=True)\n      (attn): Attention(\n        (qkv): Linear(in_features=768, out_features=2304, bias=True)\n        (attn_drop): Dropout(p=0.0, inplace=False)\n        (proj): Linear(in_features=768, out_features=768, bias=True)\n        (proj_drop): Dropout(p=0.0, inplace=False)\n      )\n      (ls1): Identity()\n      (drop_path1): Identity()\n      (norm2): LayerNorm((768,), eps=1e-06, elementwise_affine=True)\n      (mlp): Mlp(\n        (fc1): Linear(in_features=768, out_features=3072, bias=True)\n        (act): GELU(approximate='none')\n        (drop1): Dropout(p=0.0, inplace=False)\n        (fc2): Linear(in_features=3072, out_features=768, bias=True)\n        (drop2): Dropout(p=0.0, inplace=False)\n      )\n      (ls2): Identity()\n      (drop_path2): Identity()\n    )\n    (5): Block(\n      (norm1): LayerNorm((768,), eps=1e-06, elementwise_affine=True)\n      (attn): Attention(\n        (qkv): Linear(in_features=768, out_features=2304, bias=True)\n        (attn_drop): Dropout(p=0.0, inplace=False)\n        (proj): Linear(in_features=768, out_features=768, bias=True)\n        (proj_drop): Dropout(p=0.0, inplace=False)\n      )\n      (ls1): Identity()\n      (drop_path1): Identity()\n      (norm2): LayerNorm((768,), eps=1e-06, elementwise_affine=True)\n      (mlp): Mlp(\n        (fc1): Linear(in_features=768, out_features=3072, bias=True)\n        (act): GELU(approximate='none')\n        (drop1): Dropout(p=0.0, inplace=False)\n        (fc2): Linear(in_features=3072, out_features=768, bias=True)\n        (drop2): Dropout(p=0.0, inplace=False)\n      )\n      (ls2): Identity()\n      (drop_path2): Identity()\n    )\n    (6): Block(\n      (norm1): LayerNorm((768,), eps=1e-06, elementwise_affine=True)\n      (attn): Attention(\n        (qkv): Linear(in_features=768, out_features=2304, bias=True)\n        (attn_drop): Dropout(p=0.0, inplace=False)\n        (proj): Linear(in_features=768, out_features=768, bias=True)\n        (proj_drop): Dropout(p=0.0, inplace=False)\n      )\n      (ls1): Identity()\n      (drop_path1): Identity()\n      (norm2): LayerNorm((768,), eps=1e-06, elementwise_affine=True)\n      (mlp): Mlp(\n        (fc1): Linear(in_features=768, out_features=3072, bias=True)\n        (act): GELU(approximate='none')\n        (drop1): Dropout(p=0.0, inplace=False)\n        (fc2): Linear(in_features=3072, out_features=768, bias=True)\n        (drop2): Dropout(p=0.0, inplace=False)\n      )\n      (ls2): Identity()\n      (drop_path2): Identity()\n    )\n    (7): Block(\n      (norm1): LayerNorm((768,), eps=1e-06, elementwise_affine=True)\n      (attn): Attention(\n        (qkv): Linear(in_features=768, out_features=2304, bias=True)\n        (attn_drop): Dropout(p=0.0, inplace=False)\n        (proj): Linear(in_features=768, out_features=768, bias=True)\n        (proj_drop): Dropout(p=0.0, inplace=False)\n      )\n      (ls1): Identity()\n      (drop_path1): Identity()\n      (norm2): LayerNorm((768,), eps=1e-06, elementwise_affine=True)\n      (mlp): Mlp(\n        (fc1): Linear(in_features=768, out_features=3072, bias=True)\n        (act): GELU(approximate='none')\n        (drop1): Dropout(p=0.0, inplace=False)\n        (fc2): Linear(in_features=3072, out_features=768, bias=True)\n        (drop2): Dropout(p=0.0, inplace=False)\n      )\n      (ls2): Identity()\n      (drop_path2): Identity()\n    )\n    (8): Block(\n      (norm1): LayerNorm((768,), eps=1e-06, elementwise_affine=True)\n      (attn): Attention(\n        (qkv): Linear(in_features=768, out_features=2304, bias=True)\n        (attn_drop): Dropout(p=0.0, inplace=False)\n        (proj): Linear(in_features=768, out_features=768, bias=True)\n        (proj_drop): Dropout(p=0.0, inplace=False)\n      )\n      (ls1): Identity()\n      (drop_path1): Identity()\n      (norm2): LayerNorm((768,), eps=1e-06, elementwise_affine=True)\n      (mlp): Mlp(\n        (fc1): Linear(in_features=768, out_features=3072, bias=True)\n        (act): GELU(approximate='none')\n        (drop1): Dropout(p=0.0, inplace=False)\n        (fc2): Linear(in_features=3072, out_features=768, bias=True)\n        (drop2): Dropout(p=0.0, inplace=False)\n      )\n      (ls2): Identity()\n      (drop_path2): Identity()\n    )\n    (9): Block(\n      (norm1): LayerNorm((768,), eps=1e-06, elementwise_affine=True)\n      (attn): Attention(\n        (qkv): Linear(in_features=768, out_features=2304, bias=True)\n        (attn_drop): Dropout(p=0.0, inplace=False)\n        (proj): Linear(in_features=768, out_features=768, bias=True)\n        (proj_drop): Dropout(p=0.0, inplace=False)\n      )\n      (ls1): Identity()\n      (drop_path1): Identity()\n      (norm2): LayerNorm((768,), eps=1e-06, elementwise_affine=True)\n      (mlp): Mlp(\n        (fc1): Linear(in_features=768, out_features=3072, bias=True)\n        (act): GELU(approximate='none')\n        (drop1): Dropout(p=0.0, inplace=False)\n        (fc2): Linear(in_features=3072, out_features=768, bias=True)\n        (drop2): Dropout(p=0.0, inplace=False)\n      )\n      (ls2): Identity()\n      (drop_path2): Identity()\n    )\n    (10): Block(\n      (norm1): LayerNorm((768,), eps=1e-06, elementwise_affine=True)\n      (attn): Attention(\n        (qkv): Linear(in_features=768, out_features=2304, bias=True)\n        (attn_drop): Dropout(p=0.0, inplace=False)\n        (proj): Linear(in_features=768, out_features=768, bias=True)\n        (proj_drop): Dropout(p=0.0, inplace=False)\n      )\n      (ls1): Identity()\n      (drop_path1): Identity()\n      (norm2): LayerNorm((768,), eps=1e-06, elementwise_affine=True)\n      (mlp): Mlp(\n        (fc1): Linear(in_features=768, out_features=3072, bias=True)\n        (act): GELU(approximate='none')\n        (drop1): Dropout(p=0.0, inplace=False)\n        (fc2): Linear(in_features=3072, out_features=768, bias=True)\n        (drop2): Dropout(p=0.0, inplace=False)\n      )\n      (ls2): Identity()\n      (drop_path2): Identity()\n    )\n    (11): Block(\n      (norm1): LayerNorm((768,), eps=1e-06, elementwise_affine=True)\n      (attn): Attention(\n        (qkv): Linear(in_features=768, out_features=2304, bias=True)\n        (attn_drop): Dropout(p=0.0, inplace=False)\n        (proj): Linear(in_features=768, out_features=768, bias=True)\n        (proj_drop): Dropout(p=0.0, inplace=False)\n      )\n      (ls1): Identity()\n      (drop_path1): Identity()\n      (norm2): LayerNorm((768,), eps=1e-06, elementwise_affine=True)\n      (mlp): Mlp(\n        (fc1): Linear(in_features=768, out_features=3072, bias=True)\n        (act): GELU(approximate='none')\n        (drop1): Dropout(p=0.0, inplace=False)\n        (fc2): Linear(in_features=3072, out_features=768, bias=True)\n        (drop2): Dropout(p=0.0, inplace=False)\n      )\n      (ls2): Identity()\n      (drop_path2): Identity()\n    )\n  )\n  (norm): LayerNorm((768,), eps=1e-06, elementwise_affine=True)\n  (fc_norm): Identity()\n  (head): Identity()\n  (head_dist): Identity()\n)"
     },
     "execution_count": 50,
     "metadata": {},
     "output_type": "execute_result"
    }
   ],
   "source": [
    "# instantiate pretrained model\n",
    "backbone_name = const.BACKBONE_DEIT\n",
    "backbone = timm.create_model(backbone_name, pretrained=True, num_classes=0)\n",
    "backbone.eval()"
   ],
   "metadata": {
    "collapsed": false,
    "pycharm": {
     "name": "#%%\n"
    }
   }
  },
  {
   "cell_type": "code",
   "execution_count": 61,
   "outputs": [],
   "source": [
    "def get_embedding(model: torch.nn.Module, batch: torch.Tensor) -> torch.Tensor:\n",
    "    with torch.no_grad():\n",
    "        out = model(batch)\n",
    "    # out = torch.nn.AvgPool2d(kernel_size=out.shape[-2:])(out)\n",
    "    # out = out.view(*out.shape[:2])\n",
    "    return out.cpu().detach()"
   ],
   "metadata": {
    "collapsed": false,
    "pycharm": {
     "name": "#%%\n"
    }
   }
  },
  {
   "cell_type": "code",
   "execution_count": 62,
   "outputs": [
    {
     "name": "stderr",
     "output_type": "stream",
     "text": [
      "100%|██████████| 405/405 [01:01<00:00,  6.60it/s]\n"
     ]
    }
   ],
   "source": [
    "normal_list = []\n",
    "backbone = backbone.cuda()\n",
    "for batch in tqdm.tqdm(train_dataloader):\n",
    "    batch = batch.cuda()\n",
    "    outputs = get_embedding(backbone, batch)\n",
    "    normal_list.append(outputs)"
   ],
   "metadata": {
    "collapsed": false,
    "pycharm": {
     "name": "#%%\n"
    }
   }
  },
  {
   "cell_type": "code",
   "execution_count": 63,
   "outputs": [
    {
     "data": {
      "text/plain": "torch.Size([4, 768])"
     },
     "execution_count": 63,
     "metadata": {},
     "output_type": "execute_result"
    }
   ],
   "source": [
    "normal_list[0].shape"
   ],
   "metadata": {
    "collapsed": false,
    "pycharm": {
     "name": "#%%\n"
    }
   }
  },
  {
   "cell_type": "code",
   "execution_count": 67,
   "outputs": [
    {
     "data": {
      "text/plain": "(405, 4, 768)"
     },
     "execution_count": 67,
     "metadata": {},
     "output_type": "execute_result"
    }
   ],
   "source": [
    "# -> (num_of_normal_samples, B, C)\n",
    "normal_embed = torch.stack(normal_list, dim=0).cpu().detach().numpy()\n",
    "normal_embed.shape"
   ],
   "metadata": {
    "collapsed": false,
    "pycharm": {
     "name": "#%%\n"
    }
   }
  },
  {
   "cell_type": "markdown",
   "source": [
    "## K-meansのサンプル"
   ],
   "metadata": {
    "collapsed": false,
    "pycharm": {
     "name": "#%% md\n"
    }
   }
  },
  {
   "cell_type": "code",
   "execution_count": 66,
   "outputs": [],
   "source": [
    "class KMeans:\n",
    "    def __init__(self, n_clusters, max_iter=1000, random_seed=0):\n",
    "        self.n_clusters = n_clusters\n",
    "        self.max_iter = max_iter\n",
    "        self.random_state = np.random.RandomState(random_seed)\n",
    "\n",
    "    # X.shape: (N, D)\n",
    "    def fit(self, X):\n",
    "        # initialization\n",
    "        cycle = itertools.cycle(range(self.n_clusters))\n",
    "        self.labels_ = np.fromiter(itertools.islice(cycle, X.shape[0]), dtype=np.int)\n",
    "        self.random_state.shuffle(self.labels_)\n",
    "        labels_prev = np.zeros(X.shape[0])\n",
    "        count = 0\n",
    "        self.cluster_centers_ = np.zeros((self.n_clusters, X.shape[1]))\n",
    "\n",
    "        while (not (self.labels_ == labels_prev).all() and count < self.max_iter):\n",
    "            for i in tqdm.tqdm(range(self.n_clusters)):\n",
    "                XX = X[self.labels_ == i, :]\n",
    "                print(XX.shape)\n",
    "                self.cluster_centers_[i, :] = XX.mean(axis=0)\n",
    "            dist = ((X[..., np.newaxis] - self.cluster_centers_.T[np.newaxis, ...]) ** 2).sum(axis=1)\n",
    "            labels_prev = self.labels_\n",
    "            self.labels_ = dist.argmin(axis = 1)\n",
    "            count += 1\n",
    "\n",
    "    def predict(self, X):\n",
    "        dist = ((X[:, :, np.newaxis] - self.cluster_centers_.T[np.newaxis, ...]) ** 2).sum(axis = 1)\n",
    "        labels = dist.argmin(axis = 1)\n",
    "        return labels"
   ],
   "metadata": {
    "collapsed": false,
    "pycharm": {
     "name": "#%%\n"
    }
   }
  },
  {
   "cell_type": "code",
   "execution_count": 31,
   "outputs": [
    {
     "data": {
      "text/plain": "<Figure size 640x480 with 1 Axes>",
      "image/png": "[encoded data removed]"
     },
     "metadata": {},
     "output_type": "display_data"
    }
   ],
   "source": [
    "import matplotlib.pyplot as plt\n",
    "np.random.seed(0)\n",
    "points1 = np.random.randn(80, 2)  # default cluster\n",
    "points2 = np.random.randn(80, 2) + np.array([4,0])  # translated_x\n",
    "points3 = np.random.randn(80, 2) + np.array([5,8])  # translated_x_and_y\n",
    "\n",
    "points = np.r_[points1, points2, points3]\n",
    "\n",
    "color = ['r', 'g', 'b']\n",
    "for i in range(3):\n",
    "    p = points[80*i:80*(i+1)]\n",
    "    plt.scatter(p[:, 0], p[:, 1], color = color[i])\n",
    "plt.show()"
   ],
   "metadata": {
    "collapsed": false,
    "pycharm": {
     "name": "#%%\n"
    }
   }
  },
  {
   "cell_type": "code",
   "execution_count": 32,
   "outputs": [
    {
     "name": "stderr",
     "output_type": "stream",
     "text": [
      "C:\\Users\\s2231\\AppData\\Local\\Temp\\ipykernel_76124\\1340154803.py:11: DeprecationWarning: `np.int` is a deprecated alias for the builtin `int`. To silence this warning, use `int` by itself. Doing this will not modify any behavior and is safe. When replacing `np.int`, you may wish to use e.g. `np.int64` or `np.int32` to specify the precision. If you wish to review your current use, check the release note link for additional information.\n",
      "Deprecated in NumPy 1.20; for more details and guidance: https://numpy.org/devdocs/release/1.20.0-notes.html#deprecations\n",
      "  self.labels_ = np.fromiter(itertools.islice(cycle, X.shape[0]), dtype=np.int)\n",
      "100%|██████████| 3/3 [00:00<?, ?it/s]\n"
     ]
    },
    {
     "name": "stdout",
     "output_type": "stream",
     "text": [
      "(80, 2)\n",
      "(80, 2)\n",
      "(80, 2)\n"
     ]
    },
    {
     "name": "stderr",
     "output_type": "stream",
     "text": [
      "100%|██████████| 3/3 [00:00<?, ?it/s]\n"
     ]
    },
    {
     "name": "stdout",
     "output_type": "stream",
     "text": [
      "(78, 2)\n",
      "(82, 2)\n",
      "(80, 2)\n"
     ]
    },
    {
     "name": "stderr",
     "output_type": "stream",
     "text": [
      "100%|██████████| 3/3 [00:00<?, ?it/s]"
     ]
    },
    {
     "name": "stdout",
     "output_type": "stream",
     "text": [
      "(77, 2)\n",
      "(83, 2)\n",
      "(80, 2)\n",
      "[1 0 2 1 0 0 2 0 1 2 0 0 2 0 2 2 0 0 2 1 2 0 1 2 0 1 2 1 0 1 0 0 0 2 0 2 0\n",
      " 1 1 0 0 0 0 1 2 0 0 0 2 1 0 2 1 0 2 0 2 1 1 1 1 1 0 2 0 2 2 0 0 0 0 0 2 0\n",
      " 2 2 2 1 0 2 1 2 0 0 2 0 1 2 1 1 1 2 2 2 1 2 2 2 1 2 1 0 0 0 0 0 2 0 1 0 1\n",
      " 2 0 1 1 0 1 2 1 1 1 2 2 1 2 1 0 1 1 2 0 1 0 1 1 1 0 2 1 0 0 1 2 2 2 1 0 0\n",
      " 0 2 2 2 0 0 1 2 0 2 2 2 1 2 2 2 2 2 1 1 0 1 2 1 1 2 0 1 1 1 1 0 2 1 0 1 1\n",
      " 2 1 2 2 2 1 2 0 1 2 2 2 0 0 0 0 1 1 2 1 1 1 2 2 0 0 1 1 2 0 0 1 0 1 1 2 1\n",
      " 0 1 2 1 0 1 2 2 1 1 2 1 2 1 0 1 1 2]\n"
     ]
    },
    {
     "name": "stderr",
     "output_type": "stream",
     "text": [
      "\n"
     ]
    }
   ],
   "source": [
    "np.random.shuffle(points)\n",
    "\n",
    "model = KMeans(3)\n",
    "model.fit(points)\n",
    "\n",
    "print(model.labels_)"
   ],
   "metadata": {
    "collapsed": false,
    "pycharm": {
     "name": "#%%\n"
    }
   }
  },
  {
   "cell_type": "code",
   "execution_count": 37,
   "outputs": [
    {
     "ename": "IndexError",
     "evalue": "boolean index did not match indexed array along dimension 0; dimension is 240 but corresponding boolean dimension is 1620",
     "output_type": "error",
     "traceback": [
      "\u001B[1;31m---------------------------------------------------------------------------\u001B[0m",
      "\u001B[1;31mIndexError\u001B[0m                                Traceback (most recent call last)",
      "Cell \u001B[1;32mIn[37], line 2\u001B[0m\n\u001B[0;32m      1\u001B[0m \u001B[38;5;28;01mfor\u001B[39;00m i \u001B[38;5;129;01min\u001B[39;00m \u001B[38;5;28mrange\u001B[39m(\u001B[38;5;241m3\u001B[39m):\n\u001B[1;32m----> 2\u001B[0m     p \u001B[38;5;241m=\u001B[39m \u001B[43mpoints\u001B[49m\u001B[43m[\u001B[49m\u001B[43mmodel\u001B[49m\u001B[38;5;241;43m.\u001B[39;49m\u001B[43mlabels_\u001B[49m\u001B[43m \u001B[49m\u001B[38;5;241;43m==\u001B[39;49m\u001B[43m \u001B[49m\u001B[43mi\u001B[49m\u001B[43m,\u001B[49m\u001B[43m \u001B[49m\u001B[43m:\u001B[49m\u001B[43m]\u001B[49m\n\u001B[0;32m      3\u001B[0m     plt\u001B[38;5;241m.\u001B[39mscatter(p[:, \u001B[38;5;241m0\u001B[39m], p[:, \u001B[38;5;241m1\u001B[39m], color \u001B[38;5;241m=\u001B[39m color[i])\n\u001B[0;32m      4\u001B[0m plt\u001B[38;5;241m.\u001B[39mshow()\n",
      "\u001B[1;31mIndexError\u001B[0m: boolean index did not match indexed array along dimension 0; dimension is 240 but corresponding boolean dimension is 1620"
     ]
    }
   ],
   "source": [
    "for i in range(3):\n",
    "    p = points[model.labels_ == i, :]\n",
    "    plt.scatter(p[:, 0], p[:, 1], color = color[i])\n",
    "plt.show()"
   ],
   "metadata": {
    "collapsed": false,
    "pycharm": {
     "name": "#%%\n"
    }
   }
  },
  {
   "cell_type": "markdown",
   "source": [
    "## K-meansによる正常画像のクラスタリング"
   ],
   "metadata": {
    "collapsed": false,
    "pycharm": {
     "name": "#%% md\n"
    }
   }
  },
  {
   "cell_type": "code",
   "execution_count": 102,
   "outputs": [
    {
     "data": {
      "text/plain": "(405, 4, 512)"
     },
     "execution_count": 102,
     "metadata": {},
     "output_type": "execute_result"
    }
   ],
   "source": [
    "normal_embed.shape"
   ],
   "metadata": {
    "collapsed": false,
    "pycharm": {
     "name": "#%%\n"
    }
   }
  },
  {
   "cell_type": "code",
   "execution_count": 68,
   "outputs": [
    {
     "data": {
      "text/plain": "(1620, 768)"
     },
     "execution_count": 68,
     "metadata": {},
     "output_type": "execute_result"
    }
   ],
   "source": [
    "normal_embed = normal_embed.reshape(normal_embed.shape[0] * normal_embed.shape[1], normal_embed.shape[2])\n",
    "normal_embed.shape"
   ],
   "metadata": {
    "collapsed": false,
    "pycharm": {
     "name": "#%%\n"
    }
   }
  },
  {
   "cell_type": "code",
   "execution_count": 69,
   "outputs": [
    {
     "name": "stderr",
     "output_type": "stream",
     "text": [
      "C:\\Users\\s2231\\AppData\\Local\\Temp\\ipykernel_69372\\1340154803.py:11: DeprecationWarning: `np.int` is a deprecated alias for the builtin `int`. To silence this warning, use `int` by itself. Doing this will not modify any behavior and is safe. When replacing `np.int`, you may wish to use e.g. `np.int64` or `np.int32` to specify the precision. If you wish to review your current use, check the release note link for additional information.\n",
      "Deprecated in NumPy 1.20; for more details and guidance: https://numpy.org/devdocs/release/1.20.0-notes.html#deprecations\n",
      "  self.labels_ = np.fromiter(itertools.islice(cycle, X.shape[0]), dtype=np.int)\n",
      "100%|██████████| 4/4 [00:00<00:00, 495.75it/s]\n"
     ]
    },
    {
     "name": "stdout",
     "output_type": "stream",
     "text": [
      "(405, 768)\n",
      "(405, 768)\n",
      "(405, 768)\n",
      "(405, 768)\n"
     ]
    },
    {
     "name": "stderr",
     "output_type": "stream",
     "text": [
      "100%|██████████| 4/4 [00:00<?, ?it/s]\n"
     ]
    },
    {
     "name": "stdout",
     "output_type": "stream",
     "text": [
      "(282, 768)\n",
      "(507, 768)\n",
      "(288, 768)\n",
      "(543, 768)\n"
     ]
    },
    {
     "name": "stderr",
     "output_type": "stream",
     "text": [
      "100%|██████████| 4/4 [00:00<00:00, 497.44it/s]\n"
     ]
    },
    {
     "name": "stdout",
     "output_type": "stream",
     "text": [
      "(322, 768)\n",
      "(469, 768)\n",
      "(375, 768)\n",
      "(454, 768)\n"
     ]
    },
    {
     "name": "stderr",
     "output_type": "stream",
     "text": [
      "100%|██████████| 4/4 [00:00<00:00, 498.22it/s]\n"
     ]
    },
    {
     "name": "stdout",
     "output_type": "stream",
     "text": [
      "(322, 768)\n",
      "(452, 768)\n",
      "(420, 768)\n",
      "(426, 768)\n"
     ]
    },
    {
     "name": "stderr",
     "output_type": "stream",
     "text": [
      "100%|██████████| 4/4 [00:00<?, ?it/s]\n"
     ]
    },
    {
     "name": "stdout",
     "output_type": "stream",
     "text": [
      "(318, 768)\n",
      "(449, 768)\n",
      "(443, 768)\n",
      "(410, 768)\n"
     ]
    },
    {
     "name": "stderr",
     "output_type": "stream",
     "text": [
      "100%|██████████| 4/4 [00:00<00:00, 498.14it/s]\n"
     ]
    },
    {
     "name": "stdout",
     "output_type": "stream",
     "text": [
      "(316, 768)\n",
      "(451, 768)\n",
      "(457, 768)\n",
      "(396, 768)\n"
     ]
    },
    {
     "name": "stderr",
     "output_type": "stream",
     "text": [
      "100%|██████████| 4/4 [00:00<?, ?it/s]\n"
     ]
    },
    {
     "name": "stdout",
     "output_type": "stream",
     "text": [
      "(315, 768)\n",
      "(452, 768)\n",
      "(464, 768)\n",
      "(389, 768)\n"
     ]
    },
    {
     "name": "stderr",
     "output_type": "stream",
     "text": [
      "100%|██████████| 4/4 [00:00<00:00, 496.18it/s]\n"
     ]
    },
    {
     "name": "stdout",
     "output_type": "stream",
     "text": [
      "(315, 768)\n",
      "(452, 768)\n",
      "(468, 768)\n",
      "(385, 768)\n"
     ]
    },
    {
     "name": "stderr",
     "output_type": "stream",
     "text": [
      "100%|██████████| 4/4 [00:00<00:00, 256.04it/s]\n"
     ]
    },
    {
     "name": "stdout",
     "output_type": "stream",
     "text": [
      "(315, 768)\n",
      "(452, 768)\n",
      "(472, 768)\n",
      "(381, 768)\n"
     ]
    },
    {
     "name": "stderr",
     "output_type": "stream",
     "text": [
      "100%|██████████| 4/4 [00:00<?, ?it/s]\n"
     ]
    },
    {
     "name": "stdout",
     "output_type": "stream",
     "text": [
      "(314, 768)\n",
      "(452, 768)\n",
      "(473, 768)\n",
      "(381, 768)\n"
     ]
    },
    {
     "name": "stderr",
     "output_type": "stream",
     "text": [
      "100%|██████████| 4/4 [00:00<?, ?it/s]"
     ]
    },
    {
     "name": "stdout",
     "output_type": "stream",
     "text": [
      "(313, 768)\n",
      "(452, 768)\n",
      "(473, 768)\n",
      "(382, 768)\n"
     ]
    },
    {
     "name": "stderr",
     "output_type": "stream",
     "text": [
      "\n"
     ]
    }
   ],
   "source": [
    "K = 4\n",
    "model = KMeans(K)\n",
    "model.fit(normal_embed)"
   ],
   "metadata": {
    "collapsed": false,
    "pycharm": {
     "name": "#%%\n"
    }
   }
  },
  {
   "cell_type": "code",
   "execution_count": 70,
   "outputs": [
    {
     "data": {
      "text/plain": "array([1, 3, 3, 0, 2, 3, 2, 2, 2, 3], dtype=int64)"
     },
     "execution_count": 70,
     "metadata": {},
     "output_type": "execute_result"
    }
   ],
   "source": [
    "model.labels_[:10]"
   ],
   "metadata": {
    "collapsed": false,
    "pycharm": {
     "name": "#%%\n"
    }
   }
  },
  {
   "cell_type": "code",
   "execution_count": 71,
   "outputs": [
    {
     "data": {
      "text/plain": "array(['1_Cam1_000597', '2_Cam1_000396', '2_Cam1_000666', ...,\n       '1_Cam1_000052', '1_Cam1_000229', '2_Cam1_000691'], dtype='<U13')"
     },
     "execution_count": 71,
     "metadata": {},
     "output_type": "execute_result"
    }
   ],
   "source": [
    "files = train_dataloader.dataset.image_files\n",
    "file_names = np.array([file.stem for file in files])\n",
    "file_names"
   ],
   "metadata": {
    "collapsed": false,
    "pycharm": {
     "name": "#%%\n"
    }
   }
  },
  {
   "cell_type": "code",
   "execution_count": 72,
   "outputs": [],
   "source": [
    "img_list = np.array(train_dataloader.dataset.image_files)"
   ],
   "metadata": {
    "collapsed": false,
    "pycharm": {
     "name": "#%%\n"
    }
   }
  },
  {
   "cell_type": "code",
   "execution_count": 73,
   "outputs": [
    {
     "data": {
      "text/plain": "array([   0,   10,   11,   22,   26,   31,   33,   34,   36,   37,   41,\n         42,   48,   49,   56,   57,   60,   70,   71,   78,   80,   86,\n         93,   94,   96,   98,  102,  103,  105,  108,  110,  114,  116,\n        118,  121,  122,  129,  130,  131,  133,  135,  140,  142,  143,\n        146,  148,  152,  158,  160,  173,  174,  182,  184,  185,  189,\n        192,  194,  196,  201,  204,  206,  211,  212,  214,  220,  221,\n        227,  231,  238,  239,  240,  244,  246,  251,  252,  257,  265,\n        273,  276,  285,  286,  288,  290,  294,  303,  307,  308,  309,\n        310,  312,  317,  321,  322,  324,  327,  328,  330,  334,  337,\n        338,  340,  341,  342,  344,  345,  346,  349,  355,  360,  361,\n        366,  368,  369,  375,  376,  377,  378,  379,  380,  384,  385,\n        386,  387,  396,  404,  411,  418,  422,  425,  427,  429,  432,\n        433,  438,  442,  443,  444,  455,  456,  459,  480,  484,  495,\n        496,  500,  507,  508,  509,  512,  518,  524,  534,  537,  538,\n        544,  547,  551,  558,  564,  567,  568,  570,  581,  582,  587,\n        588,  592,  594,  597,  598,  606,  608,  611,  615,  616,  617,\n        618,  619,  620,  624,  626,  627,  630,  637,  638,  644,  652,\n        656,  659,  662,  663,  669,  670,  675,  686,  694,  699,  701,\n        705,  706,  709,  710,  713,  714,  715,  716,  717,  721,  723,\n        724,  725,  731,  732,  742,  746,  748,  751,  752,  753,  755,\n        764,  765,  766,  767,  771,  772,  773,  775,  776,  778,  779,\n        781,  793,  798,  804,  810,  811,  812,  815,  816,  822,  825,\n        826,  827,  829,  832,  835,  847,  852,  855,  860,  879,  880,\n        881,  889,  890,  891,  893,  896,  902,  904,  905,  909,  911,\n        916,  917,  927,  932,  933,  936,  941,  944,  945,  949,  951,\n        953,  956,  959,  967,  968,  970,  971,  973,  977,  979,  981,\n        982,  983,  985,  986,  987,  989,  990,  997, 1000, 1002, 1005,\n       1012, 1017, 1026, 1027, 1028, 1033, 1039, 1042, 1046, 1047, 1054,\n       1055, 1056, 1058, 1060, 1061, 1067, 1070, 1071, 1077, 1080, 1082,\n       1083, 1085, 1089, 1093, 1097, 1098, 1104, 1105, 1107, 1116, 1119,\n       1124, 1125, 1132, 1139, 1141, 1143, 1147, 1149, 1150, 1153, 1156,\n       1165, 1166, 1167, 1173, 1179, 1180, 1183, 1185, 1189, 1195, 1208,\n       1210, 1212, 1216, 1217, 1219, 1232, 1233, 1237, 1242, 1246, 1248,\n       1250, 1252, 1255, 1258, 1259, 1267, 1268, 1269, 1272, 1273, 1279,\n       1281, 1284, 1287, 1292, 1296, 1302, 1306, 1316, 1317, 1318, 1320,\n       1330, 1341, 1345, 1352, 1354, 1364, 1365, 1369, 1372, 1383, 1384,\n       1388, 1390, 1392, 1394, 1395, 1400, 1417, 1422, 1424, 1434, 1439,\n       1442, 1443, 1445, 1451, 1457, 1459, 1468, 1472, 1473, 1474, 1481,\n       1482, 1483, 1484, 1485, 1490, 1493, 1494, 1503, 1508, 1509, 1510,\n       1511, 1513, 1516, 1519, 1530, 1539, 1544, 1546, 1550, 1554, 1559,\n       1564, 1570, 1573, 1581, 1583, 1588, 1599, 1601, 1608, 1615, 1616,\n       1618], dtype=int64)"
     },
     "execution_count": 73,
     "metadata": {},
     "output_type": "execute_result"
    }
   ],
   "source": [
    "index = np.where(model.labels_ == 1)[0]\n",
    "index"
   ],
   "metadata": {
    "collapsed": false,
    "pycharm": {
     "name": "#%%\n"
    }
   }
  },
  {
   "cell_type": "code",
   "execution_count": 74,
   "outputs": [
    {
     "data": {
      "text/plain": "array([WindowsPath('C:/Users/s2231/PycharmProjects/FastFlow/Fast_flow/FastFlow/data/package_square/cut/OK_Clip/1_Cam1_000597.jpg'),\n       WindowsPath('C:/Users/s2231/PycharmProjects/FastFlow/Fast_flow/FastFlow/data/package_square/cut/OK_Clip/1_Cam1_000200.jpg'),\n       WindowsPath('C:/Users/s2231/PycharmProjects/FastFlow/Fast_flow/FastFlow/data/package_square/cut/OK_Clip/1_Cam1_000576.jpg'),\n       WindowsPath('C:/Users/s2231/PycharmProjects/FastFlow/Fast_flow/FastFlow/data/package_square/cut/OK_Clip/2_Cam1_000231.jpg'),\n       WindowsPath('C:/Users/s2231/PycharmProjects/FastFlow/Fast_flow/FastFlow/data/package_square/cut/OK_Clip/2_Cam1_000997.jpg'),\n       WindowsPath('C:/Users/s2231/PycharmProjects/FastFlow/Fast_flow/FastFlow/data/package_square/cut/OK_Clip/2_Cam1_000539.jpg'),\n       WindowsPath('C:/Users/s2231/PycharmProjects/FastFlow/Fast_flow/FastFlow/data/package_square/cut/OK_Clip/1_Cam1_000029.jpg'),\n       WindowsPath('C:/Users/s2231/PycharmProjects/FastFlow/Fast_flow/FastFlow/data/package_square/cut/OK_Clip/1_Cam1_000321.jpg'),\n       WindowsPath('C:/Users/s2231/PycharmProjects/FastFlow/Fast_flow/FastFlow/data/package_square/cut/OK_Clip/2_Cam1_000190.jpg'),\n       WindowsPath('C:/Users/s2231/PycharmProjects/FastFlow/Fast_flow/FastFlow/data/package_square/cut/OK_Clip/2_Cam1_000640.jpg'),\n       WindowsPath('C:/Users/s2231/PycharmProjects/FastFlow/Fast_flow/FastFlow/data/package_square/cut/OK_Clip/1_Cam1_000402.jpg'),\n       WindowsPath('C:/Users/s2231/PycharmProjects/FastFlow/Fast_flow/FastFlow/data/package_square/cut/OK_Clip/2_Cam1_000166.jpg'),\n       WindowsPath('C:/Users/s2231/PycharmProjects/FastFlow/Fast_flow/FastFlow/data/package_square/cut/OK_Clip/2_Cam1_000215.jpg'),\n       WindowsPath('C:/Users/s2231/PycharmProjects/FastFlow/Fast_flow/FastFlow/data/package_square/cut/OK_Clip/1_Cam1_000021.jpg'),\n       WindowsPath('C:/Users/s2231/PycharmProjects/FastFlow/Fast_flow/FastFlow/data/package_square/cut/OK_Clip/1_Cam1_000372.jpg'),\n       WindowsPath('C:/Users/s2231/PycharmProjects/FastFlow/Fast_flow/FastFlow/data/package_square/cut/OK_Clip/2_Cam1_000354.jpg'),\n       WindowsPath('C:/Users/s2231/PycharmProjects/FastFlow/Fast_flow/FastFlow/data/package_square/cut/OK_Clip/2_Cam1_000392.jpg'),\n       WindowsPath('C:/Users/s2231/PycharmProjects/FastFlow/Fast_flow/FastFlow/data/package_square/cut/OK_Clip/2_Cam1_001059.jpg'),\n       WindowsPath('C:/Users/s2231/PycharmProjects/FastFlow/Fast_flow/FastFlow/data/package_square/cut/OK_Clip/2_Cam1_000759.jpg'),\n       WindowsPath('C:/Users/s2231/PycharmProjects/FastFlow/Fast_flow/FastFlow/data/package_square/cut/OK_Clip/1_Cam1_000350.jpg'),\n       WindowsPath('C:/Users/s2231/PycharmProjects/FastFlow/Fast_flow/FastFlow/data/package_square/cut/OK_Clip/2_Cam1_000676.jpg'),\n       WindowsPath('C:/Users/s2231/PycharmProjects/FastFlow/Fast_flow/FastFlow/data/package_square/cut/OK_Clip/1_Cam1_000528.jpg'),\n       WindowsPath('C:/Users/s2231/PycharmProjects/FastFlow/Fast_flow/FastFlow/data/package_square/cut/OK_Clip/2_Cam1_000554.jpg'),\n       WindowsPath('C:/Users/s2231/PycharmProjects/FastFlow/Fast_flow/FastFlow/data/package_square/cut/OK_Clip/2_Cam1_000605.jpg'),\n       WindowsPath('C:/Users/s2231/PycharmProjects/FastFlow/Fast_flow/FastFlow/data/package_square/cut/OK_Clip/2_Cam1_000592.jpg'),\n       WindowsPath('C:/Users/s2231/PycharmProjects/FastFlow/Fast_flow/FastFlow/data/package_square/cut/OK_Clip/2_Cam1_000023.jpg'),\n       WindowsPath('C:/Users/s2231/PycharmProjects/FastFlow/Fast_flow/FastFlow/data/package_square/cut/OK_Clip/1_Cam1_000054.jpg'),\n       WindowsPath('C:/Users/s2231/PycharmProjects/FastFlow/Fast_flow/FastFlow/data/package_square/cut/OK_Clip/1_Cam1_000181.jpg'),\n       WindowsPath('C:/Users/s2231/PycharmProjects/FastFlow/Fast_flow/FastFlow/data/package_square/cut/OK_Clip/2_Cam1_000001.jpg'),\n       WindowsPath('C:/Users/s2231/PycharmProjects/FastFlow/Fast_flow/FastFlow/data/package_square/cut/OK_Clip/1_Cam1_000182.jpg'),\n       WindowsPath('C:/Users/s2231/PycharmProjects/FastFlow/Fast_flow/FastFlow/data/package_square/cut/OK_Clip/1_Cam1_000423.jpg'),\n       WindowsPath('C:/Users/s2231/PycharmProjects/FastFlow/Fast_flow/FastFlow/data/package_square/cut/OK_Clip/2_Cam1_000884.jpg'),\n       WindowsPath('C:/Users/s2231/PycharmProjects/FastFlow/Fast_flow/FastFlow/data/package_square/cut/OK_Clip/1_Cam1_000575.jpg'),\n       WindowsPath('C:/Users/s2231/PycharmProjects/FastFlow/Fast_flow/FastFlow/data/package_square/cut/OK_Clip/1_Cam1_000478.jpg'),\n       WindowsPath('C:/Users/s2231/PycharmProjects/FastFlow/Fast_flow/FastFlow/data/package_square/cut/OK_Clip/2_Cam1_000953.jpg'),\n       WindowsPath('C:/Users/s2231/PycharmProjects/FastFlow/Fast_flow/FastFlow/data/package_square/cut/OK_Clip/2_Cam1_000996.jpg'),\n       WindowsPath('C:/Users/s2231/PycharmProjects/FastFlow/Fast_flow/FastFlow/data/package_square/cut/OK_Clip/2_Cam1_000045.jpg'),\n       WindowsPath('C:/Users/s2231/PycharmProjects/FastFlow/Fast_flow/FastFlow/data/package_square/cut/OK_Clip/2_Cam1_001025.jpg'),\n       WindowsPath('C:/Users/s2231/PycharmProjects/FastFlow/Fast_flow/FastFlow/data/package_square/cut/OK_Clip/2_Cam1_001146.jpg'),\n       WindowsPath('C:/Users/s2231/PycharmProjects/FastFlow/Fast_flow/FastFlow/data/package_square/cut/OK_Clip/2_Cam1_000774.jpg'),\n       WindowsPath('C:/Users/s2231/PycharmProjects/FastFlow/Fast_flow/FastFlow/data/package_square/cut/OK_Clip/2_Cam1_000591.jpg'),\n       WindowsPath('C:/Users/s2231/PycharmProjects/FastFlow/Fast_flow/FastFlow/data/package_square/cut/OK_Clip/1_Cam1_000400.jpg'),\n       WindowsPath('C:/Users/s2231/PycharmProjects/FastFlow/Fast_flow/FastFlow/data/package_square/cut/OK_Clip/2_Cam1_000696.jpg'),\n       WindowsPath('C:/Users/s2231/PycharmProjects/FastFlow/Fast_flow/FastFlow/data/package_square/cut/OK_Clip/2_Cam1_001089.jpg'),\n       WindowsPath('C:/Users/s2231/PycharmProjects/FastFlow/Fast_flow/FastFlow/data/package_square/cut/OK_Clip/2_Cam1_000370.jpg'),\n       WindowsPath('C:/Users/s2231/PycharmProjects/FastFlow/Fast_flow/FastFlow/data/package_square/cut/OK_Clip/2_Cam1_000773.jpg'),\n       WindowsPath('C:/Users/s2231/PycharmProjects/FastFlow/Fast_flow/FastFlow/data/package_square/cut/OK_Clip/1_Cam1_000167.jpg'),\n       WindowsPath('C:/Users/s2231/PycharmProjects/FastFlow/Fast_flow/FastFlow/data/package_square/cut/OK_Clip/2_Cam1_000556.jpg'),\n       WindowsPath('C:/Users/s2231/PycharmProjects/FastFlow/Fast_flow/FastFlow/data/package_square/cut/OK_Clip/2_Cam1_001012.jpg'),\n       WindowsPath('C:/Users/s2231/PycharmProjects/FastFlow/Fast_flow/FastFlow/data/package_square/cut/OK_Clip/2_Cam1_000026.jpg'),\n       WindowsPath('C:/Users/s2231/PycharmProjects/FastFlow/Fast_flow/FastFlow/data/package_square/cut/OK_Clip/2_Cam1_000314.jpg'),\n       WindowsPath('C:/Users/s2231/PycharmProjects/FastFlow/Fast_flow/FastFlow/data/package_square/cut/OK_Clip/2_Cam1_000553.jpg'),\n       WindowsPath('C:/Users/s2231/PycharmProjects/FastFlow/Fast_flow/FastFlow/data/package_square/cut/OK_Clip/2_Cam1_001129.jpg'),\n       WindowsPath('C:/Users/s2231/PycharmProjects/FastFlow/Fast_flow/FastFlow/data/package_square/cut/OK_Clip/2_Cam1_000982.jpg'),\n       WindowsPath('C:/Users/s2231/PycharmProjects/FastFlow/Fast_flow/FastFlow/data/package_square/cut/OK_Clip/2_Cam1_000433.jpg'),\n       WindowsPath('C:/Users/s2231/PycharmProjects/FastFlow/Fast_flow/FastFlow/data/package_square/cut/OK_Clip/1_Cam1_000216.jpg'),\n       WindowsPath('C:/Users/s2231/PycharmProjects/FastFlow/Fast_flow/FastFlow/data/package_square/cut/OK_Clip/2_Cam1_000479.jpg'),\n       WindowsPath('C:/Users/s2231/PycharmProjects/FastFlow/Fast_flow/FastFlow/data/package_square/cut/OK_Clip/1_Cam1_000388.jpg'),\n       WindowsPath('C:/Users/s2231/PycharmProjects/FastFlow/Fast_flow/FastFlow/data/package_square/cut/OK_Clip/1_Cam1_000428.jpg'),\n       WindowsPath('C:/Users/s2231/PycharmProjects/FastFlow/Fast_flow/FastFlow/data/package_square/cut/OK_Clip/2_Cam1_001178.jpg'),\n       WindowsPath('C:/Users/s2231/PycharmProjects/FastFlow/Fast_flow/FastFlow/data/package_square/cut/OK_Clip/2_Cam1_000657.jpg'),\n       WindowsPath('C:/Users/s2231/PycharmProjects/FastFlow/Fast_flow/FastFlow/data/package_square/cut/OK_Clip/1_Cam1_000075.jpg'),\n       WindowsPath('C:/Users/s2231/PycharmProjects/FastFlow/Fast_flow/FastFlow/data/package_square/cut/OK_Clip/2_Cam1_000046.jpg'),\n       WindowsPath('C:/Users/s2231/PycharmProjects/FastFlow/Fast_flow/FastFlow/data/package_square/cut/OK_Clip/2_Cam1_000353.jpg'),\n       WindowsPath('C:/Users/s2231/PycharmProjects/FastFlow/Fast_flow/FastFlow/data/package_square/cut/OK_Clip/2_Cam1_000272.jpg'),\n       WindowsPath('C:/Users/s2231/PycharmProjects/FastFlow/Fast_flow/FastFlow/data/package_square/cut/OK_Clip/2_Cam1_000756.jpg'),\n       WindowsPath('C:/Users/s2231/PycharmProjects/FastFlow/Fast_flow/FastFlow/data/package_square/cut/OK_Clip/2_Cam1_000968.jpg'),\n       WindowsPath('C:/Users/s2231/PycharmProjects/FastFlow/Fast_flow/FastFlow/data/package_square/cut/OK_Clip/1_Cam1_000403.jpg'),\n       WindowsPath('C:/Users/s2231/PycharmProjects/FastFlow/Fast_flow/FastFlow/data/package_square/cut/OK_Clip/2_Cam1_000273.jpg'),\n       WindowsPath('C:/Users/s2231/PycharmProjects/FastFlow/Fast_flow/FastFlow/data/package_square/cut/OK_Clip/2_Cam1_000898.jpg'),\n       WindowsPath('C:/Users/s2231/PycharmProjects/FastFlow/Fast_flow/FastFlow/data/package_square/cut/OK_Clip/2_Cam1_000460.jpg'),\n       WindowsPath('C:/Users/s2231/PycharmProjects/FastFlow/Fast_flow/FastFlow/data/package_square/cut/OK_Clip/2_Cam1_000594.jpg'),\n       WindowsPath('C:/Users/s2231/PycharmProjects/FastFlow/Fast_flow/FastFlow/data/package_square/cut/OK_Clip/1_Cam1_000032.jpg'),\n       WindowsPath('C:/Users/s2231/PycharmProjects/FastFlow/Fast_flow/FastFlow/data/package_square/cut/OK_Clip/1_Cam1_000352.jpg'),\n       WindowsPath('C:/Users/s2231/PycharmProjects/FastFlow/Fast_flow/FastFlow/data/package_square/cut/OK_Clip/2_Cam1_000132.jpg'),\n       WindowsPath('C:/Users/s2231/PycharmProjects/FastFlow/Fast_flow/FastFlow/data/package_square/cut/OK_Clip/1_Cam1_000112.jpg'),\n       WindowsPath('C:/Users/s2231/PycharmProjects/FastFlow/Fast_flow/FastFlow/data/package_square/cut/OK_Clip/2_Cam1_000251.jpg'),\n       WindowsPath('C:/Users/s2231/PycharmProjects/FastFlow/Fast_flow/FastFlow/data/package_square/cut/OK_Clip/1_Cam1_000215.jpg'),\n       WindowsPath('C:/Users/s2231/PycharmProjects/FastFlow/Fast_flow/FastFlow/data/package_square/cut/OK_Clip/2_Cam1_000843.jpg'),\n       WindowsPath('C:/Users/s2231/PycharmProjects/FastFlow/Fast_flow/FastFlow/data/package_square/cut/OK_Clip/1_Cam1_000050.jpg'),\n       WindowsPath('C:/Users/s2231/PycharmProjects/FastFlow/Fast_flow/FastFlow/data/package_square/cut/OK_Clip/2_Cam1_000590.jpg'),\n       WindowsPath('C:/Users/s2231/PycharmProjects/FastFlow/Fast_flow/FastFlow/data/package_square/cut/OK_Clip/2_Cam1_000789.jpg'),\n       WindowsPath('C:/Users/s2231/PycharmProjects/FastFlow/Fast_flow/FastFlow/data/package_square/cut/OK_Clip/2_Cam1_001042.jpg'),\n       WindowsPath('C:/Users/s2231/PycharmProjects/FastFlow/Fast_flow/FastFlow/data/package_square/cut/OK_Clip/2_Cam1_000621.jpg'),\n       WindowsPath('C:/Users/s2231/PycharmProjects/FastFlow/Fast_flow/FastFlow/data/package_square/cut/OK_Clip/1_Cam1_000114.jpg'),\n       WindowsPath('C:/Users/s2231/PycharmProjects/FastFlow/Fast_flow/FastFlow/data/package_square/cut/OK_Clip/2_Cam1_000897.jpg'),\n       WindowsPath('C:/Users/s2231/PycharmProjects/FastFlow/Fast_flow/FastFlow/data/package_square/cut/OK_Clip/1_Cam1_000483.jpg'),\n       WindowsPath('C:/Users/s2231/PycharmProjects/FastFlow/Fast_flow/FastFlow/data/package_square/cut/OK_Clip/2_Cam1_000253.jpg'),\n       WindowsPath('C:/Users/s2231/PycharmProjects/FastFlow/Fast_flow/FastFlow/data/package_square/cut/OK_Clip/2_Cam1_000862.jpg'),\n       WindowsPath('C:/Users/s2231/PycharmProjects/FastFlow/Fast_flow/FastFlow/data/package_square/cut/OK_Clip/1_Cam1_000242.jpg'),\n       WindowsPath('C:/Users/s2231/PycharmProjects/FastFlow/Fast_flow/FastFlow/data/package_square/cut/OK_Clip/2_Cam1_000232.jpg'),\n       WindowsPath('C:/Users/s2231/PycharmProjects/FastFlow/Fast_flow/FastFlow/data/package_square/cut/OK_Clip/2_Cam1_000292.jpg'),\n       WindowsPath('C:/Users/s2231/PycharmProjects/FastFlow/Fast_flow/FastFlow/data/package_square/cut/OK_Clip/2_Cam1_000722.jpg'),\n       WindowsPath('C:/Users/s2231/PycharmProjects/FastFlow/Fast_flow/FastFlow/data/package_square/cut/OK_Clip/1_Cam1_000598.jpg'),\n       WindowsPath('C:/Users/s2231/PycharmProjects/FastFlow/Fast_flow/FastFlow/data/package_square/cut/OK_Clip/2_Cam1_000312.jpg'),\n       WindowsPath('C:/Users/s2231/PycharmProjects/FastFlow/Fast_flow/FastFlow/data/package_square/cut/OK_Clip/2_Cam1_000457.jpg'),\n       WindowsPath('C:/Users/s2231/PycharmProjects/FastFlow/Fast_flow/FastFlow/data/package_square/cut/OK_Clip/2_Cam1_000863.jpg'),\n       WindowsPath('C:/Users/s2231/PycharmProjects/FastFlow/Fast_flow/FastFlow/data/package_square/cut/OK_Clip/1_Cam1_000529.jpg'),\n       WindowsPath('C:/Users/s2231/PycharmProjects/FastFlow/Fast_flow/FastFlow/data/package_square/cut/OK_Clip/1_Cam1_000145.jpg'),\n       WindowsPath('C:/Users/s2231/PycharmProjects/FastFlow/Fast_flow/FastFlow/data/package_square/cut/OK_Clip/1_Cam1_000078.jpg'),\n       WindowsPath('C:/Users/s2231/PycharmProjects/FastFlow/Fast_flow/FastFlow/data/package_square/cut/OK_Clip/2_Cam1_000186.jpg'),\n       WindowsPath('C:/Users/s2231/PycharmProjects/FastFlow/Fast_flow/FastFlow/data/package_square/cut/OK_Clip/2_Cam1_000233.jpg'),\n       WindowsPath('C:/Users/s2231/PycharmProjects/FastFlow/Fast_flow/FastFlow/data/package_square/cut/OK_Clip/2_Cam1_000655.jpg'),\n       WindowsPath('C:/Users/s2231/PycharmProjects/FastFlow/Fast_flow/FastFlow/data/package_square/cut/OK_Clip/1_Cam1_000264.jpg'),\n       WindowsPath('C:/Users/s2231/PycharmProjects/FastFlow/Fast_flow/FastFlow/data/package_square/cut/OK_Clip/1_Cam1_000169.jpg'),\n       WindowsPath('C:/Users/s2231/PycharmProjects/FastFlow/Fast_flow/FastFlow/data/package_square/cut/OK_Clip/2_Cam1_001107.jpg'),\n       WindowsPath('C:/Users/s2231/PycharmProjects/FastFlow/Fast_flow/FastFlow/data/package_square/cut/OK_Clip/2_Cam1_001090.jpg'),\n       WindowsPath('C:/Users/s2231/PycharmProjects/FastFlow/Fast_flow/FastFlow/data/package_square/cut/OK_Clip/2_Cam1_000249.jpg'),\n       WindowsPath('C:/Users/s2231/PycharmProjects/FastFlow/Fast_flow/FastFlow/data/package_square/cut/OK_Clip/2_Cam1_001105.jpg'),\n       WindowsPath('C:/Users/s2231/PycharmProjects/FastFlow/Fast_flow/FastFlow/data/package_square/cut/OK_Clip/2_Cam1_000572.jpg'),\n       WindowsPath('C:/Users/s2231/PycharmProjects/FastFlow/Fast_flow/FastFlow/data/package_square/cut/OK_Clip/2_Cam1_001058.jpg'),\n       WindowsPath('C:/Users/s2231/PycharmProjects/FastFlow/Fast_flow/FastFlow/data/package_square/cut/OK_Clip/1_Cam1_000236.jpg'),\n       WindowsPath('C:/Users/s2231/PycharmProjects/FastFlow/Fast_flow/FastFlow/data/package_square/cut/OK_Clip/1_Cam1_000294.jpg'),\n       WindowsPath('C:/Users/s2231/PycharmProjects/FastFlow/Fast_flow/FastFlow/data/package_square/cut/OK_Clip/1_Cam1_000023.jpg'),\n       WindowsPath('C:/Users/s2231/PycharmProjects/FastFlow/Fast_flow/FastFlow/data/package_square/cut/OK_Clip/2_Cam1_000185.jpg'),\n       WindowsPath('C:/Users/s2231/PycharmProjects/FastFlow/Fast_flow/FastFlow/data/package_square/cut/OK_Clip/2_Cam1_000693.jpg'),\n       WindowsPath('C:/Users/s2231/PycharmProjects/FastFlow/Fast_flow/FastFlow/data/package_square/cut/OK_Clip/1_Cam1_000599.jpg'),\n       WindowsPath('C:/Users/s2231/PycharmProjects/FastFlow/Fast_flow/FastFlow/data/package_square/cut/OK_Clip/2_Cam1_000080.jpg'),\n       WindowsPath('C:/Users/s2231/PycharmProjects/FastFlow/Fast_flow/FastFlow/data/package_square/cut/OK_Clip/1_Cam1_000243.jpg'),\n       WindowsPath('C:/Users/s2231/PycharmProjects/FastFlow/Fast_flow/FastFlow/data/package_square/cut/OK_Clip/1_Cam1_000204.jpg'),\n       WindowsPath('C:/Users/s2231/PycharmProjects/FastFlow/Fast_flow/FastFlow/data/package_square/cut/OK_Clip/2_Cam1_001060.jpg'),\n       WindowsPath('C:/Users/s2231/PycharmProjects/FastFlow/Fast_flow/FastFlow/data/package_square/cut/OK_Clip/2_Cam1_000003.jpg'),\n       WindowsPath('C:/Users/s2231/PycharmProjects/FastFlow/Fast_flow/FastFlow/data/package_square/cut/OK_Clip/2_Cam1_000230.jpg'),\n       WindowsPath('C:/Users/s2231/PycharmProjects/FastFlow/Fast_flow/FastFlow/data/package_square/cut/OK_Clip/2_Cam1_001133.jpg'),\n       WindowsPath('C:/Users/s2231/PycharmProjects/FastFlow/Fast_flow/FastFlow/data/package_square/cut/OK_Clip/2_Cam1_000902.jpg'),\n       WindowsPath('C:/Users/s2231/PycharmProjects/FastFlow/Fast_flow/FastFlow/data/package_square/cut/OK_Clip/1_Cam1_000580.jpg'),\n       WindowsPath('C:/Users/s2231/PycharmProjects/FastFlow/Fast_flow/FastFlow/data/package_square/cut/OK_Clip/2_Cam1_000723.jpg'),\n       WindowsPath('C:/Users/s2231/PycharmProjects/FastFlow/Fast_flow/FastFlow/data/package_square/cut/OK_Clip/1_Cam1_000048.jpg'),\n       WindowsPath('C:/Users/s2231/PycharmProjects/FastFlow/Fast_flow/FastFlow/data/package_square/cut/OK_Clip/1_Cam1_000171.jpg'),\n       WindowsPath('C:/Users/s2231/PycharmProjects/FastFlow/Fast_flow/FastFlow/data/package_square/cut/OK_Clip/2_Cam1_000005.jpg'),\n       WindowsPath('C:/Users/s2231/PycharmProjects/FastFlow/Fast_flow/FastFlow/data/package_square/cut/OK_Clip/1_Cam1_000445.jpg'),\n       WindowsPath('C:/Users/s2231/PycharmProjects/FastFlow/Fast_flow/FastFlow/data/package_square/cut/OK_Clip/2_Cam1_000291.jpg'),\n       WindowsPath('C:/Users/s2231/PycharmProjects/FastFlow/Fast_flow/FastFlow/data/package_square/cut/OK_Clip/1_Cam1_000241.jpg'),\n       WindowsPath('C:/Users/s2231/PycharmProjects/FastFlow/Fast_flow/FastFlow/data/package_square/cut/OK_Clip/1_Cam1_000325.jpg'),\n       WindowsPath('C:/Users/s2231/PycharmProjects/FastFlow/Fast_flow/FastFlow/data/package_square/cut/OK_Clip/2_Cam1_000641.jpg'),\n       WindowsPath('C:/Users/s2231/PycharmProjects/FastFlow/Fast_flow/FastFlow/data/package_square/cut/OK_Clip/2_Cam1_000952.jpg'),\n       WindowsPath('C:/Users/s2231/PycharmProjects/FastFlow/Fast_flow/FastFlow/data/package_square/cut/OK_Clip/1_Cam1_000347.jpg'),\n       WindowsPath('C:/Users/s2231/PycharmProjects/FastFlow/Fast_flow/FastFlow/data/package_square/cut/OK_Clip/1_Cam1_000451.jpg'),\n       WindowsPath('C:/Users/s2231/PycharmProjects/FastFlow/Fast_flow/FastFlow/data/package_square/cut/OK_Clip/2_Cam1_001024.jpg'),\n       WindowsPath('C:/Users/s2231/PycharmProjects/FastFlow/Fast_flow/FastFlow/data/package_square/cut/OK_Clip/2_Cam1_000981.jpg'),\n       WindowsPath('C:/Users/s2231/PycharmProjects/FastFlow/Fast_flow/FastFlow/data/package_square/cut/OK_Clip/2_Cam1_000881.jpg'),\n       WindowsPath('C:/Users/s2231/PycharmProjects/FastFlow/Fast_flow/FastFlow/data/package_square/cut/OK_Clip/2_Cam1_001208.jpg'),\n       WindowsPath('C:/Users/s2231/PycharmProjects/FastFlow/Fast_flow/FastFlow/data/package_square/cut/OK_Clip/1_Cam1_000425.jpg'),\n       WindowsPath('C:/Users/s2231/PycharmProjects/FastFlow/Fast_flow/FastFlow/data/package_square/cut/OK_Clip/2_Cam1_000498.jpg'),\n       WindowsPath('C:/Users/s2231/PycharmProjects/FastFlow/Fast_flow/FastFlow/data/package_square/cut/OK_Clip/2_Cam1_000934.jpg'),\n       WindowsPath('C:/Users/s2231/PycharmProjects/FastFlow/Fast_flow/FastFlow/data/package_square/cut/OK_Clip/1_Cam1_000484.jpg'),\n       WindowsPath('C:/Users/s2231/PycharmProjects/FastFlow/Fast_flow/FastFlow/data/package_square/cut/OK_Clip/1_Cam1_000495.jpg'),\n       WindowsPath('C:/Users/s2231/PycharmProjects/FastFlow/Fast_flow/FastFlow/data/package_square/cut/OK_Clip/1_Cam1_000426.jpg'),\n       WindowsPath('C:/Users/s2231/PycharmProjects/FastFlow/Fast_flow/FastFlow/data/package_square/cut/OK_Clip/2_Cam1_000518.jpg'),\n       WindowsPath('C:/Users/s2231/PycharmProjects/FastFlow/Fast_flow/FastFlow/data/package_square/cut/OK_Clip/2_Cam1_000271.jpg'),\n       WindowsPath('C:/Users/s2231/PycharmProjects/FastFlow/Fast_flow/FastFlow/data/package_square/cut/OK_Clip/1_Cam1_000565.jpg'),\n       WindowsPath('C:/Users/s2231/PycharmProjects/FastFlow/Fast_flow/FastFlow/data/package_square/cut/OK_Clip/1_Cam1_000295.jpg'),\n       WindowsPath('C:/Users/s2231/PycharmProjects/FastFlow/Fast_flow/FastFlow/data/package_square/cut/OK_Clip/2_Cam1_000555.jpg'),\n       WindowsPath('C:/Users/s2231/PycharmProjects/FastFlow/Fast_flow/FastFlow/data/package_square/cut/OK_Clip/2_Cam1_000432.jpg'),\n       WindowsPath('C:/Users/s2231/PycharmProjects/FastFlow/Fast_flow/FastFlow/data/package_square/cut/OK_Clip/1_Cam1_000371.jpg'),\n       WindowsPath('C:/Users/s2231/PycharmProjects/FastFlow/Fast_flow/FastFlow/data/package_square/cut/OK_Clip/2_Cam1_000294.jpg'),\n       WindowsPath('C:/Users/s2231/PycharmProjects/FastFlow/Fast_flow/FastFlow/data/package_square/cut/OK_Clip/2_Cam1_000044.jpg'),\n       WindowsPath('C:/Users/s2231/PycharmProjects/FastFlow/Fast_flow/FastFlow/data/package_square/cut/OK_Clip/2_Cam1_000847.jpg'),\n       WindowsPath('C:/Users/s2231/PycharmProjects/FastFlow/Fast_flow/FastFlow/data/package_square/cut/OK_Clip/2_Cam1_000658.jpg'),\n       WindowsPath('C:/Users/s2231/PycharmProjects/FastFlow/Fast_flow/FastFlow/data/package_square/cut/OK_Clip/2_Cam1_000081.jpg'),\n       WindowsPath('C:/Users/s2231/PycharmProjects/FastFlow/Fast_flow/FastFlow/data/package_square/cut/OK_Clip/1_Cam1_000422.jpg'),\n       WindowsPath('C:/Users/s2231/PycharmProjects/FastFlow/Fast_flow/FastFlow/data/package_square/cut/OK_Clip/2_Cam1_000844.jpg'),\n       WindowsPath('C:/Users/s2231/PycharmProjects/FastFlow/Fast_flow/FastFlow/data/package_square/cut/OK_Clip/2_Cam1_000448.jpg'),\n       WindowsPath('C:/Users/s2231/PycharmProjects/FastFlow/Fast_flow/FastFlow/data/package_square/cut/OK_Clip/1_Cam1_000600.jpg'),\n       WindowsPath('C:/Users/s2231/PycharmProjects/FastFlow/Fast_flow/FastFlow/data/package_square/cut/OK_Clip/1_Cam1_000532.jpg'),\n       WindowsPath('C:/Users/s2231/PycharmProjects/FastFlow/Fast_flow/FastFlow/data/package_square/cut/OK_Clip/2_Cam1_000212.jpg'),\n       WindowsPath('C:/Users/s2231/PycharmProjects/FastFlow/Fast_flow/FastFlow/data/package_square/cut/OK_Clip/2_Cam1_001121.jpg'),\n       WindowsPath('C:/Users/s2231/PycharmProjects/FastFlow/Fast_flow/FastFlow/data/package_square/cut/OK_Clip/1_Cam1_000022.jpg'),\n       WindowsPath('C:/Users/s2231/PycharmProjects/FastFlow/Fast_flow/FastFlow/data/package_square/cut/OK_Clip/2_Cam1_000061.jpg'),\n       WindowsPath('C:/Users/s2231/PycharmProjects/FastFlow/Fast_flow/FastFlow/data/package_square/cut/OK_Clip/2_Cam1_000758.jpg'),\n       WindowsPath('C:/Users/s2231/PycharmProjects/FastFlow/Fast_flow/FastFlow/data/package_square/cut/OK_Clip/2_Cam1_001161.jpg'),\n       WindowsPath('C:/Users/s2231/PycharmProjects/FastFlow/Fast_flow/FastFlow/data/package_square/cut/OK_Clip/2_Cam1_000458.jpg'),\n       WindowsPath('C:/Users/s2231/PycharmProjects/FastFlow/Fast_flow/FastFlow/data/package_square/cut/OK_Clip/2_Cam1_001106.jpg'),\n       WindowsPath('C:/Users/s2231/PycharmProjects/FastFlow/Fast_flow/FastFlow/data/package_square/cut/OK_Clip/2_Cam1_000461.jpg'),\n       WindowsPath('C:/Users/s2231/PycharmProjects/FastFlow/Fast_flow/FastFlow/data/package_square/cut/OK_Clip/2_Cam1_000604.jpg'),\n       WindowsPath('C:/Users/s2231/PycharmProjects/FastFlow/Fast_flow/FastFlow/data/package_square/cut/OK_Clip/2_Cam1_000214.jpg'),\n       WindowsPath('C:/Users/s2231/PycharmProjects/FastFlow/Fast_flow/FastFlow/data/package_square/cut/OK_Clip/1_Cam1_000480.jpg'),\n       WindowsPath('C:/Users/s2231/PycharmProjects/FastFlow/Fast_flow/FastFlow/data/package_square/cut/OK_Clip/2_Cam1_000951.jpg'),\n       WindowsPath('C:/Users/s2231/PycharmProjects/FastFlow/Fast_flow/FastFlow/data/package_square/cut/OK_Clip/2_Cam1_000500.jpg'),\n       WindowsPath('C:/Users/s2231/PycharmProjects/FastFlow/Fast_flow/FastFlow/data/package_square/cut/OK_Clip/1_Cam1_000610.jpg'),\n       WindowsPath('C:/Users/s2231/PycharmProjects/FastFlow/Fast_flow/FastFlow/data/package_square/cut/OK_Clip/1_Cam1_000170.jpg'),\n       WindowsPath('C:/Users/s2231/PycharmProjects/FastFlow/Fast_flow/FastFlow/data/package_square/cut/OK_Clip/2_Cam1_000234.jpg'),\n       WindowsPath('C:/Users/s2231/PycharmProjects/FastFlow/Fast_flow/FastFlow/data/package_square/cut/OK_Clip/1_Cam1_000273.jpg'),\n       WindowsPath('C:/Users/s2231/PycharmProjects/FastFlow/Fast_flow/FastFlow/data/package_square/cut/OK_Clip/1_Cam1_000203.jpg'),\n       WindowsPath('C:/Users/s2231/PycharmProjects/FastFlow/Fast_flow/FastFlow/data/package_square/cut/OK_Clip/2_Cam1_000865.jpg'),\n       WindowsPath('C:/Users/s2231/PycharmProjects/FastFlow/Fast_flow/FastFlow/data/package_square/cut/OK_Clip/1_Cam1_000240.jpg'),\n       WindowsPath('C:/Users/s2231/PycharmProjects/FastFlow/Fast_flow/FastFlow/data/package_square/cut/OK_Clip/1_Cam1_000238.jpg'),\n       WindowsPath('C:/Users/s2231/PycharmProjects/FastFlow/Fast_flow/FastFlow/data/package_square/cut/OK_Clip/1_Cam1_000609.jpg'),\n       WindowsPath('C:/Users/s2231/PycharmProjects/FastFlow/Fast_flow/FastFlow/data/package_square/cut/OK_Clip/2_Cam1_001104.jpg'),\n       WindowsPath('C:/Users/s2231/PycharmProjects/FastFlow/Fast_flow/FastFlow/data/package_square/cut/OK_Clip/1_Cam1_000077.jpg'),\n       WindowsPath('C:/Users/s2231/PycharmProjects/FastFlow/Fast_flow/FastFlow/data/package_square/cut/OK_Clip/1_Cam1_000566.jpg'),\n       WindowsPath('C:/Users/s2231/PycharmProjects/FastFlow/Fast_flow/FastFlow/data/package_square/cut/OK_Clip/2_Cam1_001211.jpg'),\n       WindowsPath('C:/Users/s2231/PycharmProjects/FastFlow/Fast_flow/FastFlow/data/package_square/cut/OK_Clip/2_Cam1_000845.jpg'),\n       WindowsPath('C:/Users/s2231/PycharmProjects/FastFlow/Fast_flow/FastFlow/data/package_square/cut/OK_Clip/2_Cam1_000128.jpg'),\n       WindowsPath('C:/Users/s2231/PycharmProjects/FastFlow/Fast_flow/FastFlow/data/package_square/cut/OK_Clip/2_Cam1_000639.jpg'),\n       WindowsPath('C:/Users/s2231/PycharmProjects/FastFlow/Fast_flow/FastFlow/data/package_square/cut/OK_Clip/1_Cam1_000427.jpg'),\n       WindowsPath('C:/Users/s2231/PycharmProjects/FastFlow/Fast_flow/FastFlow/data/package_square/cut/OK_Clip/2_Cam1_000372.jpg'),\n       WindowsPath('C:/Users/s2231/PycharmProjects/FastFlow/Fast_flow/FastFlow/data/package_square/cut/OK_Clip/1_Cam1_000577.jpg'),\n       WindowsPath('C:/Users/s2231/PycharmProjects/FastFlow/Fast_flow/FastFlow/data/package_square/cut/OK_Clip/2_Cam1_001191.jpg'),\n       WindowsPath('C:/Users/s2231/PycharmProjects/FastFlow/Fast_flow/FastFlow/data/package_square/cut/OK_Clip/2_Cam1_000739.jpg'),\n       WindowsPath('C:/Users/s2231/PycharmProjects/FastFlow/Fast_flow/FastFlow/data/package_square/cut/OK_Clip/1_Cam1_000076.jpg'),\n       WindowsPath('C:/Users/s2231/PycharmProjects/FastFlow/Fast_flow/FastFlow/data/package_square/cut/OK_Clip/1_Cam1_000504.jpg'),\n       WindowsPath('C:/Users/s2231/PycharmProjects/FastFlow/Fast_flow/FastFlow/data/package_square/cut/OK_Clip/2_Cam1_000915.jpg'),\n       WindowsPath('C:/Users/s2231/PycharmProjects/FastFlow/Fast_flow/FastFlow/data/package_square/cut/OK_Clip/2_Cam1_000846.jpg'),\n       WindowsPath('C:/Users/s2231/PycharmProjects/FastFlow/Fast_flow/FastFlow/data/package_square/cut/OK_Clip/2_Cam1_000537.jpg'),\n       WindowsPath('C:/Users/s2231/PycharmProjects/FastFlow/Fast_flow/FastFlow/data/package_square/cut/OK_Clip/2_Cam1_000918.jpg'),\n       WindowsPath('C:/Users/s2231/PycharmProjects/FastFlow/Fast_flow/FastFlow/data/package_square/cut/OK_Clip/2_Cam1_000451.jpg'),\n       WindowsPath('C:/Users/s2231/PycharmProjects/FastFlow/Fast_flow/FastFlow/data/package_square/cut/OK_Clip/2_Cam1_000499.jpg'),\n       WindowsPath('C:/Users/s2231/PycharmProjects/FastFlow/Fast_flow/FastFlow/data/package_square/cut/OK_Clip/2_Cam1_001041.jpg'),\n       WindowsPath('C:/Users/s2231/PycharmProjects/FastFlow/Fast_flow/FastFlow/data/package_square/cut/OK_Clip/1_Cam1_000292.jpg'),\n       WindowsPath('C:/Users/s2231/PycharmProjects/FastFlow/Fast_flow/FastFlow/data/package_square/cut/OK_Clip/2_Cam1_000606.jpg'),\n       WindowsPath('C:/Users/s2231/PycharmProjects/FastFlow/Fast_flow/FastFlow/data/package_square/cut/OK_Clip/2_Cam1_001145.jpg'),\n       WindowsPath('C:/Users/s2231/PycharmProjects/FastFlow/Fast_flow/FastFlow/data/package_square/cut/OK_Clip/2_Cam1_000024.jpg'),\n       WindowsPath('C:/Users/s2231/PycharmProjects/FastFlow/Fast_flow/FastFlow/data/package_square/cut/OK_Clip/2_Cam1_000917.jpg'),\n       WindowsPath('C:/Users/s2231/PycharmProjects/FastFlow/Fast_flow/FastFlow/data/package_square/cut/OK_Clip/1_Cam1_000370.jpg'),\n       WindowsPath('C:/Users/s2231/PycharmProjects/FastFlow/Fast_flow/FastFlow/data/package_square/cut/OK_Clip/2_Cam1_000707.jpg'),\n       WindowsPath('C:/Users/s2231/PycharmProjects/FastFlow/Fast_flow/FastFlow/data/package_square/cut/OK_Clip/2_Cam1_000659.jpg'),\n       WindowsPath('C:/Users/s2231/PycharmProjects/FastFlow/Fast_flow/FastFlow/data/package_square/cut/OK_Clip/1_Cam1_000290.jpg'),\n       WindowsPath('C:/Users/s2231/PycharmProjects/FastFlow/Fast_flow/FastFlow/data/package_square/cut/OK_Clip/2_Cam1_000979.jpg'),\n       WindowsPath('C:/Users/s2231/PycharmProjects/FastFlow/Fast_flow/FastFlow/data/package_square/cut/OK_Clip/2_Cam1_001131.jpg'),\n       WindowsPath('C:/Users/s2231/PycharmProjects/FastFlow/Fast_flow/FastFlow/data/package_square/cut/OK_Clip/2_Cam1_000077.jpg'),\n       WindowsPath('C:/Users/s2231/PycharmProjects/FastFlow/Fast_flow/FastFlow/data/package_square/cut/OK_Clip/2_Cam1_000151.jpg'),\n       WindowsPath('C:/Users/s2231/PycharmProjects/FastFlow/Fast_flow/FastFlow/data/package_square/cut/OK_Clip/2_Cam1_001091.jpg'),\n       WindowsPath('C:/Users/s2231/PycharmProjects/FastFlow/Fast_flow/FastFlow/data/package_square/cut/OK_Clip/2_Cam1_000131.jpg'),\n       WindowsPath('C:/Users/s2231/PycharmProjects/FastFlow/Fast_flow/FastFlow/data/package_square/cut/OK_Clip/2_Cam1_000109.jpg'),\n       WindowsPath('C:/Users/s2231/PycharmProjects/FastFlow/Fast_flow/FastFlow/data/package_square/cut/OK_Clip/1_Cam1_000124.jpg'),\n       WindowsPath('C:/Users/s2231/PycharmProjects/FastFlow/Fast_flow/FastFlow/data/package_square/cut/OK_Clip/2_Cam1_000642.jpg'),\n       WindowsPath('C:/Users/s2231/PycharmProjects/FastFlow/Fast_flow/FastFlow/data/package_square/cut/OK_Clip/2_Cam1_000350.jpg'),\n       WindowsPath('C:/Users/s2231/PycharmProjects/FastFlow/Fast_flow/FastFlow/data/package_square/cut/OK_Clip/2_Cam1_000772.jpg'),\n       WindowsPath('C:/Users/s2231/PycharmProjects/FastFlow/Fast_flow/FastFlow/data/package_square/cut/OK_Clip/2_Cam1_001015.jpg'),\n       WindowsPath('C:/Users/s2231/PycharmProjects/FastFlow/Fast_flow/FastFlow/data/package_square/cut/OK_Clip/2_Cam1_001193.jpg'),\n       WindowsPath('C:/Users/s2231/PycharmProjects/FastFlow/Fast_flow/FastFlow/data/package_square/cut/OK_Clip/2_Cam1_001210.jpg'),\n       WindowsPath('C:/Users/s2231/PycharmProjects/FastFlow/Fast_flow/FastFlow/data/package_square/cut/OK_Clip/2_Cam1_000079.jpg'),\n       WindowsPath('C:/Users/s2231/PycharmProjects/FastFlow/Fast_flow/FastFlow/data/package_square/cut/OK_Clip/1_Cam1_000018.jpg'),\n       WindowsPath('C:/Users/s2231/PycharmProjects/FastFlow/Fast_flow/FastFlow/data/package_square/cut/OK_Clip/2_Cam1_000936.jpg'),\n       WindowsPath('C:/Users/s2231/PycharmProjects/FastFlow/Fast_flow/FastFlow/data/package_square/cut/OK_Clip/2_Cam1_000738.jpg'),\n       WindowsPath('C:/Users/s2231/PycharmProjects/FastFlow/Fast_flow/FastFlow/data/package_square/cut/OK_Clip/2_Cam1_000108.jpg'),\n       WindowsPath('C:/Users/s2231/PycharmProjects/FastFlow/Fast_flow/FastFlow/data/package_square/cut/OK_Clip/2_Cam1_000430.jpg'),\n       WindowsPath('C:/Users/s2231/PycharmProjects/FastFlow/Fast_flow/FastFlow/data/package_square/cut/OK_Clip/2_Cam1_000349.jpg'),\n       WindowsPath('C:/Users/s2231/PycharmProjects/FastFlow/Fast_flow/FastFlow/data/package_square/cut/OK_Clip/1_Cam1_000530.jpg'),\n       WindowsPath('C:/Users/s2231/PycharmProjects/FastFlow/Fast_flow/FastFlow/data/package_square/cut/OK_Clip/1_Cam1_000611.jpg'),\n       WindowsPath('C:/Users/s2231/PycharmProjects/FastFlow/Fast_flow/FastFlow/data/package_square/cut/OK_Clip/1_Cam1_000349.jpg'),\n       WindowsPath('C:/Users/s2231/PycharmProjects/FastFlow/Fast_flow/FastFlow/data/package_square/cut/OK_Clip/1_Cam1_000265.jpg'),\n       WindowsPath('C:/Users/s2231/PycharmProjects/FastFlow/Fast_flow/FastFlow/data/package_square/cut/OK_Clip/2_Cam1_001056.jpg'),\n       WindowsPath('C:/Users/s2231/PycharmProjects/FastFlow/Fast_flow/FastFlow/data/package_square/cut/OK_Clip/2_Cam1_001016.jpg'),\n       WindowsPath('C:/Users/s2231/PycharmProjects/FastFlow/Fast_flow/FastFlow/data/package_square/cut/OK_Clip/2_Cam1_001013.jpg'),\n       WindowsPath('C:/Users/s2231/PycharmProjects/FastFlow/Fast_flow/FastFlow/data/package_square/cut/OK_Clip/1_Cam1_000030.jpg'),\n       WindowsPath('C:/Users/s2231/PycharmProjects/FastFlow/Fast_flow/FastFlow/data/package_square/cut/OK_Clip/1_Cam1_000503.jpg'),\n       WindowsPath('C:/Users/s2231/PycharmProjects/FastFlow/Fast_flow/FastFlow/data/package_square/cut/OK_Clip/2_Cam1_000369.jpg'),\n       WindowsPath('C:/Users/s2231/PycharmProjects/FastFlow/Fast_flow/FastFlow/data/package_square/cut/OK_Clip/2_Cam1_000268.jpg'),\n       WindowsPath('C:/Users/s2231/PycharmProjects/FastFlow/Fast_flow/FastFlow/data/package_square/cut/OK_Clip/1_Cam1_000217.jpg'),\n       WindowsPath('C:/Users/s2231/PycharmProjects/FastFlow/Fast_flow/FastFlow/data/package_square/cut/OK_Clip/2_Cam1_001177.jpg'),\n       WindowsPath('C:/Users/s2231/PycharmProjects/FastFlow/Fast_flow/FastFlow/data/package_square/cut/OK_Clip/1_Cam1_000053.jpg'),\n       WindowsPath('C:/Users/s2231/PycharmProjects/FastFlow/Fast_flow/FastFlow/data/package_square/cut/OK_Clip/2_Cam1_000864.jpg'),\n       WindowsPath('C:/Users/s2231/PycharmProjects/FastFlow/Fast_flow/FastFlow/data/package_square/cut/OK_Clip/1_Cam1_000447.jpg'),\n       WindowsPath('C:/Users/s2231/PycharmProjects/FastFlow/Fast_flow/FastFlow/data/package_square/cut/OK_Clip/2_Cam1_001039.jpg'),\n       WindowsPath('C:/Users/s2231/PycharmProjects/FastFlow/Fast_flow/FastFlow/data/package_square/cut/OK_Clip/2_Cam1_000593.jpg'),\n       WindowsPath('C:/Users/s2231/PycharmProjects/FastFlow/Fast_flow/FastFlow/data/package_square/cut/OK_Clip/2_Cam1_000788.jpg'),\n       WindowsPath('C:/Users/s2231/PycharmProjects/FastFlow/Fast_flow/FastFlow/data/package_square/cut/OK_Clip/2_Cam1_000675.jpg'),\n       WindowsPath('C:/Users/s2231/PycharmProjects/FastFlow/Fast_flow/FastFlow/data/package_square/cut/OK_Clip/2_Cam1_000673.jpg'),\n       WindowsPath('C:/Users/s2231/PycharmProjects/FastFlow/Fast_flow/FastFlow/data/package_square/cut/OK_Clip/2_Cam1_000999.jpg'),\n       WindowsPath('C:/Users/s2231/PycharmProjects/FastFlow/Fast_flow/FastFlow/data/package_square/cut/OK_Clip/2_Cam1_000677.jpg'),\n       WindowsPath('C:/Users/s2231/PycharmProjects/FastFlow/Fast_flow/FastFlow/data/package_square/cut/OK_Clip/2_Cam1_001130.jpg'),\n       WindowsPath('C:/Users/s2231/PycharmProjects/FastFlow/Fast_flow/FastFlow/data/package_square/cut/OK_Clip/2_Cam1_000062.jpg'),\n       WindowsPath('C:/Users/s2231/PycharmProjects/FastFlow/Fast_flow/FastFlow/data/package_square/cut/OK_Clip/2_Cam1_001192.jpg'),\n       WindowsPath('C:/Users/s2231/PycharmProjects/FastFlow/Fast_flow/FastFlow/data/package_square/cut/OK_Clip/1_Cam1_000533.jpg'),\n       WindowsPath('C:/Users/s2231/PycharmProjects/FastFlow/Fast_flow/FastFlow/data/package_square/cut/OK_Clip/2_Cam1_001147.jpg'),\n       WindowsPath('C:/Users/s2231/PycharmProjects/FastFlow/Fast_flow/FastFlow/data/package_square/cut/OK_Clip/2_Cam1_000059.jpg'),\n       WindowsPath('C:/Users/s2231/PycharmProjects/FastFlow/Fast_flow/FastFlow/data/package_square/cut/OK_Clip/2_Cam1_000167.jpg'),\n       WindowsPath('C:/Users/s2231/PycharmProjects/FastFlow/Fast_flow/FastFlow/data/package_square/cut/OK_Clip/2_Cam1_000269.jpg'),\n       WindowsPath('C:/Users/s2231/PycharmProjects/FastFlow/Fast_flow/FastFlow/data/package_square/cut/OK_Clip/2_Cam1_000497.jpg'),\n       WindowsPath('C:/Users/s2231/PycharmProjects/FastFlow/Fast_flow/FastFlow/data/package_square/cut/OK_Clip/2_Cam1_000169.jpg'),\n       WindowsPath('C:/Users/s2231/PycharmProjects/FastFlow/Fast_flow/FastFlow/data/package_square/cut/OK_Clip/2_Cam1_001014.jpg'),\n       WindowsPath('C:/Users/s2231/PycharmProjects/FastFlow/Fast_flow/FastFlow/data/package_square/cut/OK_Clip/2_Cam1_000150.jpg'),\n       WindowsPath('C:/Users/s2231/PycharmProjects/FastFlow/Fast_flow/FastFlow/data/package_square/cut/OK_Clip/2_Cam1_000168.jpg'),\n       WindowsPath('C:/Users/s2231/PycharmProjects/FastFlow/Fast_flow/FastFlow/data/package_square/cut/OK_Clip/1_Cam1_000424.jpg'),\n       WindowsPath('C:/Users/s2231/PycharmProjects/FastFlow/Fast_flow/FastFlow/data/package_square/cut/OK_Clip/2_Cam1_000333.jpg'),\n       WindowsPath('C:/Users/s2231/PycharmProjects/FastFlow/Fast_flow/FastFlow/data/package_square/cut/OK_Clip/2_Cam1_000211.jpg'),\n       WindowsPath('C:/Users/s2231/PycharmProjects/FastFlow/Fast_flow/FastFlow/data/package_square/cut/OK_Clip/2_Cam1_001176.jpg'),\n       WindowsPath('C:/Users/s2231/PycharmProjects/FastFlow/Fast_flow/FastFlow/data/package_square/cut/OK_Clip/1_Cam1_000166.jpg'),\n       WindowsPath('C:/Users/s2231/PycharmProjects/FastFlow/Fast_flow/FastFlow/data/package_square/cut/OK_Clip/2_Cam1_000025.jpg'),\n       WindowsPath('C:/Users/s2231/PycharmProjects/FastFlow/Fast_flow/FastFlow/data/package_square/cut/OK_Clip/2_Cam1_000058.jpg'),\n       WindowsPath('C:/Users/s2231/PycharmProjects/FastFlow/Fast_flow/FastFlow/data/package_square/cut/OK_Clip/1_Cam1_000481.jpg'),\n       WindowsPath('C:/Users/s2231/PycharmProjects/FastFlow/Fast_flow/FastFlow/data/package_square/cut/OK_Clip/1_Cam1_000563.jpg'),\n       WindowsPath('C:/Users/s2231/PycharmProjects/FastFlow/Fast_flow/FastFlow/data/package_square/cut/OK_Clip/2_Cam1_000371.jpg'),\n       WindowsPath('C:/Users/s2231/PycharmProjects/FastFlow/Fast_flow/FastFlow/data/package_square/cut/OK_Clip/1_Cam1_000568.jpg'),\n       WindowsPath('C:/Users/s2231/PycharmProjects/FastFlow/Fast_flow/FastFlow/data/package_square/cut/OK_Clip/1_Cam1_000507.jpg'),\n       WindowsPath('C:/Users/s2231/PycharmProjects/FastFlow/Fast_flow/FastFlow/data/package_square/cut/OK_Clip/1_Cam1_000531.jpg'),\n       WindowsPath('C:/Users/s2231/PycharmProjects/FastFlow/Fast_flow/FastFlow/data/package_square/cut/OK_Clip/2_Cam1_000351.jpg'),\n       WindowsPath('C:/Users/s2231/PycharmProjects/FastFlow/Fast_flow/FastFlow/data/package_square/cut/OK_Clip/1_Cam1_000326.jpg'),\n       WindowsPath('C:/Users/s2231/PycharmProjects/FastFlow/Fast_flow/FastFlow/data/package_square/cut/OK_Clip/2_Cam1_000290.jpg'),\n       WindowsPath('C:/Users/s2231/PycharmProjects/FastFlow/Fast_flow/FastFlow/data/package_square/cut/OK_Clip/2_Cam1_000250.jpg'),\n       WindowsPath('C:/Users/s2231/PycharmProjects/FastFlow/Fast_flow/FastFlow/data/package_square/cut/OK_Clip/2_Cam1_000412.jpg'),\n       WindowsPath('C:/Users/s2231/PycharmProjects/FastFlow/Fast_flow/FastFlow/data/package_square/cut/OK_Clip/2_Cam1_000313.jpg'),\n       WindowsPath('C:/Users/s2231/PycharmProjects/FastFlow/Fast_flow/FastFlow/data/package_square/cut/OK_Clip/2_Cam1_000520.jpg'),\n       WindowsPath('C:/Users/s2231/PycharmProjects/FastFlow/Fast_flow/FastFlow/data/package_square/cut/OK_Clip/2_Cam1_000330.jpg'),\n       WindowsPath('C:/Users/s2231/PycharmProjects/FastFlow/Fast_flow/FastFlow/data/package_square/cut/OK_Clip/1_Cam1_000449.jpg'),\n       WindowsPath('C:/Users/s2231/PycharmProjects/FastFlow/Fast_flow/FastFlow/data/package_square/cut/OK_Clip/2_Cam1_000391.jpg'),\n       WindowsPath('C:/Users/s2231/PycharmProjects/FastFlow/Fast_flow/FastFlow/data/package_square/cut/OK_Clip/2_Cam1_000311.jpg'),\n       WindowsPath('C:/Users/s2231/PycharmProjects/FastFlow/Fast_flow/FastFlow/data/package_square/cut/OK_Clip/2_Cam1_000006.jpg'),\n       WindowsPath('C:/Users/s2231/PycharmProjects/FastFlow/Fast_flow/FastFlow/data/package_square/cut/OK_Clip/2_Cam1_000866.jpg'),\n       WindowsPath('C:/Users/s2231/PycharmProjects/FastFlow/Fast_flow/FastFlow/data/package_square/cut/OK_Clip/2_Cam1_000883.jpg'),\n       WindowsPath('C:/Users/s2231/PycharmProjects/FastFlow/Fast_flow/FastFlow/data/package_square/cut/OK_Clip/1_Cam1_000348.jpg'),\n       WindowsPath('C:/Users/s2231/PycharmProjects/FastFlow/Fast_flow/FastFlow/data/package_square/cut/OK_Clip/2_Cam1_000331.jpg'),\n       WindowsPath('C:/Users/s2231/PycharmProjects/FastFlow/Fast_flow/FastFlow/data/package_square/cut/OK_Clip/2_Cam1_000706.jpg'),\n       WindowsPath('C:/Users/s2231/PycharmProjects/FastFlow/Fast_flow/FastFlow/data/package_square/cut/OK_Clip/1_Cam1_000001.jpg'),\n       WindowsPath('C:/Users/s2231/PycharmProjects/FastFlow/Fast_flow/FastFlow/data/package_square/cut/OK_Clip/2_Cam1_000501.jpg'),\n       WindowsPath('C:/Users/s2231/PycharmProjects/FastFlow/Fast_flow/FastFlow/data/package_square/cut/OK_Clip/2_Cam1_000901.jpg'),\n       WindowsPath('C:/Users/s2231/PycharmProjects/FastFlow/Fast_flow/FastFlow/data/package_square/cut/OK_Clip/1_Cam1_000261.jpg'),\n       WindowsPath('C:/Users/s2231/PycharmProjects/FastFlow/Fast_flow/FastFlow/data/package_square/cut/OK_Clip/2_Cam1_000790.jpg'),\n       WindowsPath('C:/Users/s2231/PycharmProjects/FastFlow/Fast_flow/FastFlow/data/package_square/cut/OK_Clip/2_Cam1_000970.jpg'),\n       WindowsPath('C:/Users/s2231/PycharmProjects/FastFlow/Fast_flow/FastFlow/data/package_square/cut/OK_Clip/2_Cam1_000213.jpg'),\n       WindowsPath('C:/Users/s2231/PycharmProjects/FastFlow/Fast_flow/FastFlow/data/package_square/cut/OK_Clip/2_Cam1_000004.jpg'),\n       WindowsPath('C:/Users/s2231/PycharmProjects/FastFlow/Fast_flow/FastFlow/data/package_square/cut/OK_Clip/1_Cam1_000144.jpg'),\n       WindowsPath('C:/Users/s2231/PycharmProjects/FastFlow/Fast_flow/FastFlow/data/package_square/cut/OK_Clip/1_Cam1_000404.jpg'),\n       WindowsPath('C:/Users/s2231/PycharmProjects/FastFlow/Fast_flow/FastFlow/data/package_square/cut/OK_Clip/2_Cam1_000481.jpg'),\n       WindowsPath('C:/Users/s2231/PycharmProjects/FastFlow/Fast_flow/FastFlow/data/package_square/cut/OK_Clip/2_Cam1_000900.jpg'),\n       WindowsPath('C:/Users/s2231/PycharmProjects/FastFlow/Fast_flow/FastFlow/data/package_square/cut/OK_Clip/2_Cam1_000656.jpg'),\n       WindowsPath('C:/Users/s2231/PycharmProjects/FastFlow/Fast_flow/FastFlow/data/package_square/cut/OK_Clip/2_Cam1_000623.jpg'),\n       WindowsPath('C:/Users/s2231/PycharmProjects/FastFlow/Fast_flow/FastFlow/data/package_square/cut/OK_Clip/2_Cam1_000270.jpg'),\n       WindowsPath('C:/Users/s2231/PycharmProjects/FastFlow/Fast_flow/FastFlow/data/package_square/cut/OK_Clip/2_Cam1_000078.jpg'),\n       WindowsPath('C:/Users/s2231/PycharmProjects/FastFlow/Fast_flow/FastFlow/data/package_square/cut/OK_Clip/1_Cam1_000079.jpg'),\n       WindowsPath('C:/Users/s2231/PycharmProjects/FastFlow/Fast_flow/FastFlow/data/package_square/cut/OK_Clip/2_Cam1_000792.jpg'),\n       WindowsPath('C:/Users/s2231/PycharmProjects/FastFlow/Fast_flow/FastFlow/data/package_square/cut/OK_Clip/2_Cam1_000899.jpg'),\n       WindowsPath('C:/Users/s2231/PycharmProjects/FastFlow/Fast_flow/FastFlow/data/package_square/cut/OK_Clip/2_Cam1_000189.jpg'),\n       WindowsPath('C:/Users/s2231/PycharmProjects/FastFlow/Fast_flow/FastFlow/data/package_square/cut/OK_Clip/2_Cam1_000043.jpg'),\n       WindowsPath('C:/Users/s2231/PycharmProjects/FastFlow/Fast_flow/FastFlow/data/package_square/cut/OK_Clip/2_Cam1_000187.jpg'),\n       WindowsPath('C:/Users/s2231/PycharmProjects/FastFlow/Fast_flow/FastFlow/data/package_square/cut/OK_Clip/1_Cam1_000049.jpg'),\n       WindowsPath('C:/Users/s2231/PycharmProjects/FastFlow/Fast_flow/FastFlow/data/package_square/cut/OK_Clip/1_Cam1_000080.jpg'),\n       WindowsPath('C:/Users/s2231/PycharmProjects/FastFlow/Fast_flow/FastFlow/data/package_square/cut/OK_Clip/2_Cam1_001175.jpg'),\n       WindowsPath('C:/Users/s2231/PycharmProjects/FastFlow/Fast_flow/FastFlow/data/package_square/cut/OK_Clip/1_Cam1_000368.jpg'),\n       WindowsPath('C:/Users/s2231/PycharmProjects/FastFlow/Fast_flow/FastFlow/data/package_square/cut/OK_Clip/1_Cam1_000051.jpg'),\n       WindowsPath('C:/Users/s2231/PycharmProjects/FastFlow/Fast_flow/FastFlow/data/package_square/cut/OK_Clip/2_Cam1_000880.jpg'),\n       WindowsPath('C:/Users/s2231/PycharmProjects/FastFlow/Fast_flow/FastFlow/data/package_square/cut/OK_Clip/2_Cam1_000831.jpg'),\n       WindowsPath('C:/Users/s2231/PycharmProjects/FastFlow/Fast_flow/FastFlow/data/package_square/cut/OK_Clip/2_Cam1_000002.jpg'),\n       WindowsPath('C:/Users/s2231/PycharmProjects/FastFlow/Fast_flow/FastFlow/data/package_square/cut/OK_Clip/1_Cam1_000262.jpg'),\n       WindowsPath('C:/Users/s2231/PycharmProjects/FastFlow/Fast_flow/FastFlow/data/package_square/cut/OK_Clip/2_Cam1_000571.jpg'),\n       WindowsPath('C:/Users/s2231/PycharmProjects/FastFlow/Fast_flow/FastFlow/data/package_square/cut/OK_Clip/1_Cam1_000074.jpg'),\n       WindowsPath('C:/Users/s2231/PycharmProjects/FastFlow/Fast_flow/FastFlow/data/package_square/cut/OK_Clip/2_Cam1_000496.jpg'),\n       WindowsPath('C:/Users/s2231/PycharmProjects/FastFlow/Fast_flow/FastFlow/data/package_square/cut/OK_Clip/2_Cam1_000998.jpg'),\n       WindowsPath('C:/Users/s2231/PycharmProjects/FastFlow/Fast_flow/FastFlow/data/package_square/cut/OK_Clip/2_Cam1_000252.jpg'),\n       WindowsPath('C:/Users/s2231/PycharmProjects/FastFlow/Fast_flow/FastFlow/data/package_square/cut/OK_Clip/1_Cam1_000091.jpg'),\n       WindowsPath('C:/Users/s2231/PycharmProjects/FastFlow/Fast_flow/FastFlow/data/package_square/cut/OK_Clip/1_Cam1_000567.jpg'),\n       WindowsPath('C:/Users/s2231/PycharmProjects/FastFlow/Fast_flow/FastFlow/data/package_square/cut/OK_Clip/2_Cam1_000916.jpg'),\n       WindowsPath('C:/Users/s2231/PycharmProjects/FastFlow/Fast_flow/FastFlow/data/package_square/cut/OK_Clip/2_Cam1_000414.jpg'),\n       WindowsPath('C:/Users/s2231/PycharmProjects/FastFlow/Fast_flow/FastFlow/data/package_square/cut/OK_Clip/2_Cam1_000620.jpg'),\n       WindowsPath('C:/Users/s2231/PycharmProjects/FastFlow/Fast_flow/FastFlow/data/package_square/cut/OK_Clip/1_Cam1_000578.jpg'),\n       WindowsPath('C:/Users/s2231/PycharmProjects/FastFlow/Fast_flow/FastFlow/data/package_square/cut/OK_Clip/2_Cam1_001043.jpg'),\n       WindowsPath('C:/Users/s2231/PycharmProjects/FastFlow/Fast_flow/FastFlow/data/package_square/cut/OK_Clip/1_Cam1_000237.jpg'),\n       WindowsPath('C:/Users/s2231/PycharmProjects/FastFlow/Fast_flow/FastFlow/data/package_square/cut/OK_Clip/2_Cam1_000740.jpg'),\n       WindowsPath('C:/Users/s2231/PycharmProjects/FastFlow/Fast_flow/FastFlow/data/package_square/cut/OK_Clip/2_Cam1_000721.jpg'),\n       WindowsPath('C:/Users/s2231/PycharmProjects/FastFlow/Fast_flow/FastFlow/data/package_square/cut/OK_Clip/2_Cam1_000415.jpg'),\n       WindowsPath('C:/Users/s2231/PycharmProjects/FastFlow/Fast_flow/FastFlow/data/package_square/cut/OK_Clip/2_Cam1_000480.jpg'),\n       WindowsPath('C:/Users/s2231/PycharmProjects/FastFlow/Fast_flow/FastFlow/data/package_square/cut/OK_Clip/1_Cam1_000205.jpg'),\n       WindowsPath('C:/Users/s2231/PycharmProjects/FastFlow/Fast_flow/FastFlow/data/package_square/cut/OK_Clip/1_Cam1_000020.jpg'),\n       WindowsPath('C:/Users/s2231/PycharmProjects/FastFlow/Fast_flow/FastFlow/data/package_square/cut/OK_Clip/1_Cam1_000149.jpg'),\n       WindowsPath('C:/Users/s2231/PycharmProjects/FastFlow/Fast_flow/FastFlow/data/package_square/cut/OK_Clip/2_Cam1_000315.jpg'),\n       WindowsPath('C:/Users/s2231/PycharmProjects/FastFlow/Fast_flow/FastFlow/data/package_square/cut/OK_Clip/2_Cam1_000449.jpg'),\n       WindowsPath('C:/Users/s2231/PycharmProjects/FastFlow/Fast_flow/FastFlow/data/package_square/cut/OK_Clip/2_Cam1_000536.jpg'),\n       WindowsPath('C:/Users/s2231/PycharmProjects/FastFlow/Fast_flow/FastFlow/data/package_square/cut/OK_Clip/1_Cam1_000168.jpg'),\n       WindowsPath('C:/Users/s2231/PycharmProjects/FastFlow/Fast_flow/FastFlow/data/package_square/cut/OK_Clip/1_Cam1_000505.jpg'),\n       WindowsPath('C:/Users/s2231/PycharmProjects/FastFlow/Fast_flow/FastFlow/data/package_square/cut/OK_Clip/1_Cam1_000482.jpg'),\n       WindowsPath('C:/Users/s2231/PycharmProjects/FastFlow/Fast_flow/FastFlow/data/package_square/cut/OK_Clip/1_Cam1_000140.jpg'),\n       WindowsPath('C:/Users/s2231/PycharmProjects/FastFlow/Fast_flow/FastFlow/data/package_square/cut/OK_Clip/1_Cam1_000141.jpg'),\n       WindowsPath('C:/Users/s2231/PycharmProjects/FastFlow/Fast_flow/FastFlow/data/package_square/cut/OK_Clip/1_Cam1_000165.jpg'),\n       WindowsPath('C:/Users/s2231/PycharmProjects/FastFlow/Fast_flow/FastFlow/data/package_square/cut/OK_Clip/1_Cam1_000323.jpg'),\n       WindowsPath('C:/Users/s2231/PycharmProjects/FastFlow/Fast_flow/FastFlow/data/package_square/cut/OK_Clip/2_Cam1_000355.jpg'),\n       WindowsPath('C:/Users/s2231/PycharmProjects/FastFlow/Fast_flow/FastFlow/data/package_square/cut/OK_Clip/2_Cam1_000575.jpg'),\n       WindowsPath('C:/Users/s2231/PycharmProjects/FastFlow/Fast_flow/FastFlow/data/package_square/cut/OK_Clip/1_Cam1_000446.jpg'),\n       WindowsPath('C:/Users/s2231/PycharmProjects/FastFlow/Fast_flow/FastFlow/data/package_square/cut/OK_Clip/1_Cam1_000608.jpg'),\n       WindowsPath('C:/Users/s2231/PycharmProjects/FastFlow/Fast_flow/FastFlow/data/package_square/cut/OK_Clip/1_Cam1_000389.jpg'),\n       WindowsPath('C:/Users/s2231/PycharmProjects/FastFlow/Fast_flow/FastFlow/data/package_square/cut/OK_Clip/2_Cam1_000737.jpg'),\n       WindowsPath('C:/Users/s2231/PycharmProjects/FastFlow/Fast_flow/FastFlow/data/package_square/cut/OK_Clip/2_Cam1_000517.jpg'),\n       WindowsPath('C:/Users/s2231/PycharmProjects/FastFlow/Fast_flow/FastFlow/data/package_square/cut/OK_Clip/2_Cam1_000170.jpg'),\n       WindowsPath('C:/Users/s2231/PycharmProjects/FastFlow/Fast_flow/FastFlow/data/package_square/cut/OK_Clip/2_Cam1_000147.jpg'),\n       WindowsPath('C:/Users/s2231/PycharmProjects/FastFlow/Fast_flow/FastFlow/data/package_square/cut/OK_Clip/2_Cam1_001092.jpg'),\n       WindowsPath('C:/Users/s2231/PycharmProjects/FastFlow/Fast_flow/FastFlow/data/package_square/cut/OK_Clip/2_Cam1_000933.jpg'),\n       WindowsPath('C:/Users/s2231/PycharmProjects/FastFlow/Fast_flow/FastFlow/data/package_square/cut/OK_Clip/1_Cam1_000031.jpg'),\n       WindowsPath('C:/Users/s2231/PycharmProjects/FastFlow/Fast_flow/FastFlow/data/package_square/cut/OK_Clip/1_Cam1_000201.jpg'),\n       WindowsPath('C:/Users/s2231/PycharmProjects/FastFlow/Fast_flow/FastFlow/data/package_square/cut/OK_Clip/2_Cam1_000935.jpg'),\n       WindowsPath('C:/Users/s2231/PycharmProjects/FastFlow/Fast_flow/FastFlow/data/package_square/cut/OK_Clip/2_Cam1_000295.jpg'),\n       WindowsPath('C:/Users/s2231/PycharmProjects/FastFlow/Fast_flow/FastFlow/data/package_square/cut/OK_Clip/1_Cam1_000202.jpg'),\n       WindowsPath('C:/Users/s2231/PycharmProjects/FastFlow/Fast_flow/FastFlow/data/package_square/cut/OK_Clip/2_Cam1_000705.jpg'),\n       WindowsPath('C:/Users/s2231/PycharmProjects/FastFlow/Fast_flow/FastFlow/data/package_square/cut/OK_Clip/2_Cam1_000720.jpg'),\n       WindowsPath('C:/Users/s2231/PycharmProjects/FastFlow/Fast_flow/FastFlow/data/package_square/cut/OK_Clip/1_Cam1_000111.jpg'),\n       WindowsPath('C:/Users/s2231/PycharmProjects/FastFlow/Fast_flow/FastFlow/data/package_square/cut/OK_Clip/1_Cam1_000390.jpg'),\n       WindowsPath('C:/Users/s2231/PycharmProjects/FastFlow/Fast_flow/FastFlow/data/package_square/cut/OK_Clip/2_Cam1_000373.jpg'),\n       WindowsPath('C:/Users/s2231/PycharmProjects/FastFlow/Fast_flow/FastFlow/data/package_square/cut/OK_Clip/2_Cam1_000431.jpg'),\n       WindowsPath('C:/Users/s2231/PycharmProjects/FastFlow/Fast_flow/FastFlow/data/package_square/cut/OK_Clip/2_Cam1_000674.jpg'),\n       WindowsPath('C:/Users/s2231/PycharmProjects/FastFlow/Fast_flow/FastFlow/data/package_square/cut/OK_Clip/1_Cam1_000146.jpg'),\n       WindowsPath('C:/Users/s2231/PycharmProjects/FastFlow/Fast_flow/FastFlow/data/package_square/cut/OK_Clip/1_Cam1_000461.jpg'),\n       WindowsPath('C:/Users/s2231/PycharmProjects/FastFlow/Fast_flow/FastFlow/data/package_square/cut/OK_Clip/1_Cam1_000508.jpg'),\n       WindowsPath('C:/Users/s2231/PycharmProjects/FastFlow/Fast_flow/FastFlow/data/package_square/cut/OK_Clip/2_Cam1_000274.jpg'),\n       WindowsPath('C:/Users/s2231/PycharmProjects/FastFlow/Fast_flow/FastFlow/data/package_square/cut/OK_Clip/2_Cam1_000757.jpg'),\n       WindowsPath('C:/Users/s2231/PycharmProjects/FastFlow/Fast_flow/FastFlow/data/package_square/cut/OK_Clip/2_Cam1_000624.jpg'),\n       WindowsPath('C:/Users/s2231/PycharmProjects/FastFlow/Fast_flow/FastFlow/data/package_square/cut/OK_Clip/2_Cam1_000459.jpg'),\n       WindowsPath('C:/Users/s2231/PycharmProjects/FastFlow/Fast_flow/FastFlow/data/package_square/cut/OK_Clip/2_Cam1_000352.jpg'),\n       WindowsPath('C:/Users/s2231/PycharmProjects/FastFlow/Fast_flow/FastFlow/data/package_square/cut/OK_Clip/1_Cam1_000263.jpg'),\n       WindowsPath('C:/Users/s2231/PycharmProjects/FastFlow/Fast_flow/FastFlow/data/package_square/cut/OK_Clip/2_Cam1_000980.jpg'),\n       WindowsPath('C:/Users/s2231/PycharmProjects/FastFlow/Fast_flow/FastFlow/data/package_square/cut/OK_Clip/2_Cam1_000969.jpg'),\n       WindowsPath('C:/Users/s2231/PycharmProjects/FastFlow/Fast_flow/FastFlow/data/package_square/cut/OK_Clip/1_Cam1_000142.jpg'),\n       WindowsPath('C:/Users/s2231/PycharmProjects/FastFlow/Fast_flow/FastFlow/data/package_square/cut/OK_Clip/2_Cam1_001088.jpg'),\n       WindowsPath('C:/Users/s2231/PycharmProjects/FastFlow/Fast_flow/FastFlow/data/package_square/cut/OK_Clip/2_Cam1_001057.jpg'),\n       WindowsPath('C:/Users/s2231/PycharmProjects/FastFlow/Fast_flow/FastFlow/data/package_square/cut/OK_Clip/1_Cam1_000612.jpg'),\n       WindowsPath('C:/Users/s2231/PycharmProjects/FastFlow/Fast_flow/FastFlow/data/package_square/cut/OK_Clip/1_Cam1_000218.jpg'),\n       WindowsPath('C:/Users/s2231/PycharmProjects/FastFlow/Fast_flow/FastFlow/data/package_square/cut/OK_Clip/1_Cam1_000324.jpg'),\n       WindowsPath('C:/Users/s2231/PycharmProjects/FastFlow/Fast_flow/FastFlow/data/package_square/cut/OK_Clip/2_Cam1_000694.jpg'),\n       WindowsPath('C:/Users/s2231/PycharmProjects/FastFlow/Fast_flow/FastFlow/data/package_square/cut/OK_Clip/2_Cam1_000949.jpg'),\n       WindowsPath('C:/Users/s2231/PycharmProjects/FastFlow/Fast_flow/FastFlow/data/package_square/cut/OK_Clip/2_Cam1_000478.jpg'),\n       WindowsPath('C:/Users/s2231/PycharmProjects/FastFlow/Fast_flow/FastFlow/data/package_square/cut/OK_Clip/1_Cam1_000235.jpg'),\n       WindowsPath('C:/Users/s2231/PycharmProjects/FastFlow/Fast_flow/FastFlow/data/package_square/cut/OK_Clip/2_Cam1_000462.jpg'),\n       WindowsPath('C:/Users/s2231/PycharmProjects/FastFlow/Fast_flow/FastFlow/data/package_square/cut/OK_Clip/2_Cam1_000603.jpg'),\n       WindowsPath('C:/Users/s2231/PycharmProjects/FastFlow/Fast_flow/FastFlow/data/package_square/cut/OK_Clip/2_Cam1_000775.jpg'),\n       WindowsPath('C:/Users/s2231/PycharmProjects/FastFlow/Fast_flow/FastFlow/data/package_square/cut/OK_Clip/2_Cam1_000389.jpg'),\n       WindowsPath('C:/Users/s2231/PycharmProjects/FastFlow/Fast_flow/FastFlow/data/package_square/cut/OK_Clip/2_Cam1_000112.jpg'),\n       WindowsPath('C:/Users/s2231/PycharmProjects/FastFlow/Fast_flow/FastFlow/data/package_square/cut/OK_Clip/2_Cam1_000188.jpg'),\n       WindowsPath('C:/Users/s2231/PycharmProjects/FastFlow/Fast_flow/FastFlow/data/package_square/cut/OK_Clip/2_Cam1_000574.jpg'),\n       WindowsPath('C:/Users/s2231/PycharmProjects/FastFlow/Fast_flow/FastFlow/data/package_square/cut/OK_Clip/2_Cam1_000937.jpg'),\n       WindowsPath('C:/Users/s2231/PycharmProjects/FastFlow/Fast_flow/FastFlow/data/package_square/cut/OK_Clip/1_Cam1_000506.jpg'),\n       WindowsPath('C:/Users/s2231/PycharmProjects/FastFlow/Fast_flow/FastFlow/data/package_square/cut/OK_Clip/2_Cam1_001207.jpg'),\n       WindowsPath('C:/Users/s2231/PycharmProjects/FastFlow/Fast_flow/FastFlow/data/package_square/cut/OK_Clip/1_Cam1_000543.jpg'),\n       WindowsPath('C:/Users/s2231/PycharmProjects/FastFlow/Fast_flow/FastFlow/data/package_square/cut/OK_Clip/1_Cam1_000293.jpg'),\n       WindowsPath('C:/Users/s2231/PycharmProjects/FastFlow/Fast_flow/FastFlow/data/package_square/cut/OK_Clip/2_Cam1_000724.jpg'),\n       WindowsPath('C:/Users/s2231/PycharmProjects/FastFlow/Fast_flow/FastFlow/data/package_square/cut/OK_Clip/2_Cam1_000882.jpg'),\n       WindowsPath('C:/Users/s2231/PycharmProjects/FastFlow/Fast_flow/FastFlow/data/package_square/cut/OK_Clip/2_Cam1_000540.jpg'),\n       WindowsPath('C:/Users/s2231/PycharmProjects/FastFlow/Fast_flow/FastFlow/data/package_square/cut/OK_Clip/1_Cam1_000115.jpg'),\n       WindowsPath('C:/Users/s2231/PycharmProjects/FastFlow/Fast_flow/FastFlow/data/package_square/cut/OK_Clip/1_Cam1_000450.jpg'),\n       WindowsPath('C:/Users/s2231/PycharmProjects/FastFlow/Fast_flow/FastFlow/data/package_square/cut/OK_Clip/2_Cam1_000519.jpg'),\n       WindowsPath('C:/Users/s2231/PycharmProjects/FastFlow/Fast_flow/FastFlow/data/package_square/cut/OK_Clip/2_Cam1_000791.jpg'),\n       WindowsPath('C:/Users/s2231/PycharmProjects/FastFlow/Fast_flow/FastFlow/data/package_square/cut/OK_Clip/2_Cam1_000692.jpg'),\n       WindowsPath('C:/Users/s2231/PycharmProjects/FastFlow/Fast_flow/FastFlow/data/package_square/cut/OK_Clip/2_Cam1_000148.jpg'),\n       WindowsPath('C:/Users/s2231/PycharmProjects/FastFlow/Fast_flow/FastFlow/data/package_square/cut/OK_Clip/2_Cam1_001209.jpg'),\n       WindowsPath('C:/Users/s2231/PycharmProjects/FastFlow/Fast_flow/FastFlow/data/package_square/cut/OK_Clip/1_Cam1_000351.jpg'),\n       WindowsPath('C:/Users/s2231/PycharmProjects/FastFlow/Fast_flow/FastFlow/data/package_square/cut/OK_Clip/2_Cam1_000129.jpg'),\n       WindowsPath('C:/Users/s2231/PycharmProjects/FastFlow/Fast_flow/FastFlow/data/package_square/cut/OK_Clip/2_Cam1_001194.jpg'),\n       WindowsPath('C:/Users/s2231/PycharmProjects/FastFlow/Fast_flow/FastFlow/data/package_square/cut/OK_Clip/2_Cam1_000736.jpg'),\n       WindowsPath('C:/Users/s2231/PycharmProjects/FastFlow/Fast_flow/FastFlow/data/package_square/cut/OK_Clip/1_Cam1_000143.jpg'),\n       WindowsPath('C:/Users/s2231/PycharmProjects/FastFlow/Fast_flow/FastFlow/data/package_square/cut/OK_Clip/2_Cam1_000111.jpg'),\n       WindowsPath('C:/Users/s2231/PycharmProjects/FastFlow/Fast_flow/FastFlow/data/package_square/cut/OK_Clip/1_Cam1_000601.jpg'),\n       WindowsPath('C:/Users/s2231/PycharmProjects/FastFlow/Fast_flow/FastFlow/data/package_square/cut/OK_Clip/2_Cam1_000477.jpg'),\n       WindowsPath('C:/Users/s2231/PycharmProjects/FastFlow/Fast_flow/FastFlow/data/package_square/cut/OK_Clip/1_Cam1_000542.jpg'),\n       WindowsPath('C:/Users/s2231/PycharmProjects/FastFlow/Fast_flow/FastFlow/data/package_square/cut/OK_Clip/2_Cam1_000149.jpg'),\n       WindowsPath('C:/Users/s2231/PycharmProjects/FastFlow/Fast_flow/FastFlow/data/package_square/cut/OK_Clip/2_Cam1_000060.jpg'),\n       WindowsPath('C:/Users/s2231/PycharmProjects/FastFlow/Fast_flow/FastFlow/data/package_square/cut/OK_Clip/1_Cam1_000327.jpg'),\n       WindowsPath('C:/Users/s2231/PycharmProjects/FastFlow/Fast_flow/FastFlow/data/package_square/cut/OK_Clip/2_Cam1_000966.jpg'),\n       WindowsPath('C:/Users/s2231/PycharmProjects/FastFlow/Fast_flow/FastFlow/data/package_square/cut/OK_Clip/2_Cam1_000296.jpg'),\n       WindowsPath('C:/Users/s2231/PycharmProjects/FastFlow/Fast_flow/FastFlow/data/package_square/cut/OK_Clip/2_Cam1_000413.jpg'),\n       WindowsPath('C:/Users/s2231/PycharmProjects/FastFlow/Fast_flow/FastFlow/data/package_square/cut/OK_Clip/1_Cam1_000448.jpg'),\n       WindowsPath('C:/Users/s2231/PycharmProjects/FastFlow/Fast_flow/FastFlow/data/package_square/cut/OK_Clip/2_Cam1_000495.jpg'),\n       WindowsPath('C:/Users/s2231/PycharmProjects/FastFlow/Fast_flow/FastFlow/data/package_square/cut/OK_Clip/1_Cam1_000502.jpg'),\n       WindowsPath('C:/Users/s2231/PycharmProjects/FastFlow/Fast_flow/FastFlow/data/package_square/cut/OK_Clip/1_Cam1_000564.jpg'),\n       WindowsPath('C:/Users/s2231/PycharmProjects/FastFlow/Fast_flow/FastFlow/data/package_square/cut/OK_Clip/1_Cam1_000052.jpg')],\n      dtype=object)"
     },
     "execution_count": 74,
     "metadata": {},
     "output_type": "execute_result"
    }
   ],
   "source": [
    "img_list[index]"
   ],
   "metadata": {
    "collapsed": false,
    "pycharm": {
     "name": "#%%\n"
    }
   }
  },
  {
   "cell_type": "code",
   "execution_count": 75,
   "outputs": [
    {
     "data": {
      "text/plain": "[WindowsPath('C:/Users/s2231/PycharmProjects/FastFlow/Fast_flow/FastFlow/data/package_square/cut/OK_Clip/1_Cam1_000597.jpg'),\n WindowsPath('C:/Users/s2231/PycharmProjects/FastFlow/Fast_flow/FastFlow/data/package_square/cut/OK_Clip/2_Cam1_000396.jpg'),\n WindowsPath('C:/Users/s2231/PycharmProjects/FastFlow/Fast_flow/FastFlow/data/package_square/cut/OK_Clip/2_Cam1_000666.jpg'),\n WindowsPath('C:/Users/s2231/PycharmProjects/FastFlow/Fast_flow/FastFlow/data/package_square/cut/OK_Clip/2_Cam1_000578.jpg'),\n WindowsPath('C:/Users/s2231/PycharmProjects/FastFlow/Fast_flow/FastFlow/data/package_square/cut/OK_Clip/2_Cam1_000785.jpg'),\n WindowsPath('C:/Users/s2231/PycharmProjects/FastFlow/Fast_flow/FastFlow/data/package_square/cut/OK_Clip/2_Cam1_000361.jpg'),\n WindowsPath('C:/Users/s2231/PycharmProjects/FastFlow/Fast_flow/FastFlow/data/package_square/cut/OK_Clip/2_Cam1_000445.jpg'),\n WindowsPath('C:/Users/s2231/PycharmProjects/FastFlow/Fast_flow/FastFlow/data/package_square/cut/OK_Clip/2_Cam1_000019.jpg'),\n WindowsPath('C:/Users/s2231/PycharmProjects/FastFlow/Fast_flow/FastFlow/data/package_square/cut/OK_Clip/2_Cam1_000896.jpg'),\n WindowsPath('C:/Users/s2231/PycharmProjects/FastFlow/Fast_flow/FastFlow/data/package_square/cut/OK_Clip/2_Cam1_000871.jpg'),\n WindowsPath('C:/Users/s2231/PycharmProjects/FastFlow/Fast_flow/FastFlow/data/package_square/cut/OK_Clip/1_Cam1_000200.jpg'),\n WindowsPath('C:/Users/s2231/PycharmProjects/FastFlow/Fast_flow/FastFlow/data/package_square/cut/OK_Clip/1_Cam1_000576.jpg'),\n WindowsPath('C:/Users/s2231/PycharmProjects/FastFlow/Fast_flow/FastFlow/data/package_square/cut/OK_Clip/2_Cam1_000467.jpg'),\n WindowsPath('C:/Users/s2231/PycharmProjects/FastFlow/Fast_flow/FastFlow/data/package_square/cut/OK_Clip/2_Cam1_000632.jpg'),\n WindowsPath('C:/Users/s2231/PycharmProjects/FastFlow/Fast_flow/FastFlow/data/package_square/cut/OK_Clip/2_Cam1_001095.jpg'),\n WindowsPath('C:/Users/s2231/PycharmProjects/FastFlow/Fast_flow/FastFlow/data/package_square/cut/OK_Clip/1_Cam1_000362.jpg'),\n WindowsPath('C:/Users/s2231/PycharmProjects/FastFlow/Fast_flow/FastFlow/data/package_square/cut/OK_Clip/2_Cam1_000262.jpg'),\n WindowsPath('C:/Users/s2231/PycharmProjects/FastFlow/Fast_flow/FastFlow/data/package_square/cut/OK_Clip/1_Cam1_000519.jpg'),\n WindowsPath('C:/Users/s2231/PycharmProjects/FastFlow/Fast_flow/FastFlow/data/package_square/cut/OK_Clip/2_Cam1_000516.jpg'),\n WindowsPath('C:/Users/s2231/PycharmProjects/FastFlow/Fast_flow/FastFlow/data/package_square/cut/OK_Clip/2_Cam1_000113.jpg'),\n WindowsPath('C:/Users/s2231/PycharmProjects/FastFlow/Fast_flow/FastFlow/data/package_square/cut/OK_Clip/2_Cam1_001084.jpg'),\n WindowsPath('C:/Users/s2231/PycharmProjects/FastFlow/Fast_flow/FastFlow/data/package_square/cut/OK_Clip/1_Cam1_000154.jpg'),\n WindowsPath('C:/Users/s2231/PycharmProjects/FastFlow/Fast_flow/FastFlow/data/package_square/cut/OK_Clip/2_Cam1_000231.jpg'),\n WindowsPath('C:/Users/s2231/PycharmProjects/FastFlow/Fast_flow/FastFlow/data/package_square/cut/OK_Clip/2_Cam1_000028.jpg'),\n WindowsPath('C:/Users/s2231/PycharmProjects/FastFlow/Fast_flow/FastFlow/data/package_square/cut/OK_Clip/2_Cam1_000567.jpg'),\n WindowsPath('C:/Users/s2231/PycharmProjects/FastFlow/Fast_flow/FastFlow/data/package_square/cut/OK_Clip/1_Cam1_000429.jpg'),\n WindowsPath('C:/Users/s2231/PycharmProjects/FastFlow/Fast_flow/FastFlow/data/package_square/cut/OK_Clip/2_Cam1_000997.jpg'),\n WindowsPath('C:/Users/s2231/PycharmProjects/FastFlow/Fast_flow/FastFlow/data/package_square/cut/OK_Clip/2_Cam1_000286.jpg'),\n WindowsPath('C:/Users/s2231/PycharmProjects/FastFlow/Fast_flow/FastFlow/data/package_square/cut/OK_Clip/2_Cam1_001203.jpg'),\n WindowsPath('C:/Users/s2231/PycharmProjects/FastFlow/Fast_flow/FastFlow/data/package_square/cut/OK_Clip/1_Cam1_000152.jpg'),\n WindowsPath('C:/Users/s2231/PycharmProjects/FastFlow/Fast_flow/FastFlow/data/package_square/cut/OK_Clip/2_Cam1_001138.jpg'),\n WindowsPath('C:/Users/s2231/PycharmProjects/FastFlow/Fast_flow/FastFlow/data/package_square/cut/OK_Clip/2_Cam1_000539.jpg'),\n WindowsPath('C:/Users/s2231/PycharmProjects/FastFlow/Fast_flow/FastFlow/data/package_square/cut/OK_Clip/1_Cam1_000545.jpg'),\n WindowsPath('C:/Users/s2231/PycharmProjects/FastFlow/Fast_flow/FastFlow/data/package_square/cut/OK_Clip/1_Cam1_000029.jpg'),\n WindowsPath('C:/Users/s2231/PycharmProjects/FastFlow/Fast_flow/FastFlow/data/package_square/cut/OK_Clip/1_Cam1_000321.jpg'),\n WindowsPath('C:/Users/s2231/PycharmProjects/FastFlow/Fast_flow/FastFlow/data/package_square/cut/OK_Clip/2_Cam1_001156.jpg'),\n WindowsPath('C:/Users/s2231/PycharmProjects/FastFlow/Fast_flow/FastFlow/data/package_square/cut/OK_Clip/2_Cam1_000190.jpg'),\n WindowsPath('C:/Users/s2231/PycharmProjects/FastFlow/Fast_flow/FastFlow/data/package_square/cut/OK_Clip/2_Cam1_000640.jpg'),\n WindowsPath('C:/Users/s2231/PycharmProjects/FastFlow/Fast_flow/FastFlow/data/package_square/cut/OK_Clip/1_Cam1_000234.jpg'),\n WindowsPath('C:/Users/s2231/PycharmProjects/FastFlow/Fast_flow/FastFlow/data/package_square/cut/OK_Clip/2_Cam1_000470.jpg'),\n WindowsPath('C:/Users/s2231/PycharmProjects/FastFlow/Fast_flow/FastFlow/data/package_square/cut/OK_Clip/2_Cam1_001031.jpg'),\n WindowsPath('C:/Users/s2231/PycharmProjects/FastFlow/Fast_flow/FastFlow/data/package_square/cut/OK_Clip/1_Cam1_000402.jpg'),\n WindowsPath('C:/Users/s2231/PycharmProjects/FastFlow/Fast_flow/FastFlow/data/package_square/cut/OK_Clip/2_Cam1_000166.jpg'),\n WindowsPath('C:/Users/s2231/PycharmProjects/FastFlow/Fast_flow/FastFlow/data/package_square/cut/OK_Clip/1_Cam1_000486.jpg'),\n WindowsPath('C:/Users/s2231/PycharmProjects/FastFlow/Fast_flow/FastFlow/data/package_square/cut/OK_Clip/1_Cam1_000410.jpg'),\n WindowsPath('C:/Users/s2231/PycharmProjects/FastFlow/Fast_flow/FastFlow/data/package_square/cut/OK_Clip/2_Cam1_001125.jpg'),\n WindowsPath('C:/Users/s2231/PycharmProjects/FastFlow/Fast_flow/FastFlow/data/package_square/cut/OK_Clip/2_Cam1_000199.jpg'),\n WindowsPath('C:/Users/s2231/PycharmProjects/FastFlow/Fast_flow/FastFlow/data/package_square/cut/OK_Clip/1_Cam1_000548.jpg'),\n WindowsPath('C:/Users/s2231/PycharmProjects/FastFlow/Fast_flow/FastFlow/data/package_square/cut/OK_Clip/2_Cam1_000215.jpg'),\n WindowsPath('C:/Users/s2231/PycharmProjects/FastFlow/Fast_flow/FastFlow/data/package_square/cut/OK_Clip/1_Cam1_000021.jpg'),\n WindowsPath('C:/Users/s2231/PycharmProjects/FastFlow/Fast_flow/FastFlow/data/package_square/cut/OK_Clip/1_Cam1_000173.jpg'),\n WindowsPath('C:/Users/s2231/PycharmProjects/FastFlow/Fast_flow/FastFlow/data/package_square/cut/OK_Clip/1_Cam1_000492.jpg'),\n WindowsPath('C:/Users/s2231/PycharmProjects/FastFlow/Fast_flow/FastFlow/data/package_square/cut/OK_Clip/2_Cam1_000385.jpg'),\n WindowsPath('C:/Users/s2231/PycharmProjects/FastFlow/Fast_flow/FastFlow/data/package_square/cut/OK_Clip/2_Cam1_000529.jpg'),\n WindowsPath('C:/Users/s2231/PycharmProjects/FastFlow/Fast_flow/FastFlow/data/package_square/cut/OK_Clip/2_Cam1_001127.jpg'),\n WindowsPath('C:/Users/s2231/PycharmProjects/FastFlow/Fast_flow/FastFlow/data/package_square/cut/OK_Clip/2_Cam1_000463.jpg'),\n WindowsPath('C:/Users/s2231/PycharmProjects/FastFlow/Fast_flow/FastFlow/data/package_square/cut/OK_Clip/1_Cam1_000372.jpg'),\n WindowsPath('C:/Users/s2231/PycharmProjects/FastFlow/Fast_flow/FastFlow/data/package_square/cut/OK_Clip/2_Cam1_000354.jpg'),\n WindowsPath('C:/Users/s2231/PycharmProjects/FastFlow/Fast_flow/FastFlow/data/package_square/cut/OK_Clip/2_Cam1_000145.jpg'),\n WindowsPath('C:/Users/s2231/PycharmProjects/FastFlow/Fast_flow/FastFlow/data/package_square/cut/OK_Clip/2_Cam1_000036.jpg'),\n WindowsPath('C:/Users/s2231/PycharmProjects/FastFlow/Fast_flow/FastFlow/data/package_square/cut/OK_Clip/2_Cam1_000392.jpg'),\n WindowsPath('C:/Users/s2231/PycharmProjects/FastFlow/Fast_flow/FastFlow/data/package_square/cut/OK_Clip/2_Cam1_001054.jpg'),\n WindowsPath('C:/Users/s2231/PycharmProjects/FastFlow/Fast_flow/FastFlow/data/package_square/cut/OK_Clip/2_Cam1_000224.jpg'),\n WindowsPath('C:/Users/s2231/PycharmProjects/FastFlow/Fast_flow/FastFlow/data/package_square/cut/OK_Clip/2_Cam1_000142.jpg'),\n WindowsPath('C:/Users/s2231/PycharmProjects/FastFlow/Fast_flow/FastFlow/data/package_square/cut/OK_Clip/2_Cam1_000104.jpg'),\n WindowsPath('C:/Users/s2231/PycharmProjects/FastFlow/Fast_flow/FastFlow/data/package_square/cut/OK_Clip/2_Cam1_000580.jpg'),\n WindowsPath('C:/Users/s2231/PycharmProjects/FastFlow/Fast_flow/FastFlow/data/package_square/cut/OK_Clip/2_Cam1_000748.jpg'),\n WindowsPath('C:/Users/s2231/PycharmProjects/FastFlow/Fast_flow/FastFlow/data/package_square/cut/OK_Clip/2_Cam1_000256.jpg'),\n WindowsPath('C:/Users/s2231/PycharmProjects/FastFlow/Fast_flow/FastFlow/data/package_square/cut/OK_Clip/2_Cam1_000279.jpg'),\n WindowsPath('C:/Users/s2231/PycharmProjects/FastFlow/Fast_flow/FastFlow/data/package_square/cut/OK_Clip/2_Cam1_000122.jpg'),\n WindowsPath('C:/Users/s2231/PycharmProjects/FastFlow/Fast_flow/FastFlow/data/package_square/cut/OK_Clip/2_Cam1_001059.jpg'),\n WindowsPath('C:/Users/s2231/PycharmProjects/FastFlow/Fast_flow/FastFlow/data/package_square/cut/OK_Clip/2_Cam1_000759.jpg'),\n WindowsPath('C:/Users/s2231/PycharmProjects/FastFlow/Fast_flow/FastFlow/data/package_square/cut/OK_Clip/2_Cam1_000895.jpg'),\n WindowsPath('C:/Users/s2231/PycharmProjects/FastFlow/Fast_flow/FastFlow/data/package_square/cut/OK_Clip/2_Cam1_000377.jpg'),\n WindowsPath('C:/Users/s2231/PycharmProjects/FastFlow/Fast_flow/FastFlow/data/package_square/cut/OK_Clip/1_Cam1_000592.jpg'),\n WindowsPath('C:/Users/s2231/PycharmProjects/FastFlow/Fast_flow/FastFlow/data/package_square/cut/OK_Clip/2_Cam1_000343.jpg'),\n WindowsPath('C:/Users/s2231/PycharmProjects/FastFlow/Fast_flow/FastFlow/data/package_square/cut/OK_Clip/2_Cam1_000837.jpg'),\n WindowsPath('C:/Users/s2231/PycharmProjects/FastFlow/Fast_flow/FastFlow/data/package_square/cut/OK_Clip/2_Cam1_000163.jpg'),\n WindowsPath('C:/Users/s2231/PycharmProjects/FastFlow/Fast_flow/FastFlow/data/package_square/cut/OK_Clip/1_Cam1_000350.jpg'),\n WindowsPath('C:/Users/s2231/PycharmProjects/FastFlow/Fast_flow/FastFlow/data/package_square/cut/OK_Clip/2_Cam1_000179.jpg'),\n WindowsPath('C:/Users/s2231/PycharmProjects/FastFlow/Fast_flow/FastFlow/data/package_square/cut/OK_Clip/2_Cam1_000676.jpg'),\n WindowsPath('C:/Users/s2231/PycharmProjects/FastFlow/Fast_flow/FastFlow/data/package_square/cut/OK_Clip/2_Cam1_000635.jpg'),\n WindowsPath('C:/Users/s2231/PycharmProjects/FastFlow/Fast_flow/FastFlow/data/package_square/cut/OK_Clip/1_Cam1_000463.jpg'),\n WindowsPath('C:/Users/s2231/PycharmProjects/FastFlow/Fast_flow/FastFlow/data/package_square/cut/OK_Clip/1_Cam1_000444.jpg'),\n WindowsPath('C:/Users/s2231/PycharmProjects/FastFlow/Fast_flow/FastFlow/data/package_square/cut/OK_Clip/1_Cam1_000629.jpg'),\n WindowsPath('C:/Users/s2231/PycharmProjects/FastFlow/Fast_flow/FastFlow/data/package_square/cut/OK_Clip/2_Cam1_000115.jpg'),\n WindowsPath('C:/Users/s2231/PycharmProjects/FastFlow/Fast_flow/FastFlow/data/package_square/cut/OK_Clip/1_Cam1_000528.jpg'),\n WindowsPath('C:/Users/s2231/PycharmProjects/FastFlow/Fast_flow/FastFlow/data/package_square/cut/OK_Clip/2_Cam1_001081.jpg'),\n WindowsPath('C:/Users/s2231/PycharmProjects/FastFlow/Fast_flow/FastFlow/data/package_square/cut/OK_Clip/1_Cam1_000137.jpg'),\n WindowsPath('C:/Users/s2231/PycharmProjects/FastFlow/Fast_flow/FastFlow/data/package_square/cut/OK_Clip/1_Cam1_000385.jpg'),\n WindowsPath('C:/Users/s2231/PycharmProjects/FastFlow/Fast_flow/FastFlow/data/package_square/cut/OK_Clip/2_Cam1_000746.jpg'),\n WindowsPath('C:/Users/s2231/PycharmProjects/FastFlow/Fast_flow/FastFlow/data/package_square/cut/OK_Clip/1_Cam1_000116.jpg'),\n WindowsPath('C:/Users/s2231/PycharmProjects/FastFlow/Fast_flow/FastFlow/data/package_square/cut/OK_Clip/2_Cam1_000664.jpg'),\n WindowsPath('C:/Users/s2231/PycharmProjects/FastFlow/Fast_flow/FastFlow/data/package_square/cut/OK_Clip/2_Cam1_000554.jpg'),\n WindowsPath('C:/Users/s2231/PycharmProjects/FastFlow/Fast_flow/FastFlow/data/package_square/cut/OK_Clip/2_Cam1_000605.jpg'),\n WindowsPath('C:/Users/s2231/PycharmProjects/FastFlow/Fast_flow/FastFlow/data/package_square/cut/OK_Clip/2_Cam1_000138.jpg'),\n WindowsPath('C:/Users/s2231/PycharmProjects/FastFlow/Fast_flow/FastFlow/data/package_square/cut/OK_Clip/2_Cam1_000592.jpg'),\n WindowsPath('C:/Users/s2231/PycharmProjects/FastFlow/Fast_flow/FastFlow/data/package_square/cut/OK_Clip/2_Cam1_001097.jpg'),\n WindowsPath('C:/Users/s2231/PycharmProjects/FastFlow/Fast_flow/FastFlow/data/package_square/cut/OK_Clip/2_Cam1_000023.jpg'),\n WindowsPath('C:/Users/s2231/PycharmProjects/FastFlow/Fast_flow/FastFlow/data/package_square/cut/OK_Clip/2_Cam1_000171.jpg'),\n WindowsPath('C:/Users/s2231/PycharmProjects/FastFlow/Fast_flow/FastFlow/data/package_square/cut/OK_Clip/2_Cam1_000072.jpg'),\n WindowsPath('C:/Users/s2231/PycharmProjects/FastFlow/Fast_flow/FastFlow/data/package_square/cut/OK_Clip/1_Cam1_000260.jpg'),\n WindowsPath('C:/Users/s2231/PycharmProjects/FastFlow/Fast_flow/FastFlow/data/package_square/cut/OK_Clip/1_Cam1_000054.jpg'),\n WindowsPath('C:/Users/s2231/PycharmProjects/FastFlow/Fast_flow/FastFlow/data/package_square/cut/OK_Clip/1_Cam1_000181.jpg'),\n WindowsPath('C:/Users/s2231/PycharmProjects/FastFlow/Fast_flow/FastFlow/data/package_square/cut/OK_Clip/1_Cam1_000160.jpg'),\n WindowsPath('C:/Users/s2231/PycharmProjects/FastFlow/Fast_flow/FastFlow/data/package_square/cut/OK_Clip/2_Cam1_000001.jpg'),\n WindowsPath('C:/Users/s2231/PycharmProjects/FastFlow/Fast_flow/FastFlow/data/package_square/cut/OK_Clip/2_Cam1_000010.jpg'),\n WindowsPath('C:/Users/s2231/PycharmProjects/FastFlow/Fast_flow/FastFlow/data/package_square/cut/OK_Clip/2_Cam1_000227.jpg'),\n WindowsPath('C:/Users/s2231/PycharmProjects/FastFlow/Fast_flow/FastFlow/data/package_square/cut/OK_Clip/1_Cam1_000182.jpg'),\n WindowsPath('C:/Users/s2231/PycharmProjects/FastFlow/Fast_flow/FastFlow/data/package_square/cut/OK_Clip/2_Cam1_000697.jpg'),\n WindowsPath('C:/Users/s2231/PycharmProjects/FastFlow/Fast_flow/FastFlow/data/package_square/cut/OK_Clip/1_Cam1_000423.jpg'),\n WindowsPath('C:/Users/s2231/PycharmProjects/FastFlow/Fast_flow/FastFlow/data/package_square/cut/OK_Clip/1_Cam1_000398.jpg'),\n WindowsPath('C:/Users/s2231/PycharmProjects/FastFlow/Fast_flow/FastFlow/data/package_square/cut/OK_Clip/2_Cam1_001119.jpg'),\n WindowsPath('C:/Users/s2231/PycharmProjects/FastFlow/Fast_flow/FastFlow/data/package_square/cut/OK_Clip/2_Cam1_000363.jpg'),\n WindowsPath('C:/Users/s2231/PycharmProjects/FastFlow/Fast_flow/FastFlow/data/package_square/cut/OK_Clip/2_Cam1_000884.jpg'),\n WindowsPath('C:/Users/s2231/PycharmProjects/FastFlow/Fast_flow/FastFlow/data/package_square/cut/OK_Clip/2_Cam1_000962.jpg'),\n WindowsPath('C:/Users/s2231/PycharmProjects/FastFlow/Fast_flow/FastFlow/data/package_square/cut/OK_Clip/1_Cam1_000575.jpg'),\n WindowsPath('C:/Users/s2231/PycharmProjects/FastFlow/Fast_flow/FastFlow/data/package_square/cut/OK_Clip/2_Cam1_000083.jpg'),\n WindowsPath('C:/Users/s2231/PycharmProjects/FastFlow/Fast_flow/FastFlow/data/package_square/cut/OK_Clip/1_Cam1_000478.jpg'),\n WindowsPath('C:/Users/s2231/PycharmProjects/FastFlow/Fast_flow/FastFlow/data/package_square/cut/OK_Clip/2_Cam1_000416.jpg'),\n WindowsPath('C:/Users/s2231/PycharmProjects/FastFlow/Fast_flow/FastFlow/data/package_square/cut/OK_Clip/2_Cam1_000239.jpg'),\n WindowsPath('C:/Users/s2231/PycharmProjects/FastFlow/Fast_flow/FastFlow/data/package_square/cut/OK_Clip/2_Cam1_000953.jpg'),\n WindowsPath('C:/Users/s2231/PycharmProjects/FastFlow/Fast_flow/FastFlow/data/package_square/cut/OK_Clip/2_Cam1_000996.jpg'),\n WindowsPath('C:/Users/s2231/PycharmProjects/FastFlow/Fast_flow/FastFlow/data/package_square/cut/OK_Clip/2_Cam1_000857.jpg'),\n WindowsPath('C:/Users/s2231/PycharmProjects/FastFlow/Fast_flow/FastFlow/data/package_square/cut/OK_Clip/1_Cam1_000561.jpg'),\n WindowsPath('C:/Users/s2231/PycharmProjects/FastFlow/Fast_flow/FastFlow/data/package_square/cut/OK_Clip/2_Cam1_000651.jpg'),\n WindowsPath('C:/Users/s2231/PycharmProjects/FastFlow/Fast_flow/FastFlow/data/package_square/cut/OK_Clip/2_Cam1_000587.jpg'),\n WindowsPath('C:/Users/s2231/PycharmProjects/FastFlow/Fast_flow/FastFlow/data/package_square/cut/OK_Clip/2_Cam1_001050.jpg'),\n WindowsPath('C:/Users/s2231/PycharmProjects/FastFlow/Fast_flow/FastFlow/data/package_square/cut/OK_Clip/1_Cam1_000311.jpg'),\n WindowsPath('C:/Users/s2231/PycharmProjects/FastFlow/Fast_flow/FastFlow/data/package_square/cut/OK_Clip/2_Cam1_000045.jpg'),\n WindowsPath('C:/Users/s2231/PycharmProjects/FastFlow/Fast_flow/FastFlow/data/package_square/cut/OK_Clip/2_Cam1_001025.jpg'),\n WindowsPath('C:/Users/s2231/PycharmProjects/FastFlow/Fast_flow/FastFlow/data/package_square/cut/OK_Clip/2_Cam1_001146.jpg'),\n WindowsPath('C:/Users/s2231/PycharmProjects/FastFlow/Fast_flow/FastFlow/data/package_square/cut/OK_Clip/2_Cam1_000084.jpg'),\n WindowsPath('C:/Users/s2231/PycharmProjects/FastFlow/Fast_flow/FastFlow/data/package_square/cut/OK_Clip/2_Cam1_000774.jpg'),\n WindowsPath('C:/Users/s2231/PycharmProjects/FastFlow/Fast_flow/FastFlow/data/package_square/cut/OK_Clip/1_Cam1_000416.jpg'),\n WindowsPath('C:/Users/s2231/PycharmProjects/FastFlow/Fast_flow/FastFlow/data/package_square/cut/OK_Clip/2_Cam1_000591.jpg'),\n WindowsPath('C:/Users/s2231/PycharmProjects/FastFlow/Fast_flow/FastFlow/data/package_square/cut/OK_Clip/1_Cam1_000212.jpg'),\n WindowsPath('C:/Users/s2231/PycharmProjects/FastFlow/Fast_flow/FastFlow/data/package_square/cut/OK_Clip/2_Cam1_000423.jpg'),\n WindowsPath('C:/Users/s2231/PycharmProjects/FastFlow/Fast_flow/FastFlow/data/package_square/cut/OK_Clip/2_Cam1_000689.jpg'),\n WindowsPath('C:/Users/s2231/PycharmProjects/FastFlow/Fast_flow/FastFlow/data/package_square/cut/OK_Clip/2_Cam1_001195.jpg'),\n WindowsPath('C:/Users/s2231/PycharmProjects/FastFlow/Fast_flow/FastFlow/data/package_square/cut/OK_Clip/1_Cam1_000400.jpg'),\n WindowsPath('C:/Users/s2231/PycharmProjects/FastFlow/Fast_flow/FastFlow/data/package_square/cut/OK_Clip/2_Cam1_000851.jpg'),\n WindowsPath('C:/Users/s2231/PycharmProjects/FastFlow/Fast_flow/FastFlow/data/package_square/cut/OK_Clip/2_Cam1_000696.jpg'),\n WindowsPath('C:/Users/s2231/PycharmProjects/FastFlow/Fast_flow/FastFlow/data/package_square/cut/OK_Clip/2_Cam1_001089.jpg'),\n WindowsPath('C:/Users/s2231/PycharmProjects/FastFlow/Fast_flow/FastFlow/data/package_square/cut/OK_Clip/1_Cam1_000221.jpg'),\n WindowsPath('C:/Users/s2231/PycharmProjects/FastFlow/Fast_flow/FastFlow/data/package_square/cut/OK_Clip/2_Cam1_001047.jpg'),\n WindowsPath('C:/Users/s2231/PycharmProjects/FastFlow/Fast_flow/FastFlow/data/package_square/cut/OK_Clip/2_Cam1_000370.jpg'),\n WindowsPath('C:/Users/s2231/PycharmProjects/FastFlow/Fast_flow/FastFlow/data/package_square/cut/OK_Clip/2_Cam1_000551.jpg'),\n WindowsPath('C:/Users/s2231/PycharmProjects/FastFlow/Fast_flow/FastFlow/data/package_square/cut/OK_Clip/2_Cam1_000773.jpg'),\n WindowsPath('C:/Users/s2231/PycharmProjects/FastFlow/Fast_flow/FastFlow/data/package_square/cut/OK_Clip/2_Cam1_000672.jpg'),\n WindowsPath('C:/Users/s2231/PycharmProjects/FastFlow/Fast_flow/FastFlow/data/package_square/cut/OK_Clip/1_Cam1_000395.jpg'),\n WindowsPath('C:/Users/s2231/PycharmProjects/FastFlow/Fast_flow/FastFlow/data/package_square/cut/OK_Clip/2_Cam1_000368.jpg'),\n WindowsPath('C:/Users/s2231/PycharmProjects/FastFlow/Fast_flow/FastFlow/data/package_square/cut/OK_Clip/1_Cam1_000167.jpg'),\n WindowsPath('C:/Users/s2231/PycharmProjects/FastFlow/Fast_flow/FastFlow/data/package_square/cut/OK_Clip/2_Cam1_001182.jpg'),\n WindowsPath('C:/Users/s2231/PycharmProjects/FastFlow/Fast_flow/FastFlow/data/package_square/cut/OK_Clip/2_Cam1_000037.jpg'),\n WindowsPath('C:/Users/s2231/PycharmProjects/FastFlow/Fast_flow/FastFlow/data/package_square/cut/OK_Clip/2_Cam1_000718.jpg'),\n WindowsPath('C:/Users/s2231/PycharmProjects/FastFlow/Fast_flow/FastFlow/data/package_square/cut/OK_Clip/1_Cam1_000320.jpg'),\n WindowsPath('C:/Users/s2231/PycharmProjects/FastFlow/Fast_flow/FastFlow/data/package_square/cut/OK_Clip/2_Cam1_000174.jpg'),\n WindowsPath('C:/Users/s2231/PycharmProjects/FastFlow/Fast_flow/FastFlow/data/package_square/cut/OK_Clip/2_Cam1_000556.jpg'),\n WindowsPath('C:/Users/s2231/PycharmProjects/FastFlow/Fast_flow/FastFlow/data/package_square/cut/OK_Clip/2_Cam1_000923.jpg'),\n WindowsPath('C:/Users/s2231/PycharmProjects/FastFlow/Fast_flow/FastFlow/data/package_square/cut/OK_Clip/2_Cam1_001012.jpg'),\n WindowsPath('C:/Users/s2231/PycharmProjects/FastFlow/Fast_flow/FastFlow/data/package_square/cut/OK_Clip/2_Cam1_000492.jpg'),\n WindowsPath('C:/Users/s2231/PycharmProjects/FastFlow/Fast_flow/FastFlow/data/package_square/cut/OK_Clip/2_Cam1_000121.jpg'),\n WindowsPath('C:/Users/s2231/PycharmProjects/FastFlow/Fast_flow/FastFlow/data/package_square/cut/OK_Clip/2_Cam1_000287.jpg'),\n WindowsPath('C:/Users/s2231/PycharmProjects/FastFlow/Fast_flow/FastFlow/data/package_square/cut/OK_Clip/2_Cam1_000012.jpg'),\n WindowsPath('C:/Users/s2231/PycharmProjects/FastFlow/Fast_flow/FastFlow/data/package_square/cut/OK_Clip/2_Cam1_000386.jpg'),\n WindowsPath('C:/Users/s2231/PycharmProjects/FastFlow/Fast_flow/FastFlow/data/package_square/cut/OK_Clip/1_Cam1_000252.jpg'),\n WindowsPath('C:/Users/s2231/PycharmProjects/FastFlow/Fast_flow/FastFlow/data/package_square/cut/OK_Clip/2_Cam1_000387.jpg'),\n WindowsPath('C:/Users/s2231/PycharmProjects/FastFlow/Fast_flow/FastFlow/data/package_square/cut/OK_Clip/2_Cam1_000649.jpg'),\n WindowsPath('C:/Users/s2231/PycharmProjects/FastFlow/Fast_flow/FastFlow/data/package_square/cut/OK_Clip/2_Cam1_000301.jpg'),\n WindowsPath('C:/Users/s2231/PycharmProjects/FastFlow/Fast_flow/FastFlow/data/package_square/cut/OK_Clip/2_Cam1_001188.jpg'),\n WindowsPath('C:/Users/s2231/PycharmProjects/FastFlow/Fast_flow/FastFlow/data/package_square/cut/OK_Clip/2_Cam1_000859.jpg'),\n WindowsPath('C:/Users/s2231/PycharmProjects/FastFlow/Fast_flow/FastFlow/data/package_square/cut/OK_Clip/2_Cam1_000783.jpg'),\n WindowsPath('C:/Users/s2231/PycharmProjects/FastFlow/Fast_flow/FastFlow/data/package_square/cut/OK_Clip/2_Cam1_000026.jpg'),\n WindowsPath('C:/Users/s2231/PycharmProjects/FastFlow/Fast_flow/FastFlow/data/package_square/cut/OK_Clip/2_Cam1_000314.jpg'),\n WindowsPath('C:/Users/s2231/PycharmProjects/FastFlow/Fast_flow/FastFlow/data/package_square/cut/OK_Clip/2_Cam1_000400.jpg'),\n WindowsPath('C:/Users/s2231/PycharmProjects/FastFlow/Fast_flow/FastFlow/data/package_square/cut/OK_Clip/1_Cam1_000267.jpg'),\n WindowsPath('C:/Users/s2231/PycharmProjects/FastFlow/Fast_flow/FastFlow/data/package_square/cut/OK_Clip/2_Cam1_000120.jpg'),\n WindowsPath('C:/Users/s2231/PycharmProjects/FastFlow/Fast_flow/FastFlow/data/package_square/cut/OK_Clip/2_Cam1_000101.jpg'),\n WindowsPath('C:/Users/s2231/PycharmProjects/FastFlow/Fast_flow/FastFlow/data/package_square/cut/OK_Clip/2_Cam1_000176.jpg'),\n WindowsPath('C:/Users/s2231/PycharmProjects/FastFlow/Fast_flow/FastFlow/data/package_square/cut/OK_Clip/2_Cam1_000530.jpg'),\n WindowsPath('C:/Users/s2231/PycharmProjects/FastFlow/Fast_flow/FastFlow/data/package_square/cut/OK_Clip/2_Cam1_000515.jpg'),\n WindowsPath('C:/Users/s2231/PycharmProjects/FastFlow/Fast_flow/FastFlow/data/package_square/cut/OK_Clip/2_Cam1_000553.jpg'),\n WindowsPath('C:/Users/s2231/PycharmProjects/FastFlow/Fast_flow/FastFlow/data/package_square/cut/OK_Clip/2_Cam1_000033.jpg'),\n WindowsPath('C:/Users/s2231/PycharmProjects/FastFlow/Fast_flow/FastFlow/data/package_square/cut/OK_Clip/2_Cam1_001129.jpg'),\n WindowsPath('C:/Users/s2231/PycharmProjects/FastFlow/Fast_flow/FastFlow/data/package_square/cut/OK_Clip/2_Cam1_000982.jpg'),\n WindowsPath('C:/Users/s2231/PycharmProjects/FastFlow/Fast_flow/FastFlow/data/package_square/cut/OK_Clip/2_Cam1_000473.jpg'),\n WindowsPath('C:/Users/s2231/PycharmProjects/FastFlow/Fast_flow/FastFlow/data/package_square/cut/OK_Clip/2_Cam1_000715.jpg'),\n WindowsPath('C:/Users/s2231/PycharmProjects/FastFlow/Fast_flow/FastFlow/data/package_square/cut/OK_Clip/1_Cam1_000244.jpg'),\n WindowsPath('C:/Users/s2231/PycharmProjects/FastFlow/Fast_flow/FastFlow/data/package_square/cut/OK_Clip/2_Cam1_000433.jpg'),\n WindowsPath('C:/Users/s2231/PycharmProjects/FastFlow/Fast_flow/FastFlow/data/package_square/cut/OK_Clip/1_Cam1_000059.jpg'),\n WindowsPath('C:/Users/s2231/PycharmProjects/FastFlow/Fast_flow/FastFlow/data/package_square/cut/OK_Clip/1_Cam1_000270.jpg'),\n WindowsPath('C:/Users/s2231/PycharmProjects/FastFlow/Fast_flow/FastFlow/data/package_square/cut/OK_Clip/1_Cam1_000216.jpg'),\n WindowsPath('C:/Users/s2231/PycharmProjects/FastFlow/Fast_flow/FastFlow/data/package_square/cut/OK_Clip/2_Cam1_000455.jpg'),\n WindowsPath('C:/Users/s2231/PycharmProjects/FastFlow/Fast_flow/FastFlow/data/package_square/cut/OK_Clip/2_Cam1_000479.jpg'),\n WindowsPath('C:/Users/s2231/PycharmProjects/FastFlow/Fast_flow/FastFlow/data/package_square/cut/OK_Clip/2_Cam1_000064.jpg'),\n WindowsPath('C:/Users/s2231/PycharmProjects/FastFlow/Fast_flow/FastFlow/data/package_square/cut/OK_Clip/1_Cam1_000388.jpg'),\n WindowsPath('C:/Users/s2231/PycharmProjects/FastFlow/Fast_flow/FastFlow/data/package_square/cut/OK_Clip/2_Cam1_000162.jpg'),\n WindowsPath('C:/Users/s2231/PycharmProjects/FastFlow/Fast_flow/FastFlow/data/package_square/cut/OK_Clip/2_Cam1_000886.jpg'),\n WindowsPath('C:/Users/s2231/PycharmProjects/FastFlow/Fast_flow/FastFlow/data/package_square/cut/OK_Clip/2_Cam1_000507.jpg'),\n WindowsPath('C:/Users/s2231/PycharmProjects/FastFlow/Fast_flow/FastFlow/data/package_square/cut/OK_Clip/2_Cam1_000427.jpg'),\n WindowsPath('C:/Users/s2231/PycharmProjects/FastFlow/Fast_flow/FastFlow/data/package_square/cut/OK_Clip/1_Cam1_000428.jpg'),\n WindowsPath('C:/Users/s2231/PycharmProjects/FastFlow/Fast_flow/FastFlow/data/package_square/cut/OK_Clip/2_Cam1_000726.jpg'),\n WindowsPath('C:/Users/s2231/PycharmProjects/FastFlow/Fast_flow/FastFlow/data/package_square/cut/OK_Clip/1_Cam1_000068.jpg'),\n WindowsPath('C:/Users/s2231/PycharmProjects/FastFlow/Fast_flow/FastFlow/data/package_square/cut/OK_Clip/2_Cam1_001178.jpg'),\n WindowsPath('C:/Users/s2231/PycharmProjects/FastFlow/Fast_flow/FastFlow/data/package_square/cut/OK_Clip/2_Cam1_000339.jpg'),\n WindowsPath('C:/Users/s2231/PycharmProjects/FastFlow/Fast_flow/FastFlow/data/package_square/cut/OK_Clip/2_Cam1_000657.jpg'),\n WindowsPath('C:/Users/s2231/PycharmProjects/FastFlow/Fast_flow/FastFlow/data/package_square/cut/OK_Clip/1_Cam1_000090.jpg'),\n WindowsPath('C:/Users/s2231/PycharmProjects/FastFlow/Fast_flow/FastFlow/data/package_square/cut/OK_Clip/1_Cam1_000129.jpg'),\n WindowsPath('C:/Users/s2231/PycharmProjects/FastFlow/Fast_flow/FastFlow/data/package_square/cut/OK_Clip/1_Cam1_000464.jpg'),\n WindowsPath('C:/Users/s2231/PycharmProjects/FastFlow/Fast_flow/FastFlow/data/package_square/cut/OK_Clip/2_Cam1_000409.jpg'),\n WindowsPath('C:/Users/s2231/PycharmProjects/FastFlow/Fast_flow/FastFlow/data/package_square/cut/OK_Clip/1_Cam1_000075.jpg'),\n WindowsPath('C:/Users/s2231/PycharmProjects/FastFlow/Fast_flow/FastFlow/data/package_square/cut/OK_Clip/2_Cam1_000046.jpg'),\n WindowsPath('C:/Users/s2231/PycharmProjects/FastFlow/Fast_flow/FastFlow/data/package_square/cut/OK_Clip/2_Cam1_000700.jpg'),\n WindowsPath('C:/Users/s2231/PycharmProjects/FastFlow/Fast_flow/FastFlow/data/package_square/cut/OK_Clip/2_Cam1_000353.jpg'),\n WindowsPath('C:/Users/s2231/PycharmProjects/FastFlow/Fast_flow/FastFlow/data/package_square/cut/OK_Clip/1_Cam1_000573.jpg'),\n WindowsPath('C:/Users/s2231/PycharmProjects/FastFlow/Fast_flow/FastFlow/data/package_square/cut/OK_Clip/1_Cam1_000397.jpg'),\n WindowsPath('C:/Users/s2231/PycharmProjects/FastFlow/Fast_flow/FastFlow/data/package_square/cut/OK_Clip/1_Cam1_000526.jpg'),\n WindowsPath('C:/Users/s2231/PycharmProjects/FastFlow/Fast_flow/FastFlow/data/package_square/cut/OK_Clip/1_Cam1_000524.jpg'),\n WindowsPath('C:/Users/s2231/PycharmProjects/FastFlow/Fast_flow/FastFlow/data/package_square/cut/OK_Clip/2_Cam1_000912.jpg'),\n WindowsPath('C:/Users/s2231/PycharmProjects/FastFlow/Fast_flow/FastFlow/data/package_square/cut/OK_Clip/2_Cam1_000272.jpg'),\n WindowsPath('C:/Users/s2231/PycharmProjects/FastFlow/Fast_flow/FastFlow/data/package_square/cut/OK_Clip/2_Cam1_000756.jpg'),\n WindowsPath('C:/Users/s2231/PycharmProjects/FastFlow/Fast_flow/FastFlow/data/package_square/cut/OK_Clip/2_Cam1_000777.jpg'),\n WindowsPath('C:/Users/s2231/PycharmProjects/FastFlow/Fast_flow/FastFlow/data/package_square/cut/OK_Clip/1_Cam1_000587.jpg'),\n WindowsPath('C:/Users/s2231/PycharmProjects/FastFlow/Fast_flow/FastFlow/data/package_square/cut/OK_Clip/1_Cam1_000036.jpg'),\n WindowsPath('C:/Users/s2231/PycharmProjects/FastFlow/Fast_flow/FastFlow/data/package_square/cut/OK_Clip/2_Cam1_000285.jpg'),\n WindowsPath('C:/Users/s2231/PycharmProjects/FastFlow/Fast_flow/FastFlow/data/package_square/cut/OK_Clip/2_Cam1_000474.jpg'),\n WindowsPath('C:/Users/s2231/PycharmProjects/FastFlow/Fast_flow/FastFlow/data/package_square/cut/OK_Clip/2_Cam1_000968.jpg'),\n WindowsPath('C:/Users/s2231/PycharmProjects/FastFlow/Fast_flow/FastFlow/data/package_square/cut/OK_Clip/2_Cam1_000940.jpg'),\n WindowsPath('C:/Users/s2231/PycharmProjects/FastFlow/Fast_flow/FastFlow/data/package_square/cut/OK_Clip/2_Cam1_000428.jpg'),\n WindowsPath('C:/Users/s2231/PycharmProjects/FastFlow/Fast_flow/FastFlow/data/package_square/cut/OK_Clip/2_Cam1_000619.jpg'),\n WindowsPath('C:/Users/s2231/PycharmProjects/FastFlow/Fast_flow/FastFlow/data/package_square/cut/OK_Clip/1_Cam1_000403.jpg'),\n WindowsPath('C:/Users/s2231/PycharmProjects/FastFlow/Fast_flow/FastFlow/data/package_square/cut/OK_Clip/2_Cam1_000661.jpg'),\n WindowsPath('C:/Users/s2231/PycharmProjects/FastFlow/Fast_flow/FastFlow/data/package_square/cut/OK_Clip/2_Cam1_000376.jpg'),\n WindowsPath('C:/Users/s2231/PycharmProjects/FastFlow/Fast_flow/FastFlow/data/package_square/cut/OK_Clip/2_Cam1_000471.jpg'),\n WindowsPath('C:/Users/s2231/PycharmProjects/FastFlow/Fast_flow/FastFlow/data/package_square/cut/OK_Clip/2_Cam1_001055.jpg'),\n WindowsPath('C:/Users/s2231/PycharmProjects/FastFlow/Fast_flow/FastFlow/data/package_square/cut/OK_Clip/2_Cam1_000124.jpg'),\n WindowsPath('C:/Users/s2231/PycharmProjects/FastFlow/Fast_flow/FastFlow/data/package_square/cut/OK_Clip/1_Cam1_000109.jpg'),\n WindowsPath('C:/Users/s2231/PycharmProjects/FastFlow/Fast_flow/FastFlow/data/package_square/cut/OK_Clip/2_Cam1_000273.jpg'),\n WindowsPath('C:/Users/s2231/PycharmProjects/FastFlow/Fast_flow/FastFlow/data/package_square/cut/OK_Clip/2_Cam1_000898.jpg'),\n WindowsPath('C:/Users/s2231/PycharmProjects/FastFlow/Fast_flow/FastFlow/data/package_square/cut/OK_Clip/2_Cam1_000460.jpg'),\n WindowsPath('C:/Users/s2231/PycharmProjects/FastFlow/Fast_flow/FastFlow/data/package_square/cut/OK_Clip/2_Cam1_000102.jpg'),\n WindowsPath('C:/Users/s2231/PycharmProjects/FastFlow/Fast_flow/FastFlow/data/package_square/cut/OK_Clip/1_Cam1_000063.jpg'),\n WindowsPath('C:/Users/s2231/PycharmProjects/FastFlow/Fast_flow/FastFlow/data/package_square/cut/OK_Clip/1_Cam1_000098.jpg'),\n WindowsPath('C:/Users/s2231/PycharmProjects/FastFlow/Fast_flow/FastFlow/data/package_square/cut/OK_Clip/2_Cam1_000594.jpg'),\n WindowsPath('C:/Users/s2231/PycharmProjects/FastFlow/Fast_flow/FastFlow/data/package_square/cut/OK_Clip/2_Cam1_000397.jpg'),\n WindowsPath('C:/Users/s2231/PycharmProjects/FastFlow/Fast_flow/FastFlow/data/package_square/cut/OK_Clip/1_Cam1_000032.jpg'),\n WindowsPath('C:/Users/s2231/PycharmProjects/FastFlow/Fast_flow/FastFlow/data/package_square/cut/OK_Clip/2_Cam1_000304.jpg'),\n WindowsPath('C:/Users/s2231/PycharmProjects/FastFlow/Fast_flow/FastFlow/data/package_square/cut/OK_Clip/2_Cam1_000679.jpg'),\n WindowsPath('C:/Users/s2231/PycharmProjects/FastFlow/Fast_flow/FastFlow/data/package_square/cut/OK_Clip/2_Cam1_000164.jpg'),\n WindowsPath('C:/Users/s2231/PycharmProjects/FastFlow/Fast_flow/FastFlow/data/package_square/cut/OK_Clip/2_Cam1_000393.jpg'),\n WindowsPath('C:/Users/s2231/PycharmProjects/FastFlow/Fast_flow/FastFlow/data/package_square/cut/OK_Clip/1_Cam1_000352.jpg'),\n WindowsPath('C:/Users/s2231/PycharmProjects/FastFlow/Fast_flow/FastFlow/data/package_square/cut/OK_Clip/2_Cam1_000132.jpg'),\n WindowsPath('C:/Users/s2231/PycharmProjects/FastFlow/Fast_flow/FastFlow/data/package_square/cut/OK_Clip/2_Cam1_000341.jpg'),\n WindowsPath('C:/Users/s2231/PycharmProjects/FastFlow/Fast_flow/FastFlow/data/package_square/cut/OK_Clip/2_Cam1_000204.jpg'),\n WindowsPath('C:/Users/s2231/PycharmProjects/FastFlow/Fast_flow/FastFlow/data/package_square/cut/OK_Clip/2_Cam1_000771.jpg'),\n WindowsPath('C:/Users/s2231/PycharmProjects/FastFlow/Fast_flow/FastFlow/data/package_square/cut/OK_Clip/1_Cam1_000228.jpg'),\n WindowsPath('C:/Users/s2231/PycharmProjects/FastFlow/Fast_flow/FastFlow/data/package_square/cut/OK_Clip/1_Cam1_000112.jpg'),\n WindowsPath('C:/Users/s2231/PycharmProjects/FastFlow/Fast_flow/FastFlow/data/package_square/cut/OK_Clip/2_Cam1_000359.jpg'),\n WindowsPath('C:/Users/s2231/PycharmProjects/FastFlow/Fast_flow/FastFlow/data/package_square/cut/OK_Clip/2_Cam1_000665.jpg'),\n WindowsPath('C:/Users/s2231/PycharmProjects/FastFlow/Fast_flow/FastFlow/data/package_square/cut/OK_Clip/2_Cam1_000755.jpg'),\n WindowsPath('C:/Users/s2231/PycharmProjects/FastFlow/Fast_flow/FastFlow/data/package_square/cut/OK_Clip/2_Cam1_001011.jpg'),\n WindowsPath('C:/Users/s2231/PycharmProjects/FastFlow/Fast_flow/FastFlow/data/package_square/cut/OK_Clip/2_Cam1_000380.jpg'),\n WindowsPath('C:/Users/s2231/PycharmProjects/FastFlow/Fast_flow/FastFlow/data/package_square/cut/OK_Clip/1_Cam1_000316.jpg'),\n WindowsPath('C:/Users/s2231/PycharmProjects/FastFlow/Fast_flow/FastFlow/data/package_square/cut/OK_Clip/1_Cam1_000595.jpg'),\n WindowsPath('C:/Users/s2231/PycharmProjects/FastFlow/Fast_flow/FastFlow/data/package_square/cut/OK_Clip/2_Cam1_000251.jpg'),\n WindowsPath('C:/Users/s2231/PycharmProjects/FastFlow/Fast_flow/FastFlow/data/package_square/cut/OK_Clip/2_Cam1_000066.jpg'),\n WindowsPath('C:/Users/s2231/PycharmProjects/FastFlow/Fast_flow/FastFlow/data/package_square/cut/OK_Clip/2_Cam1_000442.jpg'),\n WindowsPath('C:/Users/s2231/PycharmProjects/FastFlow/Fast_flow/FastFlow/data/package_square/cut/OK_Clip/2_Cam1_000309.jpg'),\n WindowsPath('C:/Users/s2231/PycharmProjects/FastFlow/Fast_flow/FastFlow/data/package_square/cut/OK_Clip/2_Cam1_000678.jpg'),\n WindowsPath('C:/Users/s2231/PycharmProjects/FastFlow/Fast_flow/FastFlow/data/package_square/cut/OK_Clip/2_Cam1_001037.jpg'),\n WindowsPath('C:/Users/s2231/PycharmProjects/FastFlow/Fast_flow/FastFlow/data/package_square/cut/OK_Clip/2_Cam1_000670.jpg'),\n WindowsPath('C:/Users/s2231/PycharmProjects/FastFlow/Fast_flow/FastFlow/data/package_square/cut/OK_Clip/2_Cam1_000133.jpg'),\n WindowsPath('C:/Users/s2231/PycharmProjects/FastFlow/Fast_flow/FastFlow/data/package_square/cut/OK_Clip/1_Cam1_000215.jpg'),\n WindowsPath('C:/Users/s2231/PycharmProjects/FastFlow/Fast_flow/FastFlow/data/package_square/cut/OK_Clip/1_Cam1_000277.jpg'),\n WindowsPath('C:/Users/s2231/PycharmProjects/FastFlow/Fast_flow/FastFlow/data/package_square/cut/OK_Clip/2_Cam1_001154.jpg'),\n WindowsPath('C:/Users/s2231/PycharmProjects/FastFlow/Fast_flow/FastFlow/data/package_square/cut/OK_Clip/2_Cam1_000843.jpg'),\n WindowsPath('C:/Users/s2231/PycharmProjects/FastFlow/Fast_flow/FastFlow/data/package_square/cut/OK_Clip/2_Cam1_000444.jpg'),\n WindowsPath('C:/Users/s2231/PycharmProjects/FastFlow/Fast_flow/FastFlow/data/package_square/cut/OK_Clip/2_Cam1_000322.jpg'),\n WindowsPath('C:/Users/s2231/PycharmProjects/FastFlow/Fast_flow/FastFlow/data/package_square/cut/OK_Clip/2_Cam1_000627.jpg'),\n WindowsPath('C:/Users/s2231/PycharmProjects/FastFlow/Fast_flow/FastFlow/data/package_square/cut/OK_Clip/2_Cam1_001027.jpg'),\n WindowsPath('C:/Users/s2231/PycharmProjects/FastFlow/Fast_flow/FastFlow/data/package_square/cut/OK_Clip/1_Cam1_000070.jpg'),\n WindowsPath('C:/Users/s2231/PycharmProjects/FastFlow/Fast_flow/FastFlow/data/package_square/cut/OK_Clip/2_Cam1_000143.jpg'),\n WindowsPath('C:/Users/s2231/PycharmProjects/FastFlow/Fast_flow/FastFlow/data/package_square/cut/OK_Clip/1_Cam1_000607.jpg'),\n WindowsPath('C:/Users/s2231/PycharmProjects/FastFlow/Fast_flow/FastFlow/data/package_square/cut/OK_Clip/2_Cam1_001032.jpg'),\n WindowsPath('C:/Users/s2231/PycharmProjects/FastFlow/Fast_flow/FastFlow/data/package_square/cut/OK_Clip/1_Cam1_000050.jpg'),\n WindowsPath('C:/Users/s2231/PycharmProjects/FastFlow/Fast_flow/FastFlow/data/package_square/cut/OK_Clip/2_Cam1_000590.jpg'),\n WindowsPath('C:/Users/s2231/PycharmProjects/FastFlow/Fast_flow/FastFlow/data/package_square/cut/OK_Clip/1_Cam1_000253.jpg'),\n WindowsPath('C:/Users/s2231/PycharmProjects/FastFlow/Fast_flow/FastFlow/data/package_square/cut/OK_Clip/2_Cam1_000789.jpg'),\n WindowsPath('C:/Users/s2231/PycharmProjects/FastFlow/Fast_flow/FastFlow/data/package_square/cut/OK_Clip/2_Cam1_000716.jpg'),\n WindowsPath('C:/Users/s2231/PycharmProjects/FastFlow/Fast_flow/FastFlow/data/package_square/cut/OK_Clip/2_Cam1_001042.jpg'),\n WindowsPath('C:/Users/s2231/PycharmProjects/FastFlow/Fast_flow/FastFlow/data/package_square/cut/OK_Clip/2_Cam1_000570.jpg'),\n WindowsPath('C:/Users/s2231/PycharmProjects/FastFlow/Fast_flow/FastFlow/data/package_square/cut/OK_Clip/2_Cam1_000493.jpg'),\n WindowsPath('C:/Users/s2231/PycharmProjects/FastFlow/Fast_flow/FastFlow/data/package_square/cut/OK_Clip/2_Cam1_001166.jpg'),\n WindowsPath('C:/Users/s2231/PycharmProjects/FastFlow/Fast_flow/FastFlow/data/package_square/cut/OK_Clip/2_Cam1_000621.jpg'),\n WindowsPath('C:/Users/s2231/PycharmProjects/FastFlow/Fast_flow/FastFlow/data/package_square/cut/OK_Clip/2_Cam1_000714.jpg'),\n WindowsPath('C:/Users/s2231/PycharmProjects/FastFlow/Fast_flow/FastFlow/data/package_square/cut/OK_Clip/1_Cam1_000359.jpg'),\n WindowsPath('C:/Users/s2231/PycharmProjects/FastFlow/Fast_flow/FastFlow/data/package_square/cut/OK_Clip/2_Cam1_001144.jpg'),\n WindowsPath('C:/Users/s2231/PycharmProjects/FastFlow/Fast_flow/FastFlow/data/package_square/cut/OK_Clip/2_Cam1_000173.jpg'),\n WindowsPath('C:/Users/s2231/PycharmProjects/FastFlow/Fast_flow/FastFlow/data/package_square/cut/OK_Clip/2_Cam1_001075.jpg'),\n WindowsPath('C:/Users/s2231/PycharmProjects/FastFlow/Fast_flow/FastFlow/data/package_square/cut/OK_Clip/2_Cam1_000780.jpg'),\n WindowsPath('C:/Users/s2231/PycharmProjects/FastFlow/Fast_flow/FastFlow/data/package_square/cut/OK_Clip/1_Cam1_000033.jpg'),\n WindowsPath('C:/Users/s2231/PycharmProjects/FastFlow/Fast_flow/FastFlow/data/package_square/cut/OK_Clip/2_Cam1_000107.jpg'),\n WindowsPath('C:/Users/s2231/PycharmProjects/FastFlow/Fast_flow/FastFlow/data/package_square/cut/OK_Clip/1_Cam1_000114.jpg'),\n WindowsPath('C:/Users/s2231/PycharmProjects/FastFlow/Fast_flow/FastFlow/data/package_square/cut/OK_Clip/2_Cam1_000421.jpg'),\n WindowsPath('C:/Users/s2231/PycharmProjects/FastFlow/Fast_flow/FastFlow/data/package_square/cut/OK_Clip/2_Cam1_000942.jpg'),\n WindowsPath('C:/Users/s2231/PycharmProjects/FastFlow/Fast_flow/FastFlow/data/package_square/cut/OK_Clip/2_Cam1_001004.jpg'),\n WindowsPath('C:/Users/s2231/PycharmProjects/FastFlow/Fast_flow/FastFlow/data/package_square/cut/OK_Clip/2_Cam1_000897.jpg'),\n WindowsPath('C:/Users/s2231/PycharmProjects/FastFlow/Fast_flow/FastFlow/data/package_square/cut/OK_Clip/1_Cam1_000483.jpg'),\n WindowsPath('C:/Users/s2231/PycharmProjects/FastFlow/Fast_flow/FastFlow/data/package_square/cut/OK_Clip/2_Cam1_000253.jpg'),\n WindowsPath('C:/Users/s2231/PycharmProjects/FastFlow/Fast_flow/FastFlow/data/package_square/cut/OK_Clip/2_Cam1_000862.jpg'),\n WindowsPath('C:/Users/s2231/PycharmProjects/FastFlow/Fast_flow/FastFlow/data/package_square/cut/OK_Clip/2_Cam1_000550.jpg'),\n WindowsPath('C:/Users/s2231/PycharmProjects/FastFlow/Fast_flow/FastFlow/data/package_square/cut/OK_Clip/1_Cam1_000242.jpg'),\n WindowsPath('C:/Users/s2231/PycharmProjects/FastFlow/Fast_flow/FastFlow/data/package_square/cut/OK_Clip/2_Cam1_000858.jpg'),\n WindowsPath('C:/Users/s2231/PycharmProjects/FastFlow/Fast_flow/FastFlow/data/package_square/cut/OK_Clip/1_Cam1_000346.jpg'),\n WindowsPath('C:/Users/s2231/PycharmProjects/FastFlow/Fast_flow/FastFlow/data/package_square/cut/OK_Clip/2_Cam1_001123.jpg'),\n WindowsPath('C:/Users/s2231/PycharmProjects/FastFlow/Fast_flow/FastFlow/data/package_square/cut/OK_Clip/1_Cam1_000191.jpg'),\n WindowsPath('C:/Users/s2231/PycharmProjects/FastFlow/Fast_flow/FastFlow/data/package_square/cut/OK_Clip/2_Cam1_000232.jpg'),\n WindowsPath('C:/Users/s2231/PycharmProjects/FastFlow/Fast_flow/FastFlow/data/package_square/cut/OK_Clip/2_Cam1_000730.jpg'),\n WindowsPath('C:/Users/s2231/PycharmProjects/FastFlow/Fast_flow/FastFlow/data/package_square/cut/OK_Clip/2_Cam1_001135.jpg'),\n WindowsPath('C:/Users/s2231/PycharmProjects/FastFlow/Fast_flow/FastFlow/data/package_square/cut/OK_Clip/2_Cam1_000052.jpg'),\n WindowsPath('C:/Users/s2231/PycharmProjects/FastFlow/Fast_flow/FastFlow/data/package_square/cut/OK_Clip/2_Cam1_000292.jpg'),\n WindowsPath('C:/Users/s2231/PycharmProjects/FastFlow/Fast_flow/FastFlow/data/package_square/cut/OK_Clip/2_Cam1_000722.jpg'),\n WindowsPath('C:/Users/s2231/PycharmProjects/FastFlow/Fast_flow/FastFlow/data/package_square/cut/OK_Clip/2_Cam1_000161.jpg'),\n WindowsPath('C:/Users/s2231/PycharmProjects/FastFlow/Fast_flow/FastFlow/data/package_square/cut/OK_Clip/1_Cam1_000598.jpg'),\n WindowsPath('C:/Users/s2231/PycharmProjects/FastFlow/Fast_flow/FastFlow/data/package_square/cut/OK_Clip/2_Cam1_000395.jpg'),\n WindowsPath('C:/Users/s2231/PycharmProjects/FastFlow/Fast_flow/FastFlow/data/package_square/cut/OK_Clip/2_Cam1_000276.jpg'),\n WindowsPath('C:/Users/s2231/PycharmProjects/FastFlow/Fast_flow/FastFlow/data/package_square/cut/OK_Clip/2_Cam1_000312.jpg'),\n WindowsPath('C:/Users/s2231/PycharmProjects/FastFlow/Fast_flow/FastFlow/data/package_square/cut/OK_Clip/2_Cam1_000457.jpg'),\n WindowsPath('C:/Users/s2231/PycharmProjects/FastFlow/Fast_flow/FastFlow/data/package_square/cut/OK_Clip/1_Cam1_000275.jpg'),\n WindowsPath('C:/Users/s2231/PycharmProjects/FastFlow/Fast_flow/FastFlow/data/package_square/cut/OK_Clip/2_Cam1_000863.jpg'),\n WindowsPath('C:/Users/s2231/PycharmProjects/FastFlow/Fast_flow/FastFlow/data/package_square/cut/OK_Clip/2_Cam1_000202.jpg'),\n WindowsPath('C:/Users/s2231/PycharmProjects/FastFlow/Fast_flow/FastFlow/data/package_square/cut/OK_Clip/1_Cam1_000405.jpg'),\n WindowsPath('C:/Users/s2231/PycharmProjects/FastFlow/Fast_flow/FastFlow/data/package_square/cut/OK_Clip/2_Cam1_000729.jpg'),\n WindowsPath('C:/Users/s2231/PycharmProjects/FastFlow/Fast_flow/FastFlow/data/package_square/cut/OK_Clip/1_Cam1_000529.jpg'),\n WindowsPath('C:/Users/s2231/PycharmProjects/FastFlow/Fast_flow/FastFlow/data/package_square/cut/OK_Clip/2_Cam1_000435.jpg'),\n WindowsPath('C:/Users/s2231/PycharmProjects/FastFlow/Fast_flow/FastFlow/data/package_square/cut/OK_Clip/2_Cam1_000246.jpg'),\n WindowsPath('C:/Users/s2231/PycharmProjects/FastFlow/Fast_flow/FastFlow/data/package_square/cut/OK_Clip/1_Cam1_000145.jpg'),\n WindowsPath('C:/Users/s2231/PycharmProjects/FastFlow/Fast_flow/FastFlow/data/package_square/cut/OK_Clip/1_Cam1_000078.jpg'),\n WindowsPath('C:/Users/s2231/PycharmProjects/FastFlow/Fast_flow/FastFlow/data/package_square/cut/OK_Clip/2_Cam1_000503.jpg'),\n WindowsPath('C:/Users/s2231/PycharmProjects/FastFlow/Fast_flow/FastFlow/data/package_square/cut/OK_Clip/2_Cam1_000186.jpg'),\n WindowsPath('C:/Users/s2231/PycharmProjects/FastFlow/Fast_flow/FastFlow/data/package_square/cut/OK_Clip/2_Cam1_000233.jpg'),\n WindowsPath('C:/Users/s2231/PycharmProjects/FastFlow/Fast_flow/FastFlow/data/package_square/cut/OK_Clip/2_Cam1_000655.jpg'),\n WindowsPath('C:/Users/s2231/PycharmProjects/FastFlow/Fast_flow/FastFlow/data/package_square/cut/OK_Clip/2_Cam1_000993.jpg'),\n WindowsPath('C:/Users/s2231/PycharmProjects/FastFlow/Fast_flow/FastFlow/data/package_square/cut/OK_Clip/1_Cam1_000264.jpg'),\n WindowsPath('C:/Users/s2231/PycharmProjects/FastFlow/Fast_flow/FastFlow/data/package_square/cut/OK_Clip/1_Cam1_000169.jpg'),\n WindowsPath('C:/Users/s2231/PycharmProjects/FastFlow/Fast_flow/FastFlow/data/package_square/cut/OK_Clip/2_Cam1_001107.jpg'),\n WindowsPath('C:/Users/s2231/PycharmProjects/FastFlow/Fast_flow/FastFlow/data/package_square/cut/OK_Clip/1_Cam1_000514.jpg'),\n WindowsPath('C:/Users/s2231/PycharmProjects/FastFlow/Fast_flow/FastFlow/data/package_square/cut/OK_Clip/1_Cam1_000375.jpg'),\n WindowsPath('C:/Users/s2231/PycharmProjects/FastFlow/Fast_flow/FastFlow/data/package_square/cut/OK_Clip/2_Cam1_001090.jpg'),\n WindowsPath('C:/Users/s2231/PycharmProjects/FastFlow/Fast_flow/FastFlow/data/package_square/cut/OK_Clip/1_Cam1_000206.jpg'),\n WindowsPath('C:/Users/s2231/PycharmProjects/FastFlow/Fast_flow/FastFlow/data/package_square/cut/OK_Clip/1_Cam1_000589.jpg'),\n WindowsPath('C:/Users/s2231/PycharmProjects/FastFlow/Fast_flow/FastFlow/data/package_square/cut/OK_Clip/2_Cam1_001167.jpg'),\n WindowsPath('C:/Users/s2231/PycharmProjects/FastFlow/Fast_flow/FastFlow/data/package_square/cut/OK_Clip/2_Cam1_001109.jpg'),\n WindowsPath('C:/Users/s2231/PycharmProjects/FastFlow/Fast_flow/FastFlow/data/package_square/cut/OK_Clip/2_Cam1_000029.jpg'),\n WindowsPath('C:/Users/s2231/PycharmProjects/FastFlow/Fast_flow/FastFlow/data/package_square/cut/OK_Clip/2_Cam1_000249.jpg'),\n WindowsPath('C:/Users/s2231/PycharmProjects/FastFlow/Fast_flow/FastFlow/data/package_square/cut/OK_Clip/2_Cam1_000086.jpg'),\n WindowsPath('C:/Users/s2231/PycharmProjects/FastFlow/Fast_flow/FastFlow/data/package_square/cut/OK_Clip/1_Cam1_000374.jpg'),\n WindowsPath('C:/Users/s2231/PycharmProjects/FastFlow/Fast_flow/FastFlow/data/package_square/cut/OK_Clip/1_Cam1_000035.jpg'),\n WindowsPath('C:/Users/s2231/PycharmProjects/FastFlow/Fast_flow/FastFlow/data/package_square/cut/OK_Clip/2_Cam1_000734.jpg'),\n WindowsPath('C:/Users/s2231/PycharmProjects/FastFlow/Fast_flow/FastFlow/data/package_square/cut/OK_Clip/2_Cam1_001105.jpg'),\n WindowsPath('C:/Users/s2231/PycharmProjects/FastFlow/Fast_flow/FastFlow/data/package_square/cut/OK_Clip/2_Cam1_000572.jpg'),\n WindowsPath('C:/Users/s2231/PycharmProjects/FastFlow/Fast_flow/FastFlow/data/package_square/cut/OK_Clip/1_Cam1_000100.jpg'),\n WindowsPath('C:/Users/s2231/PycharmProjects/FastFlow/Fast_flow/FastFlow/data/package_square/cut/OK_Clip/2_Cam1_000976.jpg'),\n WindowsPath('C:/Users/s2231/PycharmProjects/FastFlow/Fast_flow/FastFlow/data/package_square/cut/OK_Clip/2_Cam1_000992.jpg'),\n WindowsPath('C:/Users/s2231/PycharmProjects/FastFlow/Fast_flow/FastFlow/data/package_square/cut/OK_Clip/1_Cam1_000195.jpg'),\n WindowsPath('C:/Users/s2231/PycharmProjects/FastFlow/Fast_flow/FastFlow/data/package_square/cut/OK_Clip/2_Cam1_001058.jpg'),\n WindowsPath('C:/Users/s2231/PycharmProjects/FastFlow/Fast_flow/FastFlow/data/package_square/cut/OK_Clip/2_Cam1_000338.jpg'),\n WindowsPath('C:/Users/s2231/PycharmProjects/FastFlow/Fast_flow/FastFlow/data/package_square/cut/OK_Clip/1_Cam1_000236.jpg'),\n WindowsPath('C:/Users/s2231/PycharmProjects/FastFlow/Fast_flow/FastFlow/data/package_square/cut/OK_Clip/1_Cam1_000294.jpg'),\n WindowsPath('C:/Users/s2231/PycharmProjects/FastFlow/Fast_flow/FastFlow/data/package_square/cut/OK_Clip/2_Cam1_001128.jpg'),\n WindowsPath('C:/Users/s2231/PycharmProjects/FastFlow/Fast_flow/FastFlow/data/package_square/cut/OK_Clip/2_Cam1_000581.jpg'),\n WindowsPath('C:/Users/s2231/PycharmProjects/FastFlow/Fast_flow/FastFlow/data/package_square/cut/OK_Clip/1_Cam1_000009.jpg'),\n WindowsPath('C:/Users/s2231/PycharmProjects/FastFlow/Fast_flow/FastFlow/data/package_square/cut/OK_Clip/1_Cam1_000282.jpg'),\n WindowsPath('C:/Users/s2231/PycharmProjects/FastFlow/Fast_flow/FastFlow/data/package_square/cut/OK_Clip/1_Cam1_000406.jpg'),\n WindowsPath('C:/Users/s2231/PycharmProjects/FastFlow/Fast_flow/FastFlow/data/package_square/cut/OK_Clip/1_Cam1_000023.jpg'),\n WindowsPath('C:/Users/s2231/PycharmProjects/FastFlow/Fast_flow/FastFlow/data/package_square/cut/OK_Clip/2_Cam1_000185.jpg'),\n WindowsPath('C:/Users/s2231/PycharmProjects/FastFlow/Fast_flow/FastFlow/data/package_square/cut/OK_Clip/2_Cam1_000693.jpg'),\n WindowsPath('C:/Users/s2231/PycharmProjects/FastFlow/Fast_flow/FastFlow/data/package_square/cut/OK_Clip/1_Cam1_000599.jpg'),\n WindowsPath('C:/Users/s2231/PycharmProjects/FastFlow/Fast_flow/FastFlow/data/package_square/cut/OK_Clip/2_Cam1_000080.jpg'),\n WindowsPath('C:/Users/s2231/PycharmProjects/FastFlow/Fast_flow/FastFlow/data/package_square/cut/OK_Clip/1_Cam1_000243.jpg'),\n WindowsPath('C:/Users/s2231/PycharmProjects/FastFlow/Fast_flow/FastFlow/data/package_square/cut/OK_Clip/1_Cam1_000110.jpg'),\n WindowsPath('C:/Users/s2231/PycharmProjects/FastFlow/Fast_flow/FastFlow/data/package_square/cut/OK_Clip/2_Cam1_000144.jpg'),\n WindowsPath('C:/Users/s2231/PycharmProjects/FastFlow/Fast_flow/FastFlow/data/package_square/cut/OK_Clip/2_Cam1_001142.jpg'),\n WindowsPath('C:/Users/s2231/PycharmProjects/FastFlow/Fast_flow/FastFlow/data/package_square/cut/OK_Clip/1_Cam1_000204.jpg'),\n WindowsPath('C:/Users/s2231/PycharmProjects/FastFlow/Fast_flow/FastFlow/data/package_square/cut/OK_Clip/2_Cam1_001060.jpg'),\n WindowsPath('C:/Users/s2231/PycharmProjects/FastFlow/Fast_flow/FastFlow/data/package_square/cut/OK_Clip/2_Cam1_000003.jpg'),\n WindowsPath('C:/Users/s2231/PycharmProjects/FastFlow/Fast_flow/FastFlow/data/package_square/cut/OK_Clip/2_Cam1_000230.jpg'),\n WindowsPath('C:/Users/s2231/PycharmProjects/FastFlow/Fast_flow/FastFlow/data/package_square/cut/OK_Clip/1_Cam1_000435.jpg'),\n WindowsPath('C:/Users/s2231/PycharmProjects/FastFlow/Fast_flow/FastFlow/data/package_square/cut/OK_Clip/2_Cam1_000960.jpg'),\n WindowsPath('C:/Users/s2231/PycharmProjects/FastFlow/Fast_flow/FastFlow/data/package_square/cut/OK_Clip/2_Cam1_000362.jpg'),\n WindowsPath('C:/Users/s2231/PycharmProjects/FastFlow/Fast_flow/FastFlow/data/package_square/cut/OK_Clip/2_Cam1_000505.jpg'),\n WindowsPath('C:/Users/s2231/PycharmProjects/FastFlow/Fast_flow/FastFlow/data/package_square/cut/OK_Clip/2_Cam1_000288.jpg'),\n WindowsPath('C:/Users/s2231/PycharmProjects/FastFlow/Fast_flow/FastFlow/data/package_square/cut/OK_Clip/2_Cam1_000991.jpg'),\n WindowsPath('C:/Users/s2231/PycharmProjects/FastFlow/Fast_flow/FastFlow/data/package_square/cut/OK_Clip/1_Cam1_000560.jpg'),\n WindowsPath('C:/Users/s2231/PycharmProjects/FastFlow/Fast_flow/FastFlow/data/package_square/cut/OK_Clip/2_Cam1_000158.jpg'),\n WindowsPath('C:/Users/s2231/PycharmProjects/FastFlow/Fast_flow/FastFlow/data/package_square/cut/OK_Clip/2_Cam1_001133.jpg'),\n WindowsPath('C:/Users/s2231/PycharmProjects/FastFlow/Fast_flow/FastFlow/data/package_square/cut/OK_Clip/1_Cam1_000010.jpg'),\n WindowsPath('C:/Users/s2231/PycharmProjects/FastFlow/Fast_flow/FastFlow/data/package_square/cut/OK_Clip/2_Cam1_000487.jpg'),\n WindowsPath('C:/Users/s2231/PycharmProjects/FastFlow/Fast_flow/FastFlow/data/package_square/cut/OK_Clip/1_Cam1_000471.jpg'),\n WindowsPath('C:/Users/s2231/PycharmProjects/FastFlow/Fast_flow/FastFlow/data/package_square/cut/OK_Clip/2_Cam1_000617.jpg'),\n WindowsPath('C:/Users/s2231/PycharmProjects/FastFlow/Fast_flow/FastFlow/data/package_square/cut/OK_Clip/2_Cam1_000068.jpg'),\n WindowsPath('C:/Users/s2231/PycharmProjects/FastFlow/Fast_flow/FastFlow/data/package_square/cut/OK_Clip/2_Cam1_001033.jpg'),\n WindowsPath('C:/Users/s2231/PycharmProjects/FastFlow/Fast_flow/FastFlow/data/package_square/cut/OK_Clip/2_Cam1_001116.jpg'),\n WindowsPath('C:/Users/s2231/PycharmProjects/FastFlow/Fast_flow/FastFlow/data/package_square/cut/OK_Clip/2_Cam1_000902.jpg'),\n WindowsPath('C:/Users/s2231/PycharmProjects/FastFlow/Fast_flow/FastFlow/data/package_square/cut/OK_Clip/2_Cam1_000365.jpg'),\n WindowsPath('C:/Users/s2231/PycharmProjects/FastFlow/Fast_flow/FastFlow/data/package_square/cut/OK_Clip/1_Cam1_000392.jpg'),\n WindowsPath('C:/Users/s2231/PycharmProjects/FastFlow/Fast_flow/FastFlow/data/package_square/cut/OK_Clip/1_Cam1_000081.jpg'),\n WindowsPath('C:/Users/s2231/PycharmProjects/FastFlow/Fast_flow/FastFlow/data/package_square/cut/OK_Clip/2_Cam1_000140.jpg'),\n WindowsPath('C:/Users/s2231/PycharmProjects/FastFlow/Fast_flow/FastFlow/data/package_square/cut/OK_Clip/1_Cam1_000175.jpg'),\n WindowsPath('C:/Users/s2231/PycharmProjects/FastFlow/Fast_flow/FastFlow/data/package_square/cut/OK_Clip/1_Cam1_000185.jpg'),\n WindowsPath('C:/Users/s2231/PycharmProjects/FastFlow/Fast_flow/FastFlow/data/package_square/cut/OK_Clip/1_Cam1_000580.jpg'),\n WindowsPath('C:/Users/s2231/PycharmProjects/FastFlow/Fast_flow/FastFlow/data/package_square/cut/OK_Clip/2_Cam1_000119.jpg'),\n WindowsPath('C:/Users/s2231/PycharmProjects/FastFlow/Fast_flow/FastFlow/data/package_square/cut/OK_Clip/2_Cam1_000344.jpg'),\n WindowsPath('C:/Users/s2231/PycharmProjects/FastFlow/Fast_flow/FastFlow/data/package_square/cut/OK_Clip/1_Cam1_000251.jpg'),\n WindowsPath('C:/Users/s2231/PycharmProjects/FastFlow/Fast_flow/FastFlow/data/package_square/cut/OK_Clip/2_Cam1_000577.jpg'),\n WindowsPath('C:/Users/s2231/PycharmProjects/FastFlow/Fast_flow/FastFlow/data/package_square/cut/OK_Clip/1_Cam1_000442.jpg'),\n WindowsPath('C:/Users/s2231/PycharmProjects/FastFlow/Fast_flow/FastFlow/data/package_square/cut/OK_Clip/1_Cam1_000384.jpg'),\n WindowsPath('C:/Users/s2231/PycharmProjects/FastFlow/Fast_flow/FastFlow/data/package_square/cut/OK_Clip/2_Cam1_000723.jpg'),\n WindowsPath('C:/Users/s2231/PycharmProjects/FastFlow/Fast_flow/FastFlow/data/package_square/cut/OK_Clip/1_Cam1_000301.jpg'),\n WindowsPath('C:/Users/s2231/PycharmProjects/FastFlow/Fast_flow/FastFlow/data/package_square/cut/OK_Clip/1_Cam1_000058.jpg'),\n WindowsPath('C:/Users/s2231/PycharmProjects/FastFlow/Fast_flow/FastFlow/data/package_square/cut/OK_Clip/2_Cam1_001117.jpg'),\n WindowsPath('C:/Users/s2231/PycharmProjects/FastFlow/Fast_flow/FastFlow/data/package_square/cut/OK_Clip/1_Cam1_000048.jpg'),\n WindowsPath('C:/Users/s2231/PycharmProjects/FastFlow/Fast_flow/FastFlow/data/package_square/cut/OK_Clip/2_Cam1_001126.jpg'),\n WindowsPath('C:/Users/s2231/PycharmProjects/FastFlow/Fast_flow/FastFlow/data/package_square/cut/OK_Clip/1_Cam1_000307.jpg'),\n WindowsPath('C:/Users/s2231/PycharmProjects/FastFlow/Fast_flow/FastFlow/data/package_square/cut/OK_Clip/1_Cam1_000171.jpg'),\n WindowsPath('C:/Users/s2231/PycharmProjects/FastFlow/Fast_flow/FastFlow/data/package_square/cut/OK_Clip/1_Cam1_000455.jpg'),\n WindowsPath('C:/Users/s2231/PycharmProjects/FastFlow/Fast_flow/FastFlow/data/package_square/cut/OK_Clip/2_Cam1_000005.jpg'),\n WindowsPath('C:/Users/s2231/PycharmProjects/FastFlow/Fast_flow/FastFlow/data/package_square/cut/OK_Clip/1_Cam1_000101.jpg'),\n WindowsPath('C:/Users/s2231/PycharmProjects/FastFlow/Fast_flow/FastFlow/data/package_square/cut/OK_Clip/1_Cam1_000445.jpg'),\n WindowsPath('C:/Users/s2231/PycharmProjects/FastFlow/Fast_flow/FastFlow/data/package_square/cut/OK_Clip/1_Cam1_000093.jpg'),\n WindowsPath('C:/Users/s2231/PycharmProjects/FastFlow/Fast_flow/FastFlow/data/package_square/cut/OK_Clip/2_Cam1_000306.jpg'),\n WindowsPath('C:/Users/s2231/PycharmProjects/FastFlow/Fast_flow/FastFlow/data/package_square/cut/OK_Clip/2_Cam1_000291.jpg'),\n WindowsPath('C:/Users/s2231/PycharmProjects/FastFlow/Fast_flow/FastFlow/data/package_square/cut/OK_Clip/1_Cam1_000241.jpg'),\n WindowsPath('C:/Users/s2231/PycharmProjects/FastFlow/Fast_flow/FastFlow/data/package_square/cut/OK_Clip/1_Cam1_000071.jpg'),\n WindowsPath('C:/Users/s2231/PycharmProjects/FastFlow/Fast_flow/FastFlow/data/package_square/cut/OK_Clip/1_Cam1_000037.jpg'),\n WindowsPath('C:/Users/s2231/PycharmProjects/FastFlow/Fast_flow/FastFlow/data/package_square/cut/OK_Clip/1_Cam1_000555.jpg'),\n WindowsPath('C:/Users/s2231/PycharmProjects/FastFlow/Fast_flow/FastFlow/data/package_square/cut/OK_Clip/2_Cam1_001094.jpg'),\n WindowsPath('C:/Users/s2231/PycharmProjects/FastFlow/Fast_flow/FastFlow/data/package_square/cut/OK_Clip/1_Cam1_000325.jpg'),\n WindowsPath('C:/Users/s2231/PycharmProjects/FastFlow/Fast_flow/FastFlow/data/package_square/cut/OK_Clip/2_Cam1_000867.jpg'),\n WindowsPath('C:/Users/s2231/PycharmProjects/FastFlow/Fast_flow/FastFlow/data/package_square/cut/OK_Clip/2_Cam1_000543.jpg'),\n WindowsPath('C:/Users/s2231/PycharmProjects/FastFlow/Fast_flow/FastFlow/data/package_square/cut/OK_Clip/1_Cam1_000337.jpg'),\n WindowsPath('C:/Users/s2231/PycharmProjects/FastFlow/Fast_flow/FastFlow/data/package_square/cut/OK_Clip/2_Cam1_000641.jpg'),\n WindowsPath('C:/Users/s2231/PycharmProjects/FastFlow/Fast_flow/FastFlow/data/package_square/cut/OK_Clip/2_Cam1_000952.jpg'),\n WindowsPath('C:/Users/s2231/PycharmProjects/FastFlow/Fast_flow/FastFlow/data/package_square/cut/OK_Clip/1_Cam1_000347.jpg'),\n WindowsPath('C:/Users/s2231/PycharmProjects/FastFlow/Fast_flow/FastFlow/data/package_square/cut/OK_Clip/2_Cam1_000768.jpg'),\n WindowsPath('C:/Users/s2231/PycharmProjects/FastFlow/Fast_flow/FastFlow/data/package_square/cut/OK_Clip/2_Cam1_000280.jpg'),\n WindowsPath('C:/Users/s2231/PycharmProjects/FastFlow/Fast_flow/FastFlow/data/package_square/cut/OK_Clip/2_Cam1_000219.jpg'),\n WindowsPath('C:/Users/s2231/PycharmProjects/FastFlow/Fast_flow/FastFlow/data/package_square/cut/OK_Clip/2_Cam1_000534.jpg'),\n WindowsPath('C:/Users/s2231/PycharmProjects/FastFlow/Fast_flow/FastFlow/data/package_square/cut/OK_Clip/1_Cam1_000420.jpg'),\n WindowsPath('C:/Users/s2231/PycharmProjects/FastFlow/Fast_flow/FastFlow/data/package_square/cut/OK_Clip/1_Cam1_000148.jpg'),\n WindowsPath('C:/Users/s2231/PycharmProjects/FastFlow/Fast_flow/FastFlow/data/package_square/cut/OK_Clip/1_Cam1_000016.jpg'),\n WindowsPath('C:/Users/s2231/PycharmProjects/FastFlow/Fast_flow/FastFlow/data/package_square/cut/OK_Clip/2_Cam1_000056.jpg'),\n WindowsPath('C:/Users/s2231/PycharmProjects/FastFlow/Fast_flow/FastFlow/data/package_square/cut/OK_Clip/2_Cam1_001072.jpg'),\n WindowsPath('C:/Users/s2231/PycharmProjects/FastFlow/Fast_flow/FastFlow/data/package_square/cut/OK_Clip/2_Cam1_000007.jpg'),\n WindowsPath('C:/Users/s2231/PycharmProjects/FastFlow/Fast_flow/FastFlow/data/package_square/cut/OK_Clip/1_Cam1_000451.jpg'),\n WindowsPath('C:/Users/s2231/PycharmProjects/FastFlow/Fast_flow/FastFlow/data/package_square/cut/OK_Clip/2_Cam1_001024.jpg'),\n WindowsPath('C:/Users/s2231/PycharmProjects/FastFlow/Fast_flow/FastFlow/data/package_square/cut/OK_Clip/1_Cam1_000340.jpg'),\n WindowsPath('C:/Users/s2231/PycharmProjects/FastFlow/Fast_flow/FastFlow/data/package_square/cut/OK_Clip/1_Cam1_000605.jpg'),\n WindowsPath('C:/Users/s2231/PycharmProjects/FastFlow/Fast_flow/FastFlow/data/package_square/cut/OK_Clip/2_Cam1_000981.jpg'),\n WindowsPath('C:/Users/s2231/PycharmProjects/FastFlow/Fast_flow/FastFlow/data/package_square/cut/OK_Clip/2_Cam1_000546.jpg'),\n WindowsPath('C:/Users/s2231/PycharmProjects/FastFlow/Fast_flow/FastFlow/data/package_square/cut/OK_Clip/2_Cam1_000316.jpg'),\n WindowsPath('C:/Users/s2231/PycharmProjects/FastFlow/Fast_flow/FastFlow/data/package_square/cut/OK_Clip/2_Cam1_000702.jpg'),\n WindowsPath('C:/Users/s2231/PycharmProjects/FastFlow/Fast_flow/FastFlow/data/package_square/cut/OK_Clip/2_Cam1_000261.jpg'),\n WindowsPath('C:/Users/s2231/PycharmProjects/FastFlow/Fast_flow/FastFlow/data/package_square/cut/OK_Clip/2_Cam1_000668.jpg'),\n WindowsPath('C:/Users/s2231/PycharmProjects/FastFlow/Fast_flow/FastFlow/data/package_square/cut/OK_Clip/1_Cam1_000391.jpg'),\n WindowsPath('C:/Users/s2231/PycharmProjects/FastFlow/Fast_flow/FastFlow/data/package_square/cut/OK_Clip/2_Cam1_000346.jpg'),\n WindowsPath('C:/Users/s2231/PycharmProjects/FastFlow/Fast_flow/FastFlow/data/package_square/cut/OK_Clip/2_Cam1_000835.jpg'),\n WindowsPath('C:/Users/s2231/PycharmProjects/FastFlow/Fast_flow/FastFlow/data/package_square/cut/OK_Clip/1_Cam1_000045.jpg'),\n WindowsPath('C:/Users/s2231/PycharmProjects/FastFlow/Fast_flow/FastFlow/data/package_square/cut/OK_Clip/1_Cam1_000421.jpg'),\n WindowsPath('C:/Users/s2231/PycharmProjects/FastFlow/Fast_flow/FastFlow/data/package_square/cut/OK_Clip/2_Cam1_000741.jpg'),\n WindowsPath('C:/Users/s2231/PycharmProjects/FastFlow/Fast_flow/FastFlow/data/package_square/cut/OK_Clip/2_Cam1_000053.jpg'),\n WindowsPath('C:/Users/s2231/PycharmProjects/FastFlow/Fast_flow/FastFlow/data/package_square/cut/OK_Clip/2_Cam1_000533.jpg'),\n WindowsPath('C:/Users/s2231/PycharmProjects/FastFlow/Fast_flow/FastFlow/data/package_square/cut/OK_Clip/1_Cam1_000245.jpg'),\n WindowsPath('C:/Users/s2231/PycharmProjects/FastFlow/Fast_flow/FastFlow/data/package_square/cut/OK_Clip/2_Cam1_000921.jpg'),\n WindowsPath('C:/Users/s2231/PycharmProjects/FastFlow/Fast_flow/FastFlow/data/package_square/cut/OK_Clip/1_Cam1_000330.jpg'),\n WindowsPath('C:/Users/s2231/PycharmProjects/FastFlow/Fast_flow/FastFlow/data/package_square/cut/OK_Clip/2_Cam1_000671.jpg'),\n WindowsPath('C:/Users/s2231/PycharmProjects/FastFlow/Fast_flow/FastFlow/data/package_square/cut/OK_Clip/1_Cam1_000387.jpg'),\n WindowsPath('C:/Users/s2231/PycharmProjects/FastFlow/Fast_flow/FastFlow/data/package_square/cut/OK_Clip/2_Cam1_000531.jpg'),\n WindowsPath('C:/Users/s2231/PycharmProjects/FastFlow/Fast_flow/FastFlow/data/package_square/cut/OK_Clip/2_Cam1_000263.jpg'),\n WindowsPath('C:/Users/s2231/PycharmProjects/FastFlow/Fast_flow/FastFlow/data/package_square/cut/OK_Clip/2_Cam1_000881.jpg'),\n WindowsPath('C:/Users/s2231/PycharmProjects/FastFlow/Fast_flow/FastFlow/data/package_square/cut/OK_Clip/1_Cam1_000354.jpg'),\n WindowsPath('C:/Users/s2231/PycharmProjects/FastFlow/Fast_flow/FastFlow/data/package_square/cut/OK_Clip/2_Cam1_001080.jpg'),\n WindowsPath('C:/Users/s2231/PycharmProjects/FastFlow/Fast_flow/FastFlow/data/package_square/cut/OK_Clip/1_Cam1_000552.jpg'),\n WindowsPath('C:/Users/s2231/PycharmProjects/FastFlow/Fast_flow/FastFlow/data/package_square/cut/OK_Clip/2_Cam1_001208.jpg'),\n WindowsPath('C:/Users/s2231/PycharmProjects/FastFlow/Fast_flow/FastFlow/data/package_square/cut/OK_Clip/2_Cam1_000358.jpg'),\n WindowsPath('C:/Users/s2231/PycharmProjects/FastFlow/Fast_flow/FastFlow/data/package_square/cut/OK_Clip/2_Cam1_000579.jpg'),\n WindowsPath('C:/Users/s2231/PycharmProjects/FastFlow/Fast_flow/FastFlow/data/package_square/cut/OK_Clip/1_Cam1_000594.jpg'),\n WindowsPath('C:/Users/s2231/PycharmProjects/FastFlow/Fast_flow/FastFlow/data/package_square/cut/OK_Clip/2_Cam1_001151.jpg'),\n WindowsPath('C:/Users/s2231/PycharmProjects/FastFlow/Fast_flow/FastFlow/data/package_square/cut/OK_Clip/2_Cam1_000713.jpg'),\n WindowsPath('C:/Users/s2231/PycharmProjects/FastFlow/Fast_flow/FastFlow/data/package_square/cut/OK_Clip/2_Cam1_000206.jpg'),\n WindowsPath('C:/Users/s2231/PycharmProjects/FastFlow/Fast_flow/FastFlow/data/package_square/cut/OK_Clip/2_Cam1_000217.jpg'),\n WindowsPath('C:/Users/s2231/PycharmProjects/FastFlow/Fast_flow/FastFlow/data/package_square/cut/OK_Clip/2_Cam1_000088.jpg'),\n WindowsPath('C:/Users/s2231/PycharmProjects/FastFlow/Fast_flow/FastFlow/data/package_square/cut/OK_Clip/1_Cam1_000520.jpg'),\n WindowsPath('C:/Users/s2231/PycharmProjects/FastFlow/Fast_flow/FastFlow/data/package_square/cut/OK_Clip/2_Cam1_000535.jpg'),\n WindowsPath('C:/Users/s2231/PycharmProjects/FastFlow/Fast_flow/FastFlow/data/package_square/cut/OK_Clip/1_Cam1_000425.jpg'),\n WindowsPath('C:/Users/s2231/PycharmProjects/FastFlow/Fast_flow/FastFlow/data/package_square/cut/OK_Clip/2_Cam1_000498.jpg'),\n WindowsPath('C:/Users/s2231/PycharmProjects/FastFlow/Fast_flow/FastFlow/data/package_square/cut/OK_Clip/1_Cam1_000072.jpg'),\n WindowsPath('C:/Users/s2231/PycharmProjects/FastFlow/Fast_flow/FastFlow/data/package_square/cut/OK_Clip/2_Cam1_000840.jpg'),\n WindowsPath('C:/Users/s2231/PycharmProjects/FastFlow/Fast_flow/FastFlow/data/package_square/cut/OK_Clip/1_Cam1_000521.jpg'),\n WindowsPath('C:/Users/s2231/PycharmProjects/FastFlow/Fast_flow/FastFlow/data/package_square/cut/OK_Clip/2_Cam1_000934.jpg'),\n WindowsPath('C:/Users/s2231/PycharmProjects/FastFlow/Fast_flow/FastFlow/data/package_square/cut/OK_Clip/2_Cam1_000494.jpg'),\n WindowsPath('C:/Users/s2231/PycharmProjects/FastFlow/Fast_flow/FastFlow/data/package_square/cut/OK_Clip/2_Cam1_000616.jpg'),\n WindowsPath('C:/Users/s2231/PycharmProjects/FastFlow/Fast_flow/FastFlow/data/package_square/cut/OK_Clip/2_Cam1_000779.jpg'),\n WindowsPath('C:/Users/s2231/PycharmProjects/FastFlow/Fast_flow/FastFlow/data/package_square/cut/OK_Clip/2_Cam1_001160.jpg'),\n WindowsPath('C:/Users/s2231/PycharmProjects/FastFlow/Fast_flow/FastFlow/data/package_square/cut/OK_Clip/1_Cam1_000468.jpg'),\n WindowsPath('C:/Users/s2231/PycharmProjects/FastFlow/Fast_flow/FastFlow/data/package_square/cut/OK_Clip/2_Cam1_000612.jpg'),\n WindowsPath('C:/Users/s2231/PycharmProjects/FastFlow/Fast_flow/FastFlow/data/package_square/cut/OK_Clip/1_Cam1_000484.jpg'),\n WindowsPath('C:/Users/s2231/PycharmProjects/FastFlow/Fast_flow/FastFlow/data/package_square/cut/OK_Clip/1_Cam1_000495.jpg'),\n WindowsPath('C:/Users/s2231/PycharmProjects/FastFlow/Fast_flow/FastFlow/data/package_square/cut/OK_Clip/1_Cam1_000426.jpg'),\n WindowsPath('C:/Users/s2231/PycharmProjects/FastFlow/Fast_flow/FastFlow/data/package_square/cut/OK_Clip/1_Cam1_000280.jpg'),\n WindowsPath('C:/Users/s2231/PycharmProjects/FastFlow/Fast_flow/FastFlow/data/package_square/cut/OK_Clip/2_Cam1_000638.jpg'),\n WindowsPath('C:/Users/s2231/PycharmProjects/FastFlow/Fast_flow/FastFlow/data/package_square/cut/OK_Clip/2_Cam1_000518.jpg'),\n WindowsPath('C:/Users/s2231/PycharmProjects/FastFlow/Fast_flow/FastFlow/data/package_square/cut/OK_Clip/2_Cam1_000093.jpg'),\n WindowsPath('C:/Users/s2231/PycharmProjects/FastFlow/Fast_flow/FastFlow/data/package_square/cut/OK_Clip/1_Cam1_000158.jpg'),\n WindowsPath('C:/Users/s2231/PycharmProjects/FastFlow/Fast_flow/FastFlow/data/package_square/cut/OK_Clip/2_Cam1_000436.jpg'),\n WindowsPath('C:/Users/s2231/PycharmProjects/FastFlow/Fast_flow/FastFlow/data/package_square/cut/OK_Clip/2_Cam1_000875.jpg'),\n WindowsPath('C:/Users/s2231/PycharmProjects/FastFlow/Fast_flow/FastFlow/data/package_square/cut/OK_Clip/1_Cam1_000473.jpg'),\n WindowsPath('C:/Users/s2231/PycharmProjects/FastFlow/Fast_flow/FastFlow/data/package_square/cut/OK_Clip/2_Cam1_000271.jpg'),\n WindowsPath('C:/Users/s2231/PycharmProjects/FastFlow/Fast_flow/FastFlow/data/package_square/cut/OK_Clip/2_Cam1_000184.jpg'),\n WindowsPath('C:/Users/s2231/PycharmProjects/FastFlow/Fast_flow/FastFlow/data/package_square/cut/OK_Clip/2_Cam1_000356.jpg'),\n WindowsPath('C:/Users/s2231/PycharmProjects/FastFlow/Fast_flow/FastFlow/data/package_square/cut/OK_Clip/1_Cam1_000418.jpg'),\n WindowsPath('C:/Users/s2231/PycharmProjects/FastFlow/Fast_flow/FastFlow/data/package_square/cut/OK_Clip/2_Cam1_000684.jpg'),\n WindowsPath('C:/Users/s2231/PycharmProjects/FastFlow/Fast_flow/FastFlow/data/package_square/cut/OK_Clip/2_Cam1_000403.jpg'),\n WindowsPath('C:/Users/s2231/PycharmProjects/FastFlow/Fast_flow/FastFlow/data/package_square/cut/OK_Clip/1_Cam1_000565.jpg'),\n WindowsPath('C:/Users/s2231/PycharmProjects/FastFlow/Fast_flow/FastFlow/data/package_square/cut/OK_Clip/2_Cam1_000744.jpg'),\n WindowsPath('C:/Users/s2231/PycharmProjects/FastFlow/Fast_flow/FastFlow/data/package_square/cut/OK_Clip/1_Cam1_000163.jpg'),\n WindowsPath('C:/Users/s2231/PycharmProjects/FastFlow/Fast_flow/FastFlow/data/package_square/cut/OK_Clip/2_Cam1_000222.jpg'),\n WindowsPath('C:/Users/s2231/PycharmProjects/FastFlow/Fast_flow/FastFlow/data/package_square/cut/OK_Clip/1_Cam1_000624.jpg'),\n WindowsPath('C:/Users/s2231/PycharmProjects/FastFlow/Fast_flow/FastFlow/data/package_square/cut/OK_Clip/2_Cam1_000016.jpg'),\n WindowsPath('C:/Users/s2231/PycharmProjects/FastFlow/Fast_flow/FastFlow/data/package_square/cut/OK_Clip/2_Cam1_000394.jpg'),\n WindowsPath('C:/Users/s2231/PycharmProjects/FastFlow/Fast_flow/FastFlow/data/package_square/cut/OK_Clip/2_Cam1_000855.jpg'),\n WindowsPath('C:/Users/s2231/PycharmProjects/FastFlow/Fast_flow/FastFlow/data/package_square/cut/OK_Clip/1_Cam1_000497.jpg'),\n WindowsPath('C:/Users/s2231/PycharmProjects/FastFlow/Fast_flow/FastFlow/data/package_square/cut/OK_Clip/2_Cam1_000160.jpg'),\n WindowsPath('C:/Users/s2231/PycharmProjects/FastFlow/Fast_flow/FastFlow/data/package_square/cut/OK_Clip/1_Cam1_000295.jpg'),\n WindowsPath('C:/Users/s2231/PycharmProjects/FastFlow/Fast_flow/FastFlow/data/package_square/cut/OK_Clip/1_Cam1_000135.jpg'),\n WindowsPath('C:/Users/s2231/PycharmProjects/FastFlow/Fast_flow/FastFlow/data/package_square/cut/OK_Clip/2_Cam1_000795.jpg'),\n WindowsPath('C:/Users/s2231/PycharmProjects/FastFlow/Fast_flow/FastFlow/data/package_square/cut/OK_Clip/2_Cam1_000555.jpg'),\n WindowsPath('C:/Users/s2231/PycharmProjects/FastFlow/Fast_flow/FastFlow/data/package_square/cut/OK_Clip/2_Cam1_000432.jpg'),\n WindowsPath('C:/Users/s2231/PycharmProjects/FastFlow/Fast_flow/FastFlow/data/package_square/cut/OK_Clip/2_Cam1_000275.jpg'),\n WindowsPath('C:/Users/s2231/PycharmProjects/FastFlow/Fast_flow/FastFlow/data/package_square/cut/OK_Clip/2_Cam1_001008.jpg'),\n WindowsPath('C:/Users/s2231/PycharmProjects/FastFlow/Fast_flow/FastFlow/data/package_square/cut/OK_Clip/2_Cam1_000191.jpg'),\n WindowsPath('C:/Users/s2231/PycharmProjects/FastFlow/Fast_flow/FastFlow/data/package_square/cut/OK_Clip/2_Cam1_000558.jpg'),\n WindowsPath('C:/Users/s2231/PycharmProjects/FastFlow/Fast_flow/FastFlow/data/package_square/cut/OK_Clip/2_Cam1_000441.jpg'),\n WindowsPath('C:/Users/s2231/PycharmProjects/FastFlow/Fast_flow/FastFlow/data/package_square/cut/OK_Clip/1_Cam1_000371.jpg'),\n WindowsPath('C:/Users/s2231/PycharmProjects/FastFlow/Fast_flow/FastFlow/data/package_square/cut/OK_Clip/2_Cam1_000542.jpg'),\n WindowsPath('C:/Users/s2231/PycharmProjects/FastFlow/Fast_flow/FastFlow/data/package_square/cut/OK_Clip/1_Cam1_000193.jpg'),\n WindowsPath('C:/Users/s2231/PycharmProjects/FastFlow/Fast_flow/FastFlow/data/package_square/cut/OK_Clip/2_Cam1_000294.jpg'),\n WindowsPath('C:/Users/s2231/PycharmProjects/FastFlow/Fast_flow/FastFlow/data/package_square/cut/OK_Clip/2_Cam1_000745.jpg'),\n WindowsPath('C:/Users/s2231/PycharmProjects/FastFlow/Fast_flow/FastFlow/data/package_square/cut/OK_Clip/2_Cam1_000524.jpg'),\n WindowsPath('C:/Users/s2231/PycharmProjects/FastFlow/Fast_flow/FastFlow/data/package_square/cut/OK_Clip/1_Cam1_000556.jpg'),\n WindowsPath('C:/Users/s2231/PycharmProjects/FastFlow/Fast_flow/FastFlow/data/package_square/cut/OK_Clip/2_Cam1_000044.jpg'),\n WindowsPath('C:/Users/s2231/PycharmProjects/FastFlow/Fast_flow/FastFlow/data/package_square/cut/OK_Clip/2_Cam1_001003.jpg'),\n WindowsPath('C:/Users/s2231/PycharmProjects/FastFlow/Fast_flow/FastFlow/data/package_square/cut/OK_Clip/1_Cam1_000527.jpg'),\n WindowsPath('C:/Users/s2231/PycharmProjects/FastFlow/Fast_flow/FastFlow/data/package_square/cut/OK_Clip/1_Cam1_000414.jpg'),\n WindowsPath('C:/Users/s2231/PycharmProjects/FastFlow/Fast_flow/FastFlow/data/package_square/cut/OK_Clip/2_Cam1_000994.jpg'),\n WindowsPath('C:/Users/s2231/PycharmProjects/FastFlow/Fast_flow/FastFlow/data/package_square/cut/OK_Clip/1_Cam1_000332.jpg'),\n WindowsPath('C:/Users/s2231/PycharmProjects/FastFlow/Fast_flow/FastFlow/data/package_square/cut/OK_Clip/2_Cam1_000911.jpg'),\n WindowsPath('C:/Users/s2231/PycharmProjects/FastFlow/Fast_flow/FastFlow/data/package_square/cut/OK_Clip/2_Cam1_000847.jpg'),\n WindowsPath('C:/Users/s2231/PycharmProjects/FastFlow/Fast_flow/FastFlow/data/package_square/cut/OK_Clip/2_Cam1_000637.jpg'),\n WindowsPath('C:/Users/s2231/PycharmProjects/FastFlow/Fast_flow/FastFlow/data/package_square/cut/OK_Clip/1_Cam1_000466.jpg'),\n WindowsPath('C:/Users/s2231/PycharmProjects/FastFlow/Fast_flow/FastFlow/data/package_square/cut/OK_Clip/1_Cam1_000038.jpg'),\n WindowsPath('C:/Users/s2231/PycharmProjects/FastFlow/Fast_flow/FastFlow/data/package_square/cut/OK_Clip/2_Cam1_000340.jpg'),\n WindowsPath('C:/Users/s2231/PycharmProjects/FastFlow/Fast_flow/FastFlow/data/package_square/cut/OK_Clip/2_Cam1_000735.jpg'),\n WindowsPath('C:/Users/s2231/PycharmProjects/FastFlow/Fast_flow/FastFlow/data/package_square/cut/OK_Clip/2_Cam1_000658.jpg'),\n WindowsPath('C:/Users/s2231/PycharmProjects/FastFlow/Fast_flow/FastFlow/data/package_square/cut/OK_Clip/2_Cam1_000172.jpg'),\n WindowsPath('C:/Users/s2231/PycharmProjects/FastFlow/Fast_flow/FastFlow/data/package_square/cut/OK_Clip/2_Cam1_000957.jpg'),\n WindowsPath('C:/Users/s2231/PycharmProjects/FastFlow/Fast_flow/FastFlow/data/package_square/cut/OK_Clip/2_Cam1_000081.jpg'),\n WindowsPath('C:/Users/s2231/PycharmProjects/FastFlow/Fast_flow/FastFlow/data/package_square/cut/OK_Clip/1_Cam1_000422.jpg'),\n WindowsPath('C:/Users/s2231/PycharmProjects/FastFlow/Fast_flow/FastFlow/data/package_square/cut/OK_Clip/2_Cam1_000874.jpg'),\n WindowsPath('C:/Users/s2231/PycharmProjects/FastFlow/Fast_flow/FastFlow/data/package_square/cut/OK_Clip/2_Cam1_000844.jpg'),\n WindowsPath('C:/Users/s2231/PycharmProjects/FastFlow/Fast_flow/FastFlow/data/package_square/cut/OK_Clip/1_Cam1_000108.jpg'),\n WindowsPath('C:/Users/s2231/PycharmProjects/FastFlow/Fast_flow/FastFlow/data/package_square/cut/OK_Clip/2_Cam1_001200.jpg'),\n WindowsPath('C:/Users/s2231/PycharmProjects/FastFlow/Fast_flow/FastFlow/data/package_square/cut/OK_Clip/1_Cam1_000329.jpg'),\n WindowsPath('C:/Users/s2231/PycharmProjects/FastFlow/Fast_flow/FastFlow/data/package_square/cut/OK_Clip/1_Cam1_000342.jpg'),\n WindowsPath('C:/Users/s2231/PycharmProjects/FastFlow/Fast_flow/FastFlow/data/package_square/cut/OK_Clip/2_Cam1_000216.jpg'),\n WindowsPath('C:/Users/s2231/PycharmProjects/FastFlow/Fast_flow/FastFlow/data/package_square/cut/OK_Clip/2_Cam1_000613.jpg'),\n WindowsPath('C:/Users/s2231/PycharmProjects/FastFlow/Fast_flow/FastFlow/data/package_square/cut/OK_Clip/2_Cam1_001083.jpg'),\n WindowsPath('C:/Users/s2231/PycharmProjects/FastFlow/Fast_flow/FastFlow/data/package_square/cut/OK_Clip/2_Cam1_000719.jpg'),\n WindowsPath('C:/Users/s2231/PycharmProjects/FastFlow/Fast_flow/FastFlow/data/package_square/cut/OK_Clip/2_Cam1_001029.jpg'),\n WindowsPath('C:/Users/s2231/PycharmProjects/FastFlow/Fast_flow/FastFlow/data/package_square/cut/OK_Clip/2_Cam1_000021.jpg'),\n WindowsPath('C:/Users/s2231/PycharmProjects/FastFlow/Fast_flow/FastFlow/data/package_square/cut/OK_Clip/2_Cam1_000448.jpg'),\n WindowsPath('C:/Users/s2231/PycharmProjects/FastFlow/Fast_flow/FastFlow/data/package_square/cut/OK_Clip/1_Cam1_000600.jpg'),\n WindowsPath('C:/Users/s2231/PycharmProjects/FastFlow/Fast_flow/FastFlow/data/package_square/cut/OK_Clip/1_Cam1_000186.jpg'),\n WindowsPath('C:/Users/s2231/PycharmProjects/FastFlow/Fast_flow/FastFlow/data/package_square/cut/OK_Clip/1_Cam1_000285.jpg'),\n WindowsPath('C:/Users/s2231/PycharmProjects/FastFlow/Fast_flow/FastFlow/data/package_square/cut/OK_Clip/1_Cam1_000453.jpg'),\n WindowsPath('C:/Users/s2231/PycharmProjects/FastFlow/Fast_flow/FastFlow/data/package_square/cut/OK_Clip/2_Cam1_000038.jpg'),\n WindowsPath('C:/Users/s2231/PycharmProjects/FastFlow/Fast_flow/FastFlow/data/package_square/cut/OK_Clip/1_Cam1_000532.jpg'),\n WindowsPath('C:/Users/s2231/PycharmProjects/FastFlow/Fast_flow/FastFlow/data/package_square/cut/OK_Clip/2_Cam1_000212.jpg'),\n WindowsPath('C:/Users/s2231/PycharmProjects/FastFlow/Fast_flow/FastFlow/data/package_square/cut/OK_Clip/1_Cam1_000180.jpg'),\n WindowsPath('C:/Users/s2231/PycharmProjects/FastFlow/Fast_flow/FastFlow/data/package_square/cut/OK_Clip/2_Cam1_000454.jpg'),\n WindowsPath('C:/Users/s2231/PycharmProjects/FastFlow/Fast_flow/FastFlow/data/package_square/cut/OK_Clip/2_Cam1_000265.jpg'),\n WindowsPath('C:/Users/s2231/PycharmProjects/FastFlow/Fast_flow/FastFlow/data/package_square/cut/OK_Clip/2_Cam1_001121.jpg'),\n WindowsPath('C:/Users/s2231/PycharmProjects/FastFlow/Fast_flow/FastFlow/data/package_square/cut/OK_Clip/2_Cam1_000760.jpg'),\n WindowsPath('C:/Users/s2231/PycharmProjects/FastFlow/Fast_flow/FastFlow/data/package_square/cut/OK_Clip/1_Cam1_000022.jpg'),\n WindowsPath('C:/Users/s2231/PycharmProjects/FastFlow/Fast_flow/FastFlow/data/package_square/cut/OK_Clip/2_Cam1_001030.jpg'),\n WindowsPath('C:/Users/s2231/PycharmProjects/FastFlow/Fast_flow/FastFlow/data/package_square/cut/OK_Clip/1_Cam1_000590.jpg'),\n WindowsPath('C:/Users/s2231/PycharmProjects/FastFlow/Fast_flow/FastFlow/data/package_square/cut/OK_Clip/2_Cam1_000061.jpg'),\n WindowsPath('C:/Users/s2231/PycharmProjects/FastFlow/Fast_flow/FastFlow/data/package_square/cut/OK_Clip/2_Cam1_000758.jpg'),\n WindowsPath('C:/Users/s2231/PycharmProjects/FastFlow/Fast_flow/FastFlow/data/package_square/cut/OK_Clip/2_Cam1_001139.jpg'),\n WindowsPath('C:/Users/s2231/PycharmProjects/FastFlow/Fast_flow/FastFlow/data/package_square/cut/OK_Clip/1_Cam1_000027.jpg'),\n WindowsPath('C:/Users/s2231/PycharmProjects/FastFlow/Fast_flow/FastFlow/data/package_square/cut/OK_Clip/1_Cam1_000257.jpg'),\n WindowsPath('C:/Users/s2231/PycharmProjects/FastFlow/Fast_flow/FastFlow/data/package_square/cut/OK_Clip/1_Cam1_000619.jpg'),\n WindowsPath('C:/Users/s2231/PycharmProjects/FastFlow/Fast_flow/FastFlow/data/package_square/cut/OK_Clip/2_Cam1_001101.jpg'),\n WindowsPath('C:/Users/s2231/PycharmProjects/FastFlow/Fast_flow/FastFlow/data/package_square/cut/OK_Clip/2_Cam1_000123.jpg'),\n WindowsPath('C:/Users/s2231/PycharmProjects/FastFlow/Fast_flow/FastFlow/data/package_square/cut/OK_Clip/1_Cam1_000443.jpg'),\n WindowsPath('C:/Users/s2231/PycharmProjects/FastFlow/Fast_flow/FastFlow/data/package_square/cut/OK_Clip/2_Cam1_001161.jpg'),\n WindowsPath('C:/Users/s2231/PycharmProjects/FastFlow/Fast_flow/FastFlow/data/package_square/cut/OK_Clip/1_Cam1_000613.jpg'),\n WindowsPath('C:/Users/s2231/PycharmProjects/FastFlow/Fast_flow/FastFlow/data/package_square/cut/OK_Clip/2_Cam1_000458.jpg'),\n WindowsPath('C:/Users/s2231/PycharmProjects/FastFlow/Fast_flow/FastFlow/data/package_square/cut/OK_Clip/2_Cam1_000833.jpg'),\n WindowsPath('C:/Users/s2231/PycharmProjects/FastFlow/Fast_flow/FastFlow/data/package_square/cut/OK_Clip/2_Cam1_001076.jpg'),\n WindowsPath('C:/Users/s2231/PycharmProjects/FastFlow/Fast_flow/FastFlow/data/package_square/cut/OK_Clip/2_Cam1_001106.jpg'),\n WindowsPath('C:/Users/s2231/PycharmProjects/FastFlow/Fast_flow/FastFlow/data/package_square/cut/OK_Clip/1_Cam1_000513.jpg'),\n WindowsPath('C:/Users/s2231/PycharmProjects/FastFlow/Fast_flow/FastFlow/data/package_square/cut/OK_Clip/1_Cam1_000279.jpg'),\n WindowsPath('C:/Users/s2231/PycharmProjects/FastFlow/Fast_flow/FastFlow/data/package_square/cut/OK_Clip/1_Cam1_000413.jpg'),\n WindowsPath('C:/Users/s2231/PycharmProjects/FastFlow/Fast_flow/FastFlow/data/package_square/cut/OK_Clip/2_Cam1_000461.jpg'),\n WindowsPath('C:/Users/s2231/PycharmProjects/FastFlow/Fast_flow/FastFlow/data/package_square/cut/OK_Clip/2_Cam1_000604.jpg'),\n WindowsPath('C:/Users/s2231/PycharmProjects/FastFlow/Fast_flow/FastFlow/data/package_square/cut/OK_Clip/2_Cam1_000214.jpg'),\n WindowsPath('C:/Users/s2231/PycharmProjects/FastFlow/Fast_flow/FastFlow/data/package_square/cut/OK_Clip/1_Cam1_000480.jpg'),\n WindowsPath('C:/Users/s2231/PycharmProjects/FastFlow/Fast_flow/FastFlow/data/package_square/cut/OK_Clip/2_Cam1_000951.jpg'),\n WindowsPath('C:/Users/s2231/PycharmProjects/FastFlow/Fast_flow/FastFlow/data/package_square/cut/OK_Clip/2_Cam1_000500.jpg'),\n WindowsPath('C:/Users/s2231/PycharmProjects/FastFlow/Fast_flow/FastFlow/data/package_square/cut/OK_Clip/2_Cam1_000610.jpg'),\n WindowsPath('C:/Users/s2231/PycharmProjects/FastFlow/Fast_flow/FastFlow/data/package_square/cut/OK_Clip/2_Cam1_001184.jpg'),\n WindowsPath('C:/Users/s2231/PycharmProjects/FastFlow/Fast_flow/FastFlow/data/package_square/cut/OK_Clip/2_Cam1_000137.jpg'),\n WindowsPath('C:/Users/s2231/PycharmProjects/FastFlow/Fast_flow/FastFlow/data/package_square/cut/OK_Clip/1_Cam1_000610.jpg'),\n WindowsPath('C:/Users/s2231/PycharmProjects/FastFlow/Fast_flow/FastFlow/data/package_square/cut/OK_Clip/1_Cam1_000315.jpg'),\n WindowsPath('C:/Users/s2231/PycharmProjects/FastFlow/Fast_flow/FastFlow/data/package_square/cut/OK_Clip/1_Cam1_000170.jpg'),\n WindowsPath('C:/Users/s2231/PycharmProjects/FastFlow/Fast_flow/FastFlow/data/package_square/cut/OK_Clip/2_Cam1_000234.jpg'),\n WindowsPath('C:/Users/s2231/PycharmProjects/FastFlow/Fast_flow/FastFlow/data/package_square/cut/OK_Clip/2_Cam1_000711.jpg'),\n WindowsPath('C:/Users/s2231/PycharmProjects/FastFlow/Fast_flow/FastFlow/data/package_square/cut/OK_Clip/2_Cam1_000938.jpg'),\n WindowsPath('C:/Users/s2231/PycharmProjects/FastFlow/Fast_flow/FastFlow/data/package_square/cut/OK_Clip/1_Cam1_000273.jpg'),\n WindowsPath('C:/Users/s2231/PycharmProjects/FastFlow/Fast_flow/FastFlow/data/package_square/cut/OK_Clip/2_Cam1_000630.jpg'),\n WindowsPath('C:/Users/s2231/PycharmProjects/FastFlow/Fast_flow/FastFlow/data/package_square/cut/OK_Clip/2_Cam1_001098.jpg'),\n WindowsPath('C:/Users/s2231/PycharmProjects/FastFlow/Fast_flow/FastFlow/data/package_square/cut/OK_Clip/1_Cam1_000231.jpg'),\n WindowsPath('C:/Users/s2231/PycharmProjects/FastFlow/Fast_flow/FastFlow/data/package_square/cut/OK_Clip/2_Cam1_000743.jpg'),\n WindowsPath('C:/Users/s2231/PycharmProjects/FastFlow/Fast_flow/FastFlow/data/package_square/cut/OK_Clip/2_Cam1_000853.jpg'),\n WindowsPath('C:/Users/s2231/PycharmProjects/FastFlow/Fast_flow/FastFlow/data/package_square/cut/OK_Clip/2_Cam1_000464.jpg'),\n WindowsPath('C:/Users/s2231/PycharmProjects/FastFlow/Fast_flow/FastFlow/data/package_square/cut/OK_Clip/1_Cam1_000203.jpg'),\n WindowsPath('C:/Users/s2231/PycharmProjects/FastFlow/Fast_flow/FastFlow/data/package_square/cut/OK_Clip/2_Cam1_000865.jpg'),\n WindowsPath('C:/Users/s2231/PycharmProjects/FastFlow/Fast_flow/FastFlow/data/package_square/cut/OK_Clip/2_Cam1_001118.jpg'),\n WindowsPath('C:/Users/s2231/PycharmProjects/FastFlow/Fast_flow/FastFlow/data/package_square/cut/OK_Clip/2_Cam1_001159.jpg'),\n WindowsPath('C:/Users/s2231/PycharmProjects/FastFlow/Fast_flow/FastFlow/data/package_square/cut/OK_Clip/2_Cam1_000786.jpg'),\n WindowsPath('C:/Users/s2231/PycharmProjects/FastFlow/Fast_flow/FastFlow/data/package_square/cut/OK_Clip/2_Cam1_000484.jpg'),\n WindowsPath('C:/Users/s2231/PycharmProjects/FastFlow/Fast_flow/FastFlow/data/package_square/cut/OK_Clip/2_Cam1_001103.jpg'),\n WindowsPath('C:/Users/s2231/PycharmProjects/FastFlow/Fast_flow/FastFlow/data/package_square/cut/OK_Clip/1_Cam1_000240.jpg'),\n WindowsPath('C:/Users/s2231/PycharmProjects/FastFlow/Fast_flow/FastFlow/data/package_square/cut/OK_Clip/2_Cam1_000074.jpg'),\n WindowsPath('C:/Users/s2231/PycharmProjects/FastFlow/Fast_flow/FastFlow/data/package_square/cut/OK_Clip/1_Cam1_000073.jpg'),\n WindowsPath('C:/Users/s2231/PycharmProjects/FastFlow/Fast_flow/FastFlow/data/package_square/cut/OK_Clip/2_Cam1_000488.jpg'),\n WindowsPath('C:/Users/s2231/PycharmProjects/FastFlow/Fast_flow/FastFlow/data/package_square/cut/OK_Clip/2_Cam1_001046.jpg'),\n WindowsPath('C:/Users/s2231/PycharmProjects/FastFlow/Fast_flow/FastFlow/data/package_square/cut/OK_Clip/2_Cam1_001070.jpg'),\n WindowsPath('C:/Users/s2231/PycharmProjects/FastFlow/Fast_flow/FastFlow/data/package_square/cut/OK_Clip/2_Cam1_000094.jpg'),\n WindowsPath('C:/Users/s2231/PycharmProjects/FastFlow/Fast_flow/FastFlow/data/package_square/cut/OK_Clip/1_Cam1_000296.jpg'),\n WindowsPath('C:/Users/s2231/PycharmProjects/FastFlow/Fast_flow/FastFlow/data/package_square/cut/OK_Clip/1_Cam1_000238.jpg'),\n WindowsPath('C:/Users/s2231/PycharmProjects/FastFlow/Fast_flow/FastFlow/data/package_square/cut/OK_Clip/1_Cam1_000034.jpg'),\n WindowsPath('C:/Users/s2231/PycharmProjects/FastFlow/Fast_flow/FastFlow/data/package_square/cut/OK_Clip/1_Cam1_000299.jpg'),\n WindowsPath('C:/Users/s2231/PycharmProjects/FastFlow/Fast_flow/FastFlow/data/package_square/cut/OK_Clip/2_Cam1_000586.jpg'),\n WindowsPath('C:/Users/s2231/PycharmProjects/FastFlow/Fast_flow/FastFlow/data/package_square/cut/OK_Clip/1_Cam1_000609.jpg'),\n WindowsPath('C:/Users/s2231/PycharmProjects/FastFlow/Fast_flow/FastFlow/data/package_square/cut/OK_Clip/2_Cam1_000076.jpg'),\n WindowsPath('C:/Users/s2231/PycharmProjects/FastFlow/Fast_flow/FastFlow/data/package_square/cut/OK_Clip/2_Cam1_001173.jpg'),\n WindowsPath('C:/Users/s2231/PycharmProjects/FastFlow/Fast_flow/FastFlow/data/package_square/cut/OK_Clip/2_Cam1_001104.jpg'),\n WindowsPath('C:/Users/s2231/PycharmProjects/FastFlow/Fast_flow/FastFlow/data/package_square/cut/OK_Clip/1_Cam1_000003.jpg'),\n WindowsPath('C:/Users/s2231/PycharmProjects/FastFlow/Fast_flow/FastFlow/data/package_square/cut/OK_Clip/2_Cam1_000223.jpg'),\n WindowsPath('C:/Users/s2231/PycharmProjects/FastFlow/Fast_flow/FastFlow/data/package_square/cut/OK_Clip/1_Cam1_000077.jpg'),\n WindowsPath('C:/Users/s2231/PycharmProjects/FastFlow/Fast_flow/FastFlow/data/package_square/cut/OK_Clip/1_Cam1_000566.jpg'),\n WindowsPath('C:/Users/s2231/PycharmProjects/FastFlow/Fast_flow/FastFlow/data/package_square/cut/OK_Clip/2_Cam1_000405.jpg'),\n WindowsPath('C:/Users/s2231/PycharmProjects/FastFlow/Fast_flow/FastFlow/data/package_square/cut/OK_Clip/2_Cam1_000836.jpg'),\n WindowsPath('C:/Users/s2231/PycharmProjects/FastFlow/Fast_flow/FastFlow/data/package_square/cut/OK_Clip/1_Cam1_000161.jpg'),\n WindowsPath('C:/Users/s2231/PycharmProjects/FastFlow/Fast_flow/FastFlow/data/package_square/cut/OK_Clip/1_Cam1_000084.jpg'),\n WindowsPath('C:/Users/s2231/PycharmProjects/FastFlow/Fast_flow/FastFlow/data/package_square/cut/OK_Clip/2_Cam1_000628.jpg'),\n WindowsPath('C:/Users/s2231/PycharmProjects/FastFlow/Fast_flow/FastFlow/data/package_square/cut/OK_Clip/2_Cam1_001211.jpg'),\n WindowsPath('C:/Users/s2231/PycharmProjects/FastFlow/Fast_flow/FastFlow/data/package_square/cut/OK_Clip/2_Cam1_000845.jpg'),\n WindowsPath('C:/Users/s2231/PycharmProjects/FastFlow/Fast_flow/FastFlow/data/package_square/cut/OK_Clip/2_Cam1_000011.jpg'),\n WindowsPath('C:/Users/s2231/PycharmProjects/FastFlow/Fast_flow/FastFlow/data/package_square/cut/OK_Clip/2_Cam1_000750.jpg'),\n WindowsPath('C:/Users/s2231/PycharmProjects/FastFlow/Fast_flow/FastFlow/data/package_square/cut/OK_Clip/2_Cam1_001048.jpg'),\n WindowsPath('C:/Users/s2231/PycharmProjects/FastFlow/Fast_flow/FastFlow/data/package_square/cut/OK_Clip/1_Cam1_000102.jpg'),\n WindowsPath('C:/Users/s2231/PycharmProjects/FastFlow/Fast_flow/FastFlow/data/package_square/cut/OK_Clip/2_Cam1_000128.jpg'),\n WindowsPath('C:/Users/s2231/PycharmProjects/FastFlow/Fast_flow/FastFlow/data/package_square/cut/OK_Clip/2_Cam1_000398.jpg'),\n WindowsPath('C:/Users/s2231/PycharmProjects/FastFlow/Fast_flow/FastFlow/data/package_square/cut/OK_Clip/2_Cam1_001197.jpg'),\n WindowsPath('C:/Users/s2231/PycharmProjects/FastFlow/Fast_flow/FastFlow/data/package_square/cut/OK_Clip/2_Cam1_001181.jpg'),\n WindowsPath('C:/Users/s2231/PycharmProjects/FastFlow/Fast_flow/FastFlow/data/package_square/cut/OK_Clip/1_Cam1_000583.jpg'),\n WindowsPath('C:/Users/s2231/PycharmProjects/FastFlow/Fast_flow/FastFlow/data/package_square/cut/OK_Clip/2_Cam1_000453.jpg'),\n WindowsPath('C:/Users/s2231/PycharmProjects/FastFlow/Fast_flow/FastFlow/data/package_square/cut/OK_Clip/1_Cam1_000440.jpg'),\n WindowsPath('C:/Users/s2231/PycharmProjects/FastFlow/Fast_flow/FastFlow/data/package_square/cut/OK_Clip/1_Cam1_000603.jpg'),\n WindowsPath('C:/Users/s2231/PycharmProjects/FastFlow/Fast_flow/FastFlow/data/package_square/cut/OK_Clip/1_Cam1_000305.jpg'),\n WindowsPath('C:/Users/s2231/PycharmProjects/FastFlow/Fast_flow/FastFlow/data/package_square/cut/OK_Clip/1_Cam1_000454.jpg'),\n WindowsPath('C:/Users/s2231/PycharmProjects/FastFlow/Fast_flow/FastFlow/data/package_square/cut/OK_Clip/1_Cam1_000462.jpg'),\n WindowsPath('C:/Users/s2231/PycharmProjects/FastFlow/Fast_flow/FastFlow/data/package_square/cut/OK_Clip/2_Cam1_000639.jpg'),\n WindowsPath('C:/Users/s2231/PycharmProjects/FastFlow/Fast_flow/FastFlow/data/package_square/cut/OK_Clip/1_Cam1_000536.jpg'),\n WindowsPath('C:/Users/s2231/PycharmProjects/FastFlow/Fast_flow/FastFlow/data/package_square/cut/OK_Clip/2_Cam1_000165.jpg'),\n WindowsPath('C:/Users/s2231/PycharmProjects/FastFlow/Fast_flow/FastFlow/data/package_square/cut/OK_Clip/1_Cam1_000232.jpg'),\n WindowsPath('C:/Users/s2231/PycharmProjects/FastFlow/Fast_flow/FastFlow/data/package_square/cut/OK_Clip/2_Cam1_000644.jpg'),\n WindowsPath('C:/Users/s2231/PycharmProjects/FastFlow/Fast_flow/FastFlow/data/package_square/cut/OK_Clip/2_Cam1_000180.jpg'),\n WindowsPath('C:/Users/s2231/PycharmProjects/FastFlow/Fast_flow/FastFlow/data/package_square/cut/OK_Clip/2_Cam1_000381.jpg'),\n WindowsPath('C:/Users/s2231/PycharmProjects/FastFlow/Fast_flow/FastFlow/data/package_square/cut/OK_Clip/1_Cam1_000621.jpg'),\n WindowsPath('C:/Users/s2231/PycharmProjects/FastFlow/Fast_flow/FastFlow/data/package_square/cut/OK_Clip/1_Cam1_000427.jpg'),\n WindowsPath('C:/Users/s2231/PycharmProjects/FastFlow/Fast_flow/FastFlow/data/package_square/cut/OK_Clip/2_Cam1_000153.jpg'),\n WindowsPath('C:/Users/s2231/PycharmProjects/FastFlow/Fast_flow/FastFlow/data/package_square/cut/OK_Clip/2_Cam1_001022.jpg'),\n WindowsPath('C:/Users/s2231/PycharmProjects/FastFlow/Fast_flow/FastFlow/data/package_square/cut/OK_Clip/1_Cam1_000122.jpg'),\n WindowsPath('C:/Users/s2231/PycharmProjects/FastFlow/Fast_flow/FastFlow/data/package_square/cut/OK_Clip/1_Cam1_000255.jpg'),\n WindowsPath('C:/Users/s2231/PycharmProjects/FastFlow/Fast_flow/FastFlow/data/package_square/cut/OK_Clip/2_Cam1_000372.jpg'),\n WindowsPath('C:/Users/s2231/PycharmProjects/FastFlow/Fast_flow/FastFlow/data/package_square/cut/OK_Clip/1_Cam1_000312.jpg'),\n WindowsPath('C:/Users/s2231/PycharmProjects/FastFlow/Fast_flow/FastFlow/data/package_square/cut/OK_Clip/1_Cam1_000577.jpg'),\n WindowsPath('C:/Users/s2231/PycharmProjects/FastFlow/Fast_flow/FastFlow/data/package_square/cut/OK_Clip/2_Cam1_000207.jpg'),\n WindowsPath('C:/Users/s2231/PycharmProjects/FastFlow/Fast_flow/FastFlow/data/package_square/cut/OK_Clip/1_Cam1_000153.jpg'),\n WindowsPath('C:/Users/s2231/PycharmProjects/FastFlow/Fast_flow/FastFlow/data/package_square/cut/OK_Clip/2_Cam1_000589.jpg'),\n WindowsPath('C:/Users/s2231/PycharmProjects/FastFlow/Fast_flow/FastFlow/data/package_square/cut/OK_Clip/2_Cam1_001191.jpg'),\n WindowsPath('C:/Users/s2231/PycharmProjects/FastFlow/Fast_flow/FastFlow/data/package_square/cut/OK_Clip/2_Cam1_000739.jpg'),\n WindowsPath('C:/Users/s2231/PycharmProjects/FastFlow/Fast_flow/FastFlow/data/package_square/cut/OK_Clip/2_Cam1_001086.jpg'),\n WindowsPath('C:/Users/s2231/PycharmProjects/FastFlow/Fast_flow/FastFlow/data/package_square/cut/OK_Clip/1_Cam1_000591.jpg'),\n WindowsPath('C:/Users/s2231/PycharmProjects/FastFlow/Fast_flow/FastFlow/data/package_square/cut/OK_Clip/1_Cam1_000076.jpg'),\n WindowsPath('C:/Users/s2231/PycharmProjects/FastFlow/Fast_flow/FastFlow/data/package_square/cut/OK_Clip/1_Cam1_000504.jpg'),\n WindowsPath('C:/Users/s2231/PycharmProjects/FastFlow/Fast_flow/FastFlow/data/package_square/cut/OK_Clip/1_Cam1_000411.jpg'),\n WindowsPath('C:/Users/s2231/PycharmProjects/FastFlow/Fast_flow/FastFlow/data/package_square/cut/OK_Clip/1_Cam1_000067.jpg'),\n WindowsPath('C:/Users/s2231/PycharmProjects/FastFlow/Fast_flow/FastFlow/data/package_square/cut/OK_Clip/2_Cam1_000915.jpg'),\n WindowsPath('C:/Users/s2231/PycharmProjects/FastFlow/Fast_flow/FastFlow/data/package_square/cut/OK_Clip/2_Cam1_000846.jpg'),\n WindowsPath('C:/Users/s2231/PycharmProjects/FastFlow/Fast_flow/FastFlow/data/package_square/cut/OK_Clip/2_Cam1_000537.jpg'),\n WindowsPath('C:/Users/s2231/PycharmProjects/FastFlow/Fast_flow/FastFlow/data/package_square/cut/OK_Clip/2_Cam1_000918.jpg'),\n WindowsPath('C:/Users/s2231/PycharmProjects/FastFlow/Fast_flow/FastFlow/data/package_square/cut/OK_Clip/2_Cam1_000451.jpg'),\n WindowsPath('C:/Users/s2231/PycharmProjects/FastFlow/Fast_flow/FastFlow/data/package_square/cut/OK_Clip/2_Cam1_000562.jpg'),\n WindowsPath('C:/Users/s2231/PycharmProjects/FastFlow/Fast_flow/FastFlow/data/package_square/cut/OK_Clip/1_Cam1_000189.jpg'),\n WindowsPath('C:/Users/s2231/PycharmProjects/FastFlow/Fast_flow/FastFlow/data/package_square/cut/OK_Clip/2_Cam1_000384.jpg'),\n WindowsPath('C:/Users/s2231/PycharmProjects/FastFlow/Fast_flow/FastFlow/data/package_square/cut/OK_Clip/2_Cam1_000499.jpg'),\n WindowsPath('C:/Users/s2231/PycharmProjects/FastFlow/Fast_flow/FastFlow/data/package_square/cut/OK_Clip/2_Cam1_001136.jpg'),\n WindowsPath('C:/Users/s2231/PycharmProjects/FastFlow/Fast_flow/FastFlow/data/package_square/cut/OK_Clip/2_Cam1_001041.jpg'),\n WindowsPath('C:/Users/s2231/PycharmProjects/FastFlow/Fast_flow/FastFlow/data/package_square/cut/OK_Clip/1_Cam1_000292.jpg'),\n WindowsPath('C:/Users/s2231/PycharmProjects/FastFlow/Fast_flow/FastFlow/data/package_square/cut/OK_Clip/2_Cam1_000606.jpg'),\n WindowsPath('C:/Users/s2231/PycharmProjects/FastFlow/Fast_flow/FastFlow/data/package_square/cut/OK_Clip/2_Cam1_000889.jpg'),\n WindowsPath('C:/Users/s2231/PycharmProjects/FastFlow/Fast_flow/FastFlow/data/package_square/cut/OK_Clip/2_Cam1_000636.jpg'),\n WindowsPath('C:/Users/s2231/PycharmProjects/FastFlow/Fast_flow/FastFlow/data/package_square/cut/OK_Clip/1_Cam1_000106.jpg'),\n WindowsPath('C:/Users/s2231/PycharmProjects/FastFlow/Fast_flow/FastFlow/data/package_square/cut/OK_Clip/2_Cam1_000360.jpg'),\n WindowsPath('C:/Users/s2231/PycharmProjects/FastFlow/Fast_flow/FastFlow/data/package_square/cut/OK_Clip/2_Cam1_000141.jpg'),\n WindowsPath('C:/Users/s2231/PycharmProjects/FastFlow/Fast_flow/FastFlow/data/package_square/cut/OK_Clip/2_Cam1_001145.jpg'),\n WindowsPath('C:/Users/s2231/PycharmProjects/FastFlow/Fast_flow/FastFlow/data/package_square/cut/OK_Clip/2_Cam1_000024.jpg'),\n WindowsPath('C:/Users/s2231/PycharmProjects/FastFlow/Fast_flow/FastFlow/data/package_square/cut/OK_Clip/2_Cam1_000297.jpg'),\n WindowsPath('C:/Users/s2231/PycharmProjects/FastFlow/Fast_flow/FastFlow/data/package_square/cut/OK_Clip/2_Cam1_001204.jpg'),\n WindowsPath('C:/Users/s2231/PycharmProjects/FastFlow/Fast_flow/FastFlow/data/package_square/cut/OK_Clip/1_Cam1_000300.jpg'),\n WindowsPath('C:/Users/s2231/PycharmProjects/FastFlow/Fast_flow/FastFlow/data/package_square/cut/OK_Clip/2_Cam1_000345.jpg'),\n WindowsPath('C:/Users/s2231/PycharmProjects/FastFlow/Fast_flow/FastFlow/data/package_square/cut/OK_Clip/2_Cam1_000931.jpg'),\n WindowsPath('C:/Users/s2231/PycharmProjects/FastFlow/Fast_flow/FastFlow/data/package_square/cut/OK_Clip/1_Cam1_000047.jpg'),\n WindowsPath('C:/Users/s2231/PycharmProjects/FastFlow/Fast_flow/FastFlow/data/package_square/cut/OK_Clip/1_Cam1_000281.jpg'),\n WindowsPath('C:/Users/s2231/PycharmProjects/FastFlow/Fast_flow/FastFlow/data/package_square/cut/OK_Clip/1_Cam1_000130.jpg'),\n WindowsPath('C:/Users/s2231/PycharmProjects/FastFlow/Fast_flow/FastFlow/data/package_square/cut/OK_Clip/2_Cam1_001114.jpg'),\n WindowsPath('C:/Users/s2231/PycharmProjects/FastFlow/Fast_flow/FastFlow/data/package_square/cut/OK_Clip/2_Cam1_000917.jpg'),\n WindowsPath('C:/Users/s2231/PycharmProjects/FastFlow/Fast_flow/FastFlow/data/package_square/cut/OK_Clip/2_Cam1_000947.jpg'),\n WindowsPath('C:/Users/s2231/PycharmProjects/FastFlow/Fast_flow/FastFlow/data/package_square/cut/OK_Clip/1_Cam1_000310.jpg'),\n WindowsPath('C:/Users/s2231/PycharmProjects/FastFlow/Fast_flow/FastFlow/data/package_square/cut/OK_Clip/1_Cam1_000184.jpg'),\n WindowsPath('C:/Users/s2231/PycharmProjects/FastFlow/Fast_flow/FastFlow/data/package_square/cut/OK_Clip/1_Cam1_000370.jpg'),\n WindowsPath('C:/Users/s2231/PycharmProjects/FastFlow/Fast_flow/FastFlow/data/package_square/cut/OK_Clip/1_Cam1_000233.jpg'),\n WindowsPath('C:/Users/s2231/PycharmProjects/FastFlow/Fast_flow/FastFlow/data/package_square/cut/OK_Clip/2_Cam1_000707.jpg'),\n WindowsPath('C:/Users/s2231/PycharmProjects/FastFlow/Fast_flow/FastFlow/data/package_square/cut/OK_Clip/2_Cam1_001206.jpg'),\n WindowsPath('C:/Users/s2231/PycharmProjects/FastFlow/Fast_flow/FastFlow/data/package_square/cut/OK_Clip/2_Cam1_000229.jpg'),\n WindowsPath('C:/Users/s2231/PycharmProjects/FastFlow/Fast_flow/FastFlow/data/package_square/cut/OK_Clip/2_Cam1_000659.jpg'),\n WindowsPath('C:/Users/s2231/PycharmProjects/FastFlow/Fast_flow/FastFlow/data/package_square/cut/OK_Clip/1_Cam1_000290.jpg'),\n WindowsPath('C:/Users/s2231/PycharmProjects/FastFlow/Fast_flow/FastFlow/data/package_square/cut/OK_Clip/2_Cam1_000979.jpg'),\n WindowsPath('C:/Users/s2231/PycharmProjects/FastFlow/Fast_flow/FastFlow/data/package_square/cut/OK_Clip/1_Cam1_000538.jpg'),\n WindowsPath('C:/Users/s2231/PycharmProjects/FastFlow/Fast_flow/FastFlow/data/package_square/cut/OK_Clip/2_Cam1_001131.jpg'),\n WindowsPath('C:/Users/s2231/PycharmProjects/FastFlow/Fast_flow/FastFlow/data/package_square/cut/OK_Clip/1_Cam1_000604.jpg'),\n WindowsPath('C:/Users/s2231/PycharmProjects/FastFlow/Fast_flow/FastFlow/data/package_square/cut/OK_Clip/2_Cam1_001168.jpg'),\n WindowsPath('C:/Users/s2231/PycharmProjects/FastFlow/Fast_flow/FastFlow/data/package_square/cut/OK_Clip/2_Cam1_000526.jpg'),\n WindowsPath('C:/Users/s2231/PycharmProjects/FastFlow/Fast_flow/FastFlow/data/package_square/cut/OK_Clip/1_Cam1_000496.jpg'),\n WindowsPath('C:/Users/s2231/PycharmProjects/FastFlow/Fast_flow/FastFlow/data/package_square/cut/OK_Clip/2_Cam1_000710.jpg'),\n WindowsPath('C:/Users/s2231/PycharmProjects/FastFlow/Fast_flow/FastFlow/data/package_square/cut/OK_Clip/2_Cam1_000440.jpg'),\n WindowsPath('C:/Users/s2231/PycharmProjects/FastFlow/Fast_flow/FastFlow/data/package_square/cut/OK_Clip/1_Cam1_000197.jpg'),\n WindowsPath('C:/Users/s2231/PycharmProjects/FastFlow/Fast_flow/FastFlow/data/package_square/cut/OK_Clip/2_Cam1_000919.jpg'),\n WindowsPath('C:/Users/s2231/PycharmProjects/FastFlow/Fast_flow/FastFlow/data/package_square/cut/OK_Clip/2_Cam1_000077.jpg'),\n WindowsPath('C:/Users/s2231/PycharmProjects/FastFlow/Fast_flow/FastFlow/data/package_square/cut/OK_Clip/2_Cam1_000151.jpg'),\n WindowsPath('C:/Users/s2231/PycharmProjects/FastFlow/Fast_flow/FastFlow/data/package_square/cut/OK_Clip/2_Cam1_001091.jpg'),\n WindowsPath('C:/Users/s2231/PycharmProjects/FastFlow/Fast_flow/FastFlow/data/package_square/cut/OK_Clip/2_Cam1_000131.jpg'),\n WindowsPath('C:/Users/s2231/PycharmProjects/FastFlow/Fast_flow/FastFlow/data/package_square/cut/OK_Clip/1_Cam1_000123.jpg'),\n WindowsPath('C:/Users/s2231/PycharmProjects/FastFlow/Fast_flow/FastFlow/data/package_square/cut/OK_Clip/2_Cam1_000762.jpg'),\n WindowsPath('C:/Users/s2231/PycharmProjects/FastFlow/Fast_flow/FastFlow/data/package_square/cut/OK_Clip/1_Cam1_000198.jpg'),\n WindowsPath('C:/Users/s2231/PycharmProjects/FastFlow/Fast_flow/FastFlow/data/package_square/cut/OK_Clip/2_Cam1_000109.jpg'),\n WindowsPath('C:/Users/s2231/PycharmProjects/FastFlow/Fast_flow/FastFlow/data/package_square/cut/OK_Clip/1_Cam1_000124.jpg'),\n WindowsPath('C:/Users/s2231/PycharmProjects/FastFlow/Fast_flow/FastFlow/data/package_square/cut/OK_Clip/2_Cam1_000642.jpg'),\n WindowsPath('C:/Users/s2231/PycharmProjects/FastFlow/Fast_flow/FastFlow/data/package_square/cut/OK_Clip/2_Cam1_000983.jpg'),\n WindowsPath('C:/Users/s2231/PycharmProjects/FastFlow/Fast_flow/FastFlow/data/package_square/cut/OK_Clip/2_Cam1_000350.jpg'),\n WindowsPath('C:/Users/s2231/PycharmProjects/FastFlow/Fast_flow/FastFlow/data/package_square/cut/OK_Clip/2_Cam1_000772.jpg'),\n WindowsPath('C:/Users/s2231/PycharmProjects/FastFlow/Fast_flow/FastFlow/data/package_square/cut/OK_Clip/1_Cam1_000465.jpg'),\n WindowsPath('C:/Users/s2231/PycharmProjects/FastFlow/Fast_flow/FastFlow/data/package_square/cut/OK_Clip/2_Cam1_001015.jpg'),\n WindowsPath('C:/Users/s2231/PycharmProjects/FastFlow/Fast_flow/FastFlow/data/package_square/cut/OK_Clip/2_Cam1_001193.jpg'),\n WindowsPath('C:/Users/s2231/PycharmProjects/FastFlow/Fast_flow/FastFlow/data/package_square/cut/OK_Clip/2_Cam1_000856.jpg'),\n WindowsPath('C:/Users/s2231/PycharmProjects/FastFlow/Fast_flow/FastFlow/data/package_square/cut/OK_Clip/2_Cam1_001210.jpg'),\n WindowsPath('C:/Users/s2231/PycharmProjects/FastFlow/Fast_flow/FastFlow/data/package_square/cut/OK_Clip/2_Cam1_000134.jpg'),\n WindowsPath('C:/Users/s2231/PycharmProjects/FastFlow/Fast_flow/FastFlow/data/package_square/cut/OK_Clip/2_Cam1_001085.jpg'),\n WindowsPath('C:/Users/s2231/PycharmProjects/FastFlow/Fast_flow/FastFlow/data/package_square/cut/OK_Clip/1_Cam1_000353.jpg'),\n WindowsPath('C:/Users/s2231/PycharmProjects/FastFlow/Fast_flow/FastFlow/data/package_square/cut/OK_Clip/2_Cam1_000652.jpg'),\n WindowsPath('C:/Users/s2231/PycharmProjects/FastFlow/Fast_flow/FastFlow/data/package_square/cut/OK_Clip/2_Cam1_000797.jpg'),\n WindowsPath('C:/Users/s2231/PycharmProjects/FastFlow/Fast_flow/FastFlow/data/package_square/cut/OK_Clip/2_Cam1_001214.jpg'),\n WindowsPath('C:/Users/s2231/PycharmProjects/FastFlow/Fast_flow/FastFlow/data/package_square/cut/OK_Clip/1_Cam1_000378.jpg'),\n WindowsPath('C:/Users/s2231/PycharmProjects/FastFlow/Fast_flow/FastFlow/data/package_square/cut/OK_Clip/1_Cam1_000596.jpg'),\n WindowsPath('C:/Users/s2231/PycharmProjects/FastFlow/Fast_flow/FastFlow/data/package_square/cut/OK_Clip/2_Cam1_000050.jpg'),\n WindowsPath('C:/Users/s2231/PycharmProjects/FastFlow/Fast_flow/FastFlow/data/package_square/cut/OK_Clip/2_Cam1_000424.jpg'),\n WindowsPath('C:/Users/s2231/PycharmProjects/FastFlow/Fast_flow/FastFlow/data/package_square/cut/OK_Clip/1_Cam1_000250.jpg'),\n WindowsPath('C:/Users/s2231/PycharmProjects/FastFlow/Fast_flow/FastFlow/data/package_square/cut/OK_Clip/2_Cam1_000079.jpg'),\n WindowsPath('C:/Users/s2231/PycharmProjects/FastFlow/Fast_flow/FastFlow/data/package_square/cut/OK_Clip/1_Cam1_000415.jpg'),\n WindowsPath('C:/Users/s2231/PycharmProjects/FastFlow/Fast_flow/FastFlow/data/package_square/cut/OK_Clip/1_Cam1_000227.jpg'),\n WindowsPath('C:/Users/s2231/PycharmProjects/FastFlow/Fast_flow/FastFlow/data/package_square/cut/OK_Clip/2_Cam1_000582.jpg'),\n WindowsPath('C:/Users/s2231/PycharmProjects/FastFlow/Fast_flow/FastFlow/data/package_square/cut/OK_Clip/1_Cam1_000096.jpg'),\n WindowsPath('C:/Users/s2231/PycharmProjects/FastFlow/Fast_flow/FastFlow/data/package_square/cut/OK_Clip/1_Cam1_000018.jpg'),\n WindowsPath('C:/Users/s2231/PycharmProjects/FastFlow/Fast_flow/FastFlow/data/package_square/cut/OK_Clip/2_Cam1_000182.jpg'),\n WindowsPath('C:/Users/s2231/PycharmProjects/FastFlow/Fast_flow/FastFlow/data/package_square/cut/OK_Clip/1_Cam1_000459.jpg'),\n WindowsPath('C:/Users/s2231/PycharmProjects/FastFlow/Fast_flow/FastFlow/data/package_square/cut/OK_Clip/2_Cam1_000406.jpg'),\n WindowsPath('C:/Users/s2231/PycharmProjects/FastFlow/Fast_flow/FastFlow/data/package_square/cut/OK_Clip/2_Cam1_000099.jpg'),\n WindowsPath('C:/Users/s2231/PycharmProjects/FastFlow/Fast_flow/FastFlow/data/package_square/cut/OK_Clip/2_Cam1_000032.jpg'),\n WindowsPath('C:/Users/s2231/PycharmProjects/FastFlow/Fast_flow/FastFlow/data/package_square/cut/OK_Clip/2_Cam1_000936.jpg'),\n WindowsPath('C:/Users/s2231/PycharmProjects/FastFlow/Fast_flow/FastFlow/data/package_square/cut/OK_Clip/2_Cam1_000647.jpg'),\n WindowsPath('C:/Users/s2231/PycharmProjects/FastFlow/Fast_flow/FastFlow/data/package_square/cut/OK_Clip/1_Cam1_000247.jpg'),\n WindowsPath('C:/Users/s2231/PycharmProjects/FastFlow/Fast_flow/FastFlow/data/package_square/cut/OK_Clip/2_Cam1_001099.jpg'),\n WindowsPath('C:/Users/s2231/PycharmProjects/FastFlow/Fast_flow/FastFlow/data/package_square/cut/OK_Clip/1_Cam1_000569.jpg'),\n WindowsPath('C:/Users/s2231/PycharmProjects/FastFlow/Fast_flow/FastFlow/data/package_square/cut/OK_Clip/2_Cam1_000765.jpg'),\n WindowsPath('C:/Users/s2231/PycharmProjects/FastFlow/Fast_flow/FastFlow/data/package_square/cut/OK_Clip/2_Cam1_000738.jpg'),\n WindowsPath('C:/Users/s2231/PycharmProjects/FastFlow/Fast_flow/FastFlow/data/package_square/cut/OK_Clip/2_Cam1_000108.jpg'),\n WindowsPath('C:/Users/s2231/PycharmProjects/FastFlow/Fast_flow/FastFlow/data/package_square/cut/OK_Clip/2_Cam1_000430.jpg'),\n WindowsPath('C:/Users/s2231/PycharmProjects/FastFlow/Fast_flow/FastFlow/data/package_square/cut/OK_Clip/1_Cam1_000088.jpg'),\n WindowsPath('C:/Users/s2231/PycharmProjects/FastFlow/Fast_flow/FastFlow/data/package_square/cut/OK_Clip/1_Cam1_000196.jpg'),\n WindowsPath('C:/Users/s2231/PycharmProjects/FastFlow/Fast_flow/FastFlow/data/package_square/cut/OK_Clip/2_Cam1_000349.jpg'),\n WindowsPath('C:/Users/s2231/PycharmProjects/FastFlow/Fast_flow/FastFlow/data/package_square/cut/OK_Clip/1_Cam1_000530.jpg'),\n WindowsPath('C:/Users/s2231/PycharmProjects/FastFlow/Fast_flow/FastFlow/data/package_square/cut/OK_Clip/1_Cam1_000011.jpg'),\n WindowsPath('C:/Users/s2231/PycharmProjects/FastFlow/Fast_flow/FastFlow/data/package_square/cut/OK_Clip/2_Cam1_000468.jpg'),\n WindowsPath('C:/Users/s2231/PycharmProjects/FastFlow/Fast_flow/FastFlow/data/package_square/cut/OK_Clip/1_Cam1_000283.jpg'),\n WindowsPath('C:/Users/s2231/PycharmProjects/FastFlow/Fast_flow/FastFlow/data/package_square/cut/OK_Clip/2_Cam1_000420.jpg'),\n WindowsPath('C:/Users/s2231/PycharmProjects/FastFlow/Fast_flow/FastFlow/data/package_square/cut/OK_Clip/2_Cam1_000089.jpg'),\n WindowsPath('C:/Users/s2231/PycharmProjects/FastFlow/Fast_flow/FastFlow/data/package_square/cut/OK_Clip/1_Cam1_000611.jpg'),\n WindowsPath('C:/Users/s2231/PycharmProjects/FastFlow/Fast_flow/FastFlow/data/package_square/cut/OK_Clip/2_Cam1_000278.jpg'),\n WindowsPath('C:/Users/s2231/PycharmProjects/FastFlow/Fast_flow/FastFlow/data/package_square/cut/OK_Clip/1_Cam1_000287.jpg'),\n WindowsPath('C:/Users/s2231/PycharmProjects/FastFlow/Fast_flow/FastFlow/data/package_square/cut/OK_Clip/1_Cam1_000349.jpg'),\n WindowsPath('C:/Users/s2231/PycharmProjects/FastFlow/Fast_flow/FastFlow/data/package_square/cut/OK_Clip/1_Cam1_000265.jpg'),\n WindowsPath('C:/Users/s2231/PycharmProjects/FastFlow/Fast_flow/FastFlow/data/package_square/cut/OK_Clip/2_Cam1_001056.jpg'),\n WindowsPath('C:/Users/s2231/PycharmProjects/FastFlow/Fast_flow/FastFlow/data/package_square/cut/OK_Clip/1_Cam1_000364.jpg'),\n WindowsPath('C:/Users/s2231/PycharmProjects/FastFlow/Fast_flow/FastFlow/data/package_square/cut/OK_Clip/2_Cam1_001016.jpg'),\n WindowsPath('C:/Users/s2231/PycharmProjects/FastFlow/Fast_flow/FastFlow/data/package_square/cut/OK_Clip/2_Cam1_000402.jpg'),\n WindowsPath('C:/Users/s2231/PycharmProjects/FastFlow/Fast_flow/FastFlow/data/package_square/cut/OK_Clip/2_Cam1_001061.jpg'),\n WindowsPath('C:/Users/s2231/PycharmProjects/FastFlow/Fast_flow/FastFlow/data/package_square/cut/OK_Clip/2_Cam1_001013.jpg'),\n WindowsPath('C:/Users/s2231/PycharmProjects/FastFlow/Fast_flow/FastFlow/data/package_square/cut/OK_Clip/2_Cam1_000248.jpg'),\n WindowsPath('C:/Users/s2231/PycharmProjects/FastFlow/Fast_flow/FastFlow/data/package_square/cut/OK_Clip/2_Cam1_000456.jpg'),\n WindowsPath('C:/Users/s2231/PycharmProjects/FastFlow/Fast_flow/FastFlow/data/package_square/cut/OK_Clip/1_Cam1_000030.jpg'),\n WindowsPath('C:/Users/s2231/PycharmProjects/FastFlow/Fast_flow/FastFlow/data/package_square/cut/OK_Clip/1_Cam1_000345.jpg'),\n WindowsPath('C:/Users/s2231/PycharmProjects/FastFlow/Fast_flow/FastFlow/data/package_square/cut/OK_Clip/2_Cam1_000945.jpg'),\n WindowsPath('C:/Users/s2231/PycharmProjects/FastFlow/Fast_flow/FastFlow/data/package_square/cut/OK_Clip/2_Cam1_000055.jpg'),\n WindowsPath('C:/Users/s2231/PycharmProjects/FastFlow/Fast_flow/FastFlow/data/package_square/cut/OK_Clip/1_Cam1_000625.jpg'),\n WindowsPath('C:/Users/s2231/PycharmProjects/FastFlow/Fast_flow/FastFlow/data/package_square/cut/OK_Clip/2_Cam1_000763.jpg'),\n WindowsPath('C:/Users/s2231/PycharmProjects/FastFlow/Fast_flow/FastFlow/data/package_square/cut/OK_Clip/1_Cam1_000476.jpg'),\n WindowsPath('C:/Users/s2231/PycharmProjects/FastFlow/Fast_flow/FastFlow/data/package_square/cut/OK_Clip/2_Cam1_000437.jpg'),\n WindowsPath('C:/Users/s2231/PycharmProjects/FastFlow/Fast_flow/FastFlow/data/package_square/cut/OK_Clip/2_Cam1_000569.jpg'),\n WindowsPath('C:/Users/s2231/PycharmProjects/FastFlow/Fast_flow/FastFlow/data/package_square/cut/OK_Clip/2_Cam1_000302.jpg'),\n WindowsPath('C:/Users/s2231/PycharmProjects/FastFlow/Fast_flow/FastFlow/data/package_square/cut/OK_Clip/2_Cam1_000663.jpg'),\n WindowsPath('C:/Users/s2231/PycharmProjects/FastFlow/Fast_flow/FastFlow/data/package_square/cut/OK_Clip/1_Cam1_000178.jpg'),\n WindowsPath('C:/Users/s2231/PycharmProjects/FastFlow/Fast_flow/FastFlow/data/package_square/cut/OK_Clip/1_Cam1_000503.jpg'),\n WindowsPath('C:/Users/s2231/PycharmProjects/FastFlow/Fast_flow/FastFlow/data/package_square/cut/OK_Clip/2_Cam1_000031.jpg'),\n WindowsPath('C:/Users/s2231/PycharmProjects/FastFlow/Fast_flow/FastFlow/data/package_square/cut/OK_Clip/1_Cam1_000550.jpg'),\n WindowsPath('C:/Users/s2231/PycharmProjects/FastFlow/Fast_flow/FastFlow/data/package_square/cut/OK_Clip/2_Cam1_001185.jpg'),\n WindowsPath('C:/Users/s2231/PycharmProjects/FastFlow/Fast_flow/FastFlow/data/package_square/cut/OK_Clip/2_Cam1_000447.jpg'),\n WindowsPath('C:/Users/s2231/PycharmProjects/FastFlow/Fast_flow/FastFlow/data/package_square/cut/OK_Clip/2_Cam1_000369.jpg'),\n WindowsPath('C:/Users/s2231/PycharmProjects/FastFlow/Fast_flow/FastFlow/data/package_square/cut/OK_Clip/1_Cam1_000554.jpg'),\n WindowsPath('C:/Users/s2231/PycharmProjects/FastFlow/Fast_flow/FastFlow/data/package_square/cut/OK_Clip/2_Cam1_000563.jpg'),\n WindowsPath('C:/Users/s2231/PycharmProjects/FastFlow/Fast_flow/FastFlow/data/package_square/cut/OK_Clip/2_Cam1_000268.jpg'),\n WindowsPath('C:/Users/s2231/PycharmProjects/FastFlow/Fast_flow/FastFlow/data/package_square/cut/OK_Clip/2_Cam1_001009.jpg'),\n WindowsPath('C:/Users/s2231/PycharmProjects/FastFlow/Fast_flow/FastFlow/data/package_square/cut/OK_Clip/2_Cam1_000320.jpg'),\n WindowsPath('C:/Users/s2231/PycharmProjects/FastFlow/Fast_flow/FastFlow/data/package_square/cut/OK_Clip/2_Cam1_001157.jpg'),\n WindowsPath('C:/Users/s2231/PycharmProjects/FastFlow/Fast_flow/FastFlow/data/package_square/cut/OK_Clip/2_Cam1_000264.jpg'),\n WindowsPath('C:/Users/s2231/PycharmProjects/FastFlow/Fast_flow/FastFlow/data/package_square/cut/OK_Clip/1_Cam1_000217.jpg'),\n WindowsPath('C:/Users/s2231/PycharmProjects/FastFlow/Fast_flow/FastFlow/data/package_square/cut/OK_Clip/2_Cam1_000382.jpg'),\n WindowsPath('C:/Users/s2231/PycharmProjects/FastFlow/Fast_flow/FastFlow/data/package_square/cut/OK_Clip/2_Cam1_000511.jpg'),\n WindowsPath('C:/Users/s2231/PycharmProjects/FastFlow/Fast_flow/FastFlow/data/package_square/cut/OK_Clip/1_Cam1_000026.jpg'),\n WindowsPath('C:/Users/s2231/PycharmProjects/FastFlow/Fast_flow/FastFlow/data/package_square/cut/OK_Clip/2_Cam1_000069.jpg'),\n WindowsPath('C:/Users/s2231/PycharmProjects/FastFlow/Fast_flow/FastFlow/data/package_square/cut/OK_Clip/2_Cam1_000770.jpg'),\n WindowsPath('C:/Users/s2231/PycharmProjects/FastFlow/Fast_flow/FastFlow/data/package_square/cut/OK_Clip/2_Cam1_000987.jpg'),\n WindowsPath('C:/Users/s2231/PycharmProjects/FastFlow/Fast_flow/FastFlow/data/package_square/cut/OK_Clip/2_Cam1_001124.jpg'),\n WindowsPath('C:/Users/s2231/PycharmProjects/FastFlow/Fast_flow/FastFlow/data/package_square/cut/OK_Clip/2_Cam1_000547.jpg'),\n WindowsPath('C:/Users/s2231/PycharmProjects/FastFlow/Fast_flow/FastFlow/data/package_square/cut/OK_Clip/2_Cam1_000082.jpg'),\n WindowsPath('C:/Users/s2231/PycharmProjects/FastFlow/Fast_flow/FastFlow/data/package_square/cut/OK_Clip/1_Cam1_000085.jpg'),\n WindowsPath('C:/Users/s2231/PycharmProjects/FastFlow/Fast_flow/FastFlow/data/package_square/cut/OK_Clip/2_Cam1_000971.jpg'),\n WindowsPath('C:/Users/s2231/PycharmProjects/FastFlow/Fast_flow/FastFlow/data/package_square/cut/OK_Clip/1_Cam1_000618.jpg'),\n WindowsPath('C:/Users/s2231/PycharmProjects/FastFlow/Fast_flow/FastFlow/data/package_square/cut/OK_Clip/1_Cam1_000209.jpg'),\n WindowsPath('C:/Users/s2231/PycharmProjects/FastFlow/Fast_flow/FastFlow/data/package_square/cut/OK_Clip/2_Cam1_000925.jpg'),\n WindowsPath('C:/Users/s2231/PycharmProjects/FastFlow/Fast_flow/FastFlow/data/package_square/cut/OK_Clip/1_Cam1_000156.jpg'),\n WindowsPath('C:/Users/s2231/PycharmProjects/FastFlow/Fast_flow/FastFlow/data/package_square/cut/OK_Clip/1_Cam1_000407.jpg'),\n WindowsPath('C:/Users/s2231/PycharmProjects/FastFlow/Fast_flow/FastFlow/data/package_square/cut/OK_Clip/2_Cam1_000183.jpg'),\n WindowsPath('C:/Users/s2231/PycharmProjects/FastFlow/Fast_flow/FastFlow/data/package_square/cut/OK_Clip/2_Cam1_000139.jpg'),\n WindowsPath('C:/Users/s2231/PycharmProjects/FastFlow/Fast_flow/FastFlow/data/package_square/cut/OK_Clip/2_Cam1_001177.jpg'),\n WindowsPath('C:/Users/s2231/PycharmProjects/FastFlow/Fast_flow/FastFlow/data/package_square/cut/OK_Clip/1_Cam1_000053.jpg'),\n WindowsPath('C:/Users/s2231/PycharmProjects/FastFlow/Fast_flow/FastFlow/data/package_square/cut/OK_Clip/2_Cam1_000864.jpg'),\n WindowsPath('C:/Users/s2231/PycharmProjects/FastFlow/Fast_flow/FastFlow/data/package_square/cut/OK_Clip/2_Cam1_000008.jpg'),\n WindowsPath('C:/Users/s2231/PycharmProjects/FastFlow/Fast_flow/FastFlow/data/package_square/cut/OK_Clip/1_Cam1_000336.jpg'),\n WindowsPath('C:/Users/s2231/PycharmProjects/FastFlow/Fast_flow/FastFlow/data/package_square/cut/OK_Clip/2_Cam1_001034.jpg'),\n WindowsPath('C:/Users/s2231/PycharmProjects/FastFlow/Fast_flow/FastFlow/data/package_square/cut/OK_Clip/1_Cam1_000344.jpg'),\n WindowsPath('C:/Users/s2231/PycharmProjects/FastFlow/Fast_flow/FastFlow/data/package_square/cut/OK_Clip/2_Cam1_000126.jpg'),\n WindowsPath('C:/Users/s2231/PycharmProjects/FastFlow/Fast_flow/FastFlow/data/package_square/cut/OK_Clip/1_Cam1_000525.jpg'),\n WindowsPath('C:/Users/s2231/PycharmProjects/FastFlow/Fast_flow/FastFlow/data/package_square/cut/OK_Clip/2_Cam1_000598.jpg'),\n WindowsPath('C:/Users/s2231/PycharmProjects/FastFlow/Fast_flow/FastFlow/data/package_square/cut/OK_Clip/1_Cam1_000447.jpg'),\n WindowsPath('C:/Users/s2231/PycharmProjects/FastFlow/Fast_flow/FastFlow/data/package_square/cut/OK_Clip/2_Cam1_001039.jpg'),\n WindowsPath('C:/Users/s2231/PycharmProjects/FastFlow/Fast_flow/FastFlow/data/package_square/cut/OK_Clip/2_Cam1_000593.jpg'),\n WindowsPath('C:/Users/s2231/PycharmProjects/FastFlow/Fast_flow/FastFlow/data/package_square/cut/OK_Clip/1_Cam1_000259.jpg'),\n WindowsPath('C:/Users/s2231/PycharmProjects/FastFlow/Fast_flow/FastFlow/data/package_square/cut/OK_Clip/2_Cam1_000788.jpg'),\n WindowsPath('C:/Users/s2231/PycharmProjects/FastFlow/Fast_flow/FastFlow/data/package_square/cut/OK_Clip/2_Cam1_000522.jpg'),\n WindowsPath('C:/Users/s2231/PycharmProjects/FastFlow/Fast_flow/FastFlow/data/package_square/cut/OK_Clip/1_Cam1_000042.jpg'),\n WindowsPath('C:/Users/s2231/PycharmProjects/FastFlow/Fast_flow/FastFlow/data/package_square/cut/OK_Clip/2_Cam1_000675.jpg'),\n WindowsPath('C:/Users/s2231/PycharmProjects/FastFlow/Fast_flow/FastFlow/data/package_square/cut/OK_Clip/2_Cam1_000541.jpg'),\n WindowsPath('C:/Users/s2231/PycharmProjects/FastFlow/Fast_flow/FastFlow/data/package_square/cut/OK_Clip/1_Cam1_000064.jpg'),\n WindowsPath('C:/Users/s2231/PycharmProjects/FastFlow/Fast_flow/FastFlow/data/package_square/cut/OK_Clip/1_Cam1_000083.jpg'),\n WindowsPath('C:/Users/s2231/PycharmProjects/FastFlow/Fast_flow/FastFlow/data/package_square/cut/OK_Clip/2_Cam1_000766.jpg'),\n WindowsPath('C:/Users/s2231/PycharmProjects/FastFlow/Fast_flow/FastFlow/data/package_square/cut/OK_Clip/1_Cam1_000460.jpg'),\n WindowsPath('C:/Users/s2231/PycharmProjects/FastFlow/Fast_flow/FastFlow/data/package_square/cut/OK_Clip/2_Cam1_000673.jpg'),\n WindowsPath('C:/Users/s2231/PycharmProjects/FastFlow/Fast_flow/FastFlow/data/package_square/cut/OK_Clip/1_Cam1_000107.jpg'),\n WindowsPath('C:/Users/s2231/PycharmProjects/FastFlow/Fast_flow/FastFlow/data/package_square/cut/OK_Clip/2_Cam1_000999.jpg'),\n WindowsPath('C:/Users/s2231/PycharmProjects/FastFlow/Fast_flow/FastFlow/data/package_square/cut/OK_Clip/2_Cam1_000677.jpg'),\n WindowsPath('C:/Users/s2231/PycharmProjects/FastFlow/Fast_flow/FastFlow/data/package_square/cut/OK_Clip/2_Cam1_000799.jpg'),\n WindowsPath('C:/Users/s2231/PycharmProjects/FastFlow/Fast_flow/FastFlow/data/package_square/cut/OK_Clip/1_Cam1_000517.jpg'),\n WindowsPath('C:/Users/s2231/PycharmProjects/FastFlow/Fast_flow/FastFlow/data/package_square/cut/OK_Clip/2_Cam1_000240.jpg'),\n WindowsPath('C:/Users/s2231/PycharmProjects/FastFlow/Fast_flow/FastFlow/data/package_square/cut/OK_Clip/2_Cam1_001130.jpg'),\n WindowsPath('C:/Users/s2231/PycharmProjects/FastFlow/Fast_flow/FastFlow/data/package_square/cut/OK_Clip/2_Cam1_000475.jpg'),\n WindowsPath('C:/Users/s2231/PycharmProjects/FastFlow/Fast_flow/FastFlow/data/package_square/cut/OK_Clip/2_Cam1_000062.jpg'),\n WindowsPath('C:/Users/s2231/PycharmProjects/FastFlow/Fast_flow/FastFlow/data/package_square/cut/OK_Clip/2_Cam1_000040.jpg'),\n WindowsPath('C:/Users/s2231/PycharmProjects/FastFlow/Fast_flow/FastFlow/data/package_square/cut/OK_Clip/2_Cam1_000869.jpg'),\n WindowsPath('C:/Users/s2231/PycharmProjects/FastFlow/Fast_flow/FastFlow/data/package_square/cut/OK_Clip/2_Cam1_001007.jpg'),\n WindowsPath('C:/Users/s2231/PycharmProjects/FastFlow/Fast_flow/FastFlow/data/package_square/cut/OK_Clip/2_Cam1_000041.jpg'),\n WindowsPath('C:/Users/s2231/PycharmProjects/FastFlow/Fast_flow/FastFlow/data/package_square/cut/OK_Clip/2_Cam1_001192.jpg'),\n WindowsPath('C:/Users/s2231/PycharmProjects/FastFlow/Fast_flow/FastFlow/data/package_square/cut/OK_Clip/1_Cam1_000533.jpg'),\n WindowsPath('C:/Users/s2231/PycharmProjects/FastFlow/Fast_flow/FastFlow/data/package_square/cut/OK_Clip/2_Cam1_000560.jpg'),\n WindowsPath('C:/Users/s2231/PycharmProjects/FastFlow/Fast_flow/FastFlow/data/package_square/cut/OK_Clip/1_Cam1_000373.jpg'),\n WindowsPath('C:/Users/s2231/PycharmProjects/FastFlow/Fast_flow/FastFlow/data/package_square/cut/OK_Clip/2_Cam1_000324.jpg'),\n WindowsPath('C:/Users/s2231/PycharmProjects/FastFlow/Fast_flow/FastFlow/data/package_square/cut/OK_Clip/1_Cam1_000278.jpg'),\n WindowsPath('C:/Users/s2231/PycharmProjects/FastFlow/Fast_flow/FastFlow/data/package_square/cut/OK_Clip/2_Cam1_001069.jpg'),\n WindowsPath('C:/Users/s2231/PycharmProjects/FastFlow/Fast_flow/FastFlow/data/package_square/cut/OK_Clip/1_Cam1_000172.jpg'),\n WindowsPath('C:/Users/s2231/PycharmProjects/FastFlow/Fast_flow/FastFlow/data/package_square/cut/OK_Clip/2_Cam1_001074.jpg'),\n WindowsPath('C:/Users/s2231/PycharmProjects/FastFlow/Fast_flow/FastFlow/data/package_square/cut/OK_Clip/2_Cam1_000177.jpg'),\n WindowsPath('C:/Users/s2231/PycharmProjects/FastFlow/Fast_flow/FastFlow/data/package_square/cut/OK_Clip/1_Cam1_000056.jpg'),\n WindowsPath('C:/Users/s2231/PycharmProjects/FastFlow/Fast_flow/FastFlow/data/package_square/cut/OK_Clip/2_Cam1_001147.jpg'),\n WindowsPath('C:/Users/s2231/PycharmProjects/FastFlow/Fast_flow/FastFlow/data/package_square/cut/OK_Clip/2_Cam1_000909.jpg'),\n WindowsPath('C:/Users/s2231/PycharmProjects/FastFlow/Fast_flow/FastFlow/data/package_square/cut/OK_Clip/2_Cam1_000336.jpg'),\n WindowsPath('C:/Users/s2231/PycharmProjects/FastFlow/Fast_flow/FastFlow/data/package_square/cut/OK_Clip/2_Cam1_000978.jpg'),\n WindowsPath('C:/Users/s2231/PycharmProjects/FastFlow/Fast_flow/FastFlow/data/package_square/cut/OK_Clip/2_Cam1_000205.jpg'),\n WindowsPath('C:/Users/s2231/PycharmProjects/FastFlow/Fast_flow/FastFlow/data/package_square/cut/OK_Clip/2_Cam1_000059.jpg'),\n WindowsPath('C:/Users/s2231/PycharmProjects/FastFlow/Fast_flow/FastFlow/data/package_square/cut/OK_Clip/2_Cam1_000167.jpg'),\n WindowsPath('C:/Users/s2231/PycharmProjects/FastFlow/Fast_flow/FastFlow/data/package_square/cut/OK_Clip/1_Cam1_000060.jpg'),\n WindowsPath('C:/Users/s2231/PycharmProjects/FastFlow/Fast_flow/FastFlow/data/package_square/cut/OK_Clip/2_Cam1_000879.jpg'),\n WindowsPath('C:/Users/s2231/PycharmProjects/FastFlow/Fast_flow/FastFlow/data/package_square/cut/OK_Clip/2_Cam1_000269.jpg'),\n WindowsPath('C:/Users/s2231/PycharmProjects/FastFlow/Fast_flow/FastFlow/data/package_square/cut/OK_Clip/1_Cam1_000559.jpg'),\n WindowsPath('C:/Users/s2231/PycharmProjects/FastFlow/Fast_flow/FastFlow/data/package_square/cut/OK_Clip/2_Cam1_001065.jpg'),\n WindowsPath('C:/Users/s2231/PycharmProjects/FastFlow/Fast_flow/FastFlow/data/package_square/cut/OK_Clip/2_Cam1_000378.jpg'),\n WindowsPath('C:/Users/s2231/PycharmProjects/FastFlow/Fast_flow/FastFlow/data/package_square/cut/OK_Clip/2_Cam1_000948.jpg'),\n WindowsPath('C:/Users/s2231/PycharmProjects/FastFlow/Fast_flow/FastFlow/data/package_square/cut/OK_Clip/2_Cam1_000497.jpg'),\n WindowsPath('C:/Users/s2231/PycharmProjects/FastFlow/Fast_flow/FastFlow/data/package_square/cut/OK_Clip/2_Cam1_000633.jpg'),\n WindowsPath('C:/Users/s2231/PycharmProjects/FastFlow/Fast_flow/FastFlow/data/package_square/cut/OK_Clip/2_Cam1_000798.jpg'),\n WindowsPath('C:/Users/s2231/PycharmProjects/FastFlow/Fast_flow/FastFlow/data/package_square/cut/OK_Clip/2_Cam1_000169.jpg'),\n WindowsPath('C:/Users/s2231/PycharmProjects/FastFlow/Fast_flow/FastFlow/data/package_square/cut/OK_Clip/2_Cam1_001014.jpg'),\n WindowsPath('C:/Users/s2231/PycharmProjects/FastFlow/Fast_flow/FastFlow/data/package_square/cut/OK_Clip/2_Cam1_000091.jpg'),\n WindowsPath('C:/Users/s2231/PycharmProjects/FastFlow/Fast_flow/FastFlow/data/package_square/cut/OK_Clip/1_Cam1_000013.jpg'),\n WindowsPath('C:/Users/s2231/PycharmProjects/FastFlow/Fast_flow/FastFlow/data/package_square/cut/OK_Clip/2_Cam1_000850.jpg'),\n WindowsPath('C:/Users/s2231/PycharmProjects/FastFlow/Fast_flow/FastFlow/data/package_square/cut/OK_Clip/2_Cam1_000150.jpg'),\n WindowsPath('C:/Users/s2231/PycharmProjects/FastFlow/Fast_flow/FastFlow/data/package_square/cut/OK_Clip/1_Cam1_000041.jpg'),\n WindowsPath('C:/Users/s2231/PycharmProjects/FastFlow/Fast_flow/FastFlow/data/package_square/cut/OK_Clip/2_Cam1_000168.jpg'),\n WindowsPath('C:/Users/s2231/PycharmProjects/FastFlow/Fast_flow/FastFlow/data/package_square/cut/OK_Clip/2_Cam1_000237.jpg'),\n WindowsPath('C:/Users/s2231/PycharmProjects/FastFlow/Fast_flow/FastFlow/data/package_square/cut/OK_Clip/1_Cam1_000424.jpg'),\n WindowsPath('C:/Users/s2231/PycharmProjects/FastFlow/Fast_flow/FastFlow/data/package_square/cut/OK_Clip/1_Cam1_000128.jpg'),\n WindowsPath('C:/Users/s2231/PycharmProjects/FastFlow/Fast_flow/FastFlow/data/package_square/cut/OK_Clip/2_Cam1_000228.jpg'),\n WindowsPath('C:/Users/s2231/PycharmProjects/FastFlow/Fast_flow/FastFlow/data/package_square/cut/OK_Clip/2_Cam1_000333.jpg'),\n WindowsPath('C:/Users/s2231/PycharmProjects/FastFlow/Fast_flow/FastFlow/data/package_square/cut/OK_Clip/2_Cam1_000490.jpg'),\n WindowsPath('C:/Users/s2231/PycharmProjects/FastFlow/Fast_flow/FastFlow/data/package_square/cut/OK_Clip/2_Cam1_000048.jpg'),\n WindowsPath('C:/Users/s2231/PycharmProjects/FastFlow/Fast_flow/FastFlow/data/package_square/cut/OK_Clip/2_Cam1_000211.jpg'),\n WindowsPath('C:/Users/s2231/PycharmProjects/FastFlow/Fast_flow/FastFlow/data/package_square/cut/OK_Clip/2_Cam1_000226.jpg'),\n WindowsPath('C:/Users/s2231/PycharmProjects/FastFlow/Fast_flow/FastFlow/data/package_square/cut/OK_Clip/2_Cam1_000955.jpg'),\n WindowsPath('C:/Users/s2231/PycharmProjects/FastFlow/Fast_flow/FastFlow/data/package_square/cut/OK_Clip/2_Cam1_000932.jpg'),\n WindowsPath('C:/Users/s2231/PycharmProjects/FastFlow/Fast_flow/FastFlow/data/package_square/cut/OK_Clip/1_Cam1_000313.jpg'),\n WindowsPath('C:/Users/s2231/PycharmProjects/FastFlow/Fast_flow/FastFlow/data/package_square/cut/OK_Clip/2_Cam1_000155.jpg'),\n WindowsPath('C:/Users/s2231/PycharmProjects/FastFlow/Fast_flow/FastFlow/data/package_square/cut/OK_Clip/1_Cam1_000474.jpg'),\n WindowsPath('C:/Users/s2231/PycharmProjects/FastFlow/Fast_flow/FastFlow/data/package_square/cut/OK_Clip/1_Cam1_000309.jpg'),\n WindowsPath('C:/Users/s2231/PycharmProjects/FastFlow/Fast_flow/FastFlow/data/package_square/cut/OK_Clip/2_Cam1_001176.jpg'),\n WindowsPath('C:/Users/s2231/PycharmProjects/FastFlow/Fast_flow/FastFlow/data/package_square/cut/OK_Clip/1_Cam1_000166.jpg'),\n WindowsPath('C:/Users/s2231/PycharmProjects/FastFlow/Fast_flow/FastFlow/data/package_square/cut/OK_Clip/2_Cam1_000485.jpg'),\n WindowsPath('C:/Users/s2231/PycharmProjects/FastFlow/Fast_flow/FastFlow/data/package_square/cut/OK_Clip/2_Cam1_000025.jpg'),\n WindowsPath('C:/Users/s2231/PycharmProjects/FastFlow/Fast_flow/FastFlow/data/package_square/cut/OK_Clip/2_Cam1_000058.jpg'),\n WindowsPath('C:/Users/s2231/PycharmProjects/FastFlow/Fast_flow/FastFlow/data/package_square/cut/OK_Clip/1_Cam1_000557.jpg'),\n WindowsPath('C:/Users/s2231/PycharmProjects/FastFlow/Fast_flow/FastFlow/data/package_square/cut/OK_Clip/1_Cam1_000481.jpg'),\n WindowsPath('C:/Users/s2231/PycharmProjects/FastFlow/Fast_flow/FastFlow/data/package_square/cut/OK_Clip/1_Cam1_000586.jpg'),\n WindowsPath('C:/Users/s2231/PycharmProjects/FastFlow/Fast_flow/FastFlow/data/package_square/cut/OK_Clip/1_Cam1_000159.jpg'),\n WindowsPath('C:/Users/s2231/PycharmProjects/FastFlow/Fast_flow/FastFlow/data/package_square/cut/OK_Clip/2_Cam1_000277.jpg'),\n WindowsPath('C:/Users/s2231/PycharmProjects/FastFlow/Fast_flow/FastFlow/data/package_square/cut/OK_Clip/1_Cam1_000563.jpg'),\n WindowsPath('C:/Users/s2231/PycharmProjects/FastFlow/Fast_flow/FastFlow/data/package_square/cut/OK_Clip/1_Cam1_000490.jpg'),\n WindowsPath('C:/Users/s2231/PycharmProjects/FastFlow/Fast_flow/FastFlow/data/package_square/cut/OK_Clip/2_Cam1_000371.jpg'),\n WindowsPath('C:/Users/s2231/PycharmProjects/FastFlow/Fast_flow/FastFlow/data/package_square/cut/OK_Clip/2_Cam1_000446.jpg'),\n WindowsPath('C:/Users/s2231/PycharmProjects/FastFlow/Fast_flow/FastFlow/data/package_square/cut/OK_Clip/1_Cam1_000568.jpg'),\n WindowsPath('C:/Users/s2231/PycharmProjects/FastFlow/Fast_flow/FastFlow/data/package_square/cut/OK_Clip/1_Cam1_000507.jpg'),\n WindowsPath('C:/Users/s2231/PycharmProjects/FastFlow/Fast_flow/FastFlow/data/package_square/cut/OK_Clip/1_Cam1_000531.jpg'),\n WindowsPath('C:/Users/s2231/PycharmProjects/FastFlow/Fast_flow/FastFlow/data/package_square/cut/OK_Clip/2_Cam1_000298.jpg'),\n WindowsPath('C:/Users/s2231/PycharmProjects/FastFlow/Fast_flow/FastFlow/data/package_square/cut/OK_Clip/2_Cam1_000351.jpg'),\n WindowsPath('C:/Users/s2231/PycharmProjects/FastFlow/Fast_flow/FastFlow/data/package_square/cut/OK_Clip/1_Cam1_000326.jpg'),\n WindowsPath('C:/Users/s2231/PycharmProjects/FastFlow/Fast_flow/FastFlow/data/package_square/cut/OK_Clip/2_Cam1_000290.jpg'),\n WindowsPath('C:/Users/s2231/PycharmProjects/FastFlow/Fast_flow/FastFlow/data/package_square/cut/OK_Clip/2_Cam1_000609.jpg'),\n WindowsPath('C:/Users/s2231/PycharmProjects/FastFlow/Fast_flow/FastFlow/data/package_square/cut/OK_Clip/2_Cam1_000250.jpg'),\n WindowsPath('C:/Users/s2231/PycharmProjects/FastFlow/Fast_flow/FastFlow/data/package_square/cut/OK_Clip/2_Cam1_000412.jpg'),\n WindowsPath('C:/Users/s2231/PycharmProjects/FastFlow/Fast_flow/FastFlow/data/package_square/cut/OK_Clip/2_Cam1_000283.jpg'),\n WindowsPath('C:/Users/s2231/PycharmProjects/FastFlow/Fast_flow/FastFlow/data/package_square/cut/OK_Clip/2_Cam1_000020.jpg'),\n WindowsPath('C:/Users/s2231/PycharmProjects/FastFlow/Fast_flow/FastFlow/data/package_square/cut/OK_Clip/2_Cam1_000523.jpg'),\n WindowsPath('C:/Users/s2231/PycharmProjects/FastFlow/Fast_flow/FastFlow/data/package_square/cut/OK_Clip/2_Cam1_001186.jpg'),\n WindowsPath('C:/Users/s2231/PycharmProjects/FastFlow/Fast_flow/FastFlow/data/package_square/cut/OK_Clip/2_Cam1_001143.jpg'),\n WindowsPath('C:/Users/s2231/PycharmProjects/FastFlow/Fast_flow/FastFlow/data/package_square/cut/OK_Clip/1_Cam1_000274.jpg'),\n WindowsPath('C:/Users/s2231/PycharmProjects/FastFlow/Fast_flow/FastFlow/data/package_square/cut/OK_Clip/2_Cam1_000313.jpg'),\n WindowsPath('C:/Users/s2231/PycharmProjects/FastFlow/Fast_flow/FastFlow/data/package_square/cut/OK_Clip/1_Cam1_000249.jpg'),\n WindowsPath('C:/Users/s2231/PycharmProjects/FastFlow/Fast_flow/FastFlow/data/package_square/cut/OK_Clip/1_Cam1_000511.jpg'),\n ...]"
     },
     "execution_count": 75,
     "metadata": {},
     "output_type": "execute_result"
    }
   ],
   "source": [
    "train_dataloader.dataset.image_files"
   ],
   "metadata": {
    "collapsed": false,
    "pycharm": {
     "name": "#%%\n"
    }
   }
  },
  {
   "cell_type": "code",
   "execution_count": 76,
   "outputs": [],
   "source": [
    "data_dir = pathlib.Path(args.data).parent\n",
    "cluster_dir = data_dir / 'clusters_deit'\n",
    "cluster_dir.mkdir(exist_ok=True)"
   ],
   "metadata": {
    "collapsed": false,
    "pycharm": {
     "name": "#%%\n"
    }
   }
  },
  {
   "cell_type": "code",
   "execution_count": 77,
   "outputs": [],
   "source": [
    "for i in range(K):\n",
    "    subdir = cluster_dir / f'cluster_{i}'\n",
    "    subdir.mkdir(exist_ok=True)"
   ],
   "metadata": {
    "collapsed": false,
    "pycharm": {
     "name": "#%%\n"
    }
   }
  },
  {
   "cell_type": "code",
   "execution_count": 78,
   "outputs": [
    {
     "data": {
      "text/plain": "WindowsPath('C:/Users/s2231/PycharmProjects/FastFlow/Fast_flow/FastFlow/data/clusters_deit/cluster_3/cut/OK_Clip/1_Cam1_000597.jpg')"
     },
     "execution_count": 78,
     "metadata": {},
     "output_type": "execute_result"
    }
   ],
   "source": [
    "img_list = np.array(train_dataloader.dataset.image_files)\n",
    "img_file = img_list[0]\n",
    "subdir / '/'.join(img_file.parts[-3:])"
   ],
   "metadata": {
    "collapsed": false,
    "pycharm": {
     "name": "#%%\n"
    }
   }
  },
  {
   "cell_type": "code",
   "execution_count": 79,
   "outputs": [],
   "source": [
    "# Save each cluster image\n",
    "img_list = np.array(train_dataloader.dataset.image_files)\n",
    "for i in range(K):\n",
    "    subdir = cluster_dir / f'cluster_{i}'\n",
    "    index = np.where(model.labels_ == i)[0]\n",
    "    img_files = list(img_list[index])\n",
    "    for src_file in img_files:\n",
    "        src_name = '/'.join(src_file.parts[-3:])\n",
    "        dst = subdir / src_name\n",
    "        dst.parent.mkdir(exist_ok=True, parents=True)\n",
    "        shutil.copy(src_file, dst)"
   ],
   "metadata": {
    "collapsed": false,
    "pycharm": {
     "name": "#%%\n"
    }
   }
  },
  {
   "cell_type": "code",
   "execution_count": 80,
   "outputs": [],
   "source": [
    "test_files = test_dataloader.dataset.image_files\n",
    "test_dir = cluster_dir / 'test'"
   ],
   "metadata": {
    "collapsed": false,
    "pycharm": {
     "name": "#%%\n"
    }
   }
  },
  {
   "cell_type": "code",
   "execution_count": 81,
   "outputs": [],
   "source": [
    "# save test file at cluster directory\n",
    "for test_file in test_files:\n",
    "    src_name = '/'.join(test_file.parts[-3:])\n",
    "    dst = test_dir / src_name\n",
    "    dst.parent.mkdir(exist_ok=True, parents=True)\n",
    "    shutil.copy(test_file, dst)"
   ],
   "metadata": {
    "collapsed": false,
    "pycharm": {
     "name": "#%%\n"
    }
   }
  },
  {
   "cell_type": "code",
   "execution_count": 82,
   "outputs": [],
   "source": [
    "# save K_means model\n",
    "pd.to_pickle(model, cluster_dir / 'k_means.pkl')"
   ],
   "metadata": {
    "collapsed": false,
    "pycharm": {
     "name": "#%%\n"
    }
   }
  },
  {
   "cell_type": "code",
   "execution_count": 83,
   "outputs": [
    {
     "data": {
      "text/plain": "tensor([1, 3, 3, 0])"
     },
     "execution_count": 83,
     "metadata": {},
     "output_type": "execute_result"
    }
   ],
   "source": [
    "# load K_means Model\n",
    "k_means = pd.read_pickle(cluster_dir / 'k_means.pkl')\n",
    "\n",
    "batch = next(iter(train_dataloader))\n",
    "batch = batch.cuda()\n",
    "backbone = backbone.cuda()\n",
    "outputs = get_embedding(backbone, batch)\n",
    "labels = k_means.predict(outputs)\n",
    "labels"
   ],
   "metadata": {
    "collapsed": false,
    "pycharm": {
     "name": "#%%\n"
    }
   }
  },
  {
   "cell_type": "code",
   "execution_count": 84,
   "outputs": [],
   "source": [
    "from torchvision import transforms\n",
    "from PIL import Image\n",
    "from ast import literal_eval\n",
    "\n",
    "class TestDataset(torch.utils.data.Dataset):\n",
    "    def __init__(self, root, input_size: str):\n",
    "        input_size = literal_eval(input_size)\n",
    "        self.image_transform = transforms.Compose(\n",
    "            [\n",
    "                transforms.Resize(input_size),\n",
    "                transforms.ToTensor(),\n",
    "                transforms.Normalize([0.485, 0.456, 0.406], [0.229, 0.224, 0.225]),\n",
    "            ]\n",
    "        )\n",
    "        data_dir = pathlib.Path(root)\n",
    "        normal_list = list(data_dir.glob('*/OK_Clip/*.jpg'))\n",
    "        anomal_list = list(data_dir.glob('*/NG_Clip/*.jpg'))\n",
    "\n",
    "        self.image_files = normal_list + anomal_list\n",
    "        self.labels = len(normal_list) * [0] + len(anomal_list) * [1]\n",
    "\n",
    "    def __getitem__(self, index):\n",
    "        image_file = self.image_files[index]\n",
    "        image = Image.open(image_file)\n",
    "        image = self.image_transform(image)\n",
    "\n",
    "        return image, self.labels[index]\n",
    "\n",
    "    def __len__(self):\n",
    "        return len(self.image_files)\n",
    "\n",
    "def build_test_dataloader(root: str, input_size: int):\n",
    "    test_dataset = TestDataset(\n",
    "        root=root,\n",
    "        input_size=input_size\n",
    "    )\n",
    "    return torch.utils.data.DataLoader(\n",
    "        test_dataset,\n",
    "        batch_size=1,\n",
    "        shuffle=False,\n",
    "        num_workers=0,\n",
    "        drop_last=False\n",
    "    )"
   ],
   "metadata": {
    "collapsed": false,
    "pycharm": {
     "name": "#%%\n"
    }
   }
  },
  {
   "cell_type": "code",
   "execution_count": 85,
   "outputs": [],
   "source": [
    "input_size = config['input_size']\n",
    "test_dataloader = build_test_dataloader(test_dir, input_size)"
   ],
   "metadata": {
    "collapsed": false,
    "pycharm": {
     "name": "#%%\n"
    }
   }
  },
  {
   "cell_type": "code",
   "execution_count": 109,
   "outputs": [],
   "source": [
    "ckpt_dir_0 = 'C:\\\\Users\\s2231\\PycharmProjects\\FastFlow\\Fast_flow\\FastFlow\\\\results\\cluster_0\\cut\\\\fastflow\\\\2023-01-23-16-25-15\\ckpt\\\\1.pt'\n",
    "ckpt_dir_1 = 'C:\\\\Users\\s2231\\PycharmProjects\\FastFlow\\Fast_flow\\FastFlow\\\\results\\cluster_1\\cut\\\\fastflow\\\\2023-01-23-16-27-56\\ckpt\\\\1.pt'\n",
    "ckpt_dir_2 = 'C:\\\\Users\\s2231\\PycharmProjects\\FastFlow\\Fast_flow\\FastFlow\\\\results\\cluster_2\\cut\\\\fastflow\\\\2023-01-23-16-31-06\\ckpt\\\\1.pt'\n",
    "ckpt_dir_3 = 'C:\\\\Users\\s2231\\PycharmProjects\\FastFlow\\Fast_flow\\FastFlow\\\\results\\cluster_3\\cut\\\\fastflow\\\\2023-01-23-16-34-24\\ckpt\\\\1.pt'\n",
    "\n",
    "ckpt_dir_list = [ckpt_dir_0, ckpt_dir_1, ckpt_dir_2, ckpt_dir_3]"
   ],
   "metadata": {
    "collapsed": false,
    "pycharm": {
     "name": "#%%\n"
    }
   }
  },
  {
   "cell_type": "code",
   "execution_count": 110,
   "outputs": [],
   "source": [
    "args_list = [\n",
    "    '--config', 'C:\\\\Users\\s2231\\PycharmProjects\\FastFlow\\Fast_flow\\FastFlow\\configs\\\\deit.yaml',\n",
    "    '--name',\n",
    "    'package',\n",
    "    '--data',\n",
    "    'C:\\\\Users\\s2231\\PycharmProjects\\FastFlow\\Fast_flow\\FastFlow\\data\\package_square',\n",
    "    '-cat',\n",
    "    'cut',\n",
    "    '--valid',\n",
    "    'cut'\n",
    "]\n",
    "args = parse_args(args_list)\n",
    "with open(args.config, 'r') as yaml_file:\n",
    "    config = yaml.safe_load(yaml_file)"
   ],
   "metadata": {
    "collapsed": false,
    "pycharm": {
     "name": "#%%\n"
    }
   }
  },
  {
   "cell_type": "code",
   "execution_count": 111,
   "outputs": [
    {
     "name": "stdout",
     "output_type": "stream",
     "text": [
      "Total model Param#: 118.297492[MB]\n",
      "Total model Param#: 118.297492[MB]\n",
      "Total model Param#: 118.297492[MB]\n",
      "Total model Param#: 118.297492[MB]\n"
     ]
    }
   ],
   "source": [
    "# load flow models\n",
    "K = 4\n",
    "result_dir = pathlib.Path('C:\\\\Users\\s2231\\PycharmProjects\\FastFlow\\Fast_flow\\FastFlow\\\\results')\n",
    "model_list = []\n",
    "\n",
    "for i in range(K):\n",
    "    ckpt_dir = ckpt_dir_list[i]\n",
    "    model = fastflow.build_model(config, args)\n",
    "    checkpoint = torch.load(ckpt_dir)\n",
    "    model.load_state_dict(checkpoint[\"model_state_dict\"])\n",
    "    model = model.cuda()\n",
    "    model.eval()\n",
    "    model_list.append(model)"
   ],
   "metadata": {
    "collapsed": false,
    "pycharm": {
     "name": "#%%\n"
    }
   }
  },
  {
   "cell_type": "code",
   "execution_count": 112,
   "outputs": [
    {
     "name": "stderr",
     "output_type": "stream",
     "text": [
      "100%|██████████| 341/341 [00:25<00:00, 13.22it/s]\n"
     ]
    }
   ],
   "source": [
    "from sklearn import metrics\n",
    "from ignite.contrib.metrics import ROC_AUC\n",
    "\n",
    "batch_size = const.BATCH_SIZE\n",
    "input_size = literal_eval(config['input_size'])\n",
    "backbone = backbone.cuda()\n",
    "auroc_metric = ROC_AUC()\n",
    "\n",
    "score_list = []\n",
    "target_list = []\n",
    "\n",
    "for batch, target in tqdm.tqdm(test_dataloader):\n",
    "    batch = batch.cuda()\n",
    "\n",
    "    batch_embed = get_embedding(backbone, batch)\n",
    "    label_batch = k_means.predict(batch_embed)\n",
    "    output_list = []\n",
    "    for i in range(batch.shape[0]):\n",
    "        with torch.no_grad():\n",
    "            ret = model_list[label_batch[i]](torch.unsqueeze(batch[i], dim=0))\n",
    "        output = ret['anomaly_map'].cpu().detach()\n",
    "        output_list.append(output)\n",
    "    outputs = torch.stack(output_list, dim=0).view(batch.shape[0], *input_size)\n",
    "    score = torch.mean(outputs, dim=[1, 2])\n",
    "    auroc_metric.update((score, target))\n",
    "    score_list.append(score)\n",
    "    target_list.append(target)"
   ],
   "metadata": {
    "collapsed": false,
    "pycharm": {
     "name": "#%%\n"
    }
   }
  },
  {
   "cell_type": "code",
   "execution_count": 113,
   "outputs": [
    {
     "data": {
      "text/plain": "0.5759489302967564"
     },
     "execution_count": 113,
     "metadata": {},
     "output_type": "execute_result"
    }
   ],
   "source": [
    "# 予測性能を評価する．\n",
    "# 全体の予測結果を集約する．predsは正常確率に負を掛けたもののリストであるため，異常度(scores)に変換する．\n",
    "preds = torch.concat(score_list, dim=0).cpu().numpy()\n",
    "targets = torch.concat(target_list, dim=0).cpu().numpy()\n",
    "scores = 1. + preds\n",
    "\n",
    "# TPR, FPR, しきい値の計算\n",
    "fpr_list, tpr_list, thresholds = metrics.roc_curve(targets, scores)\n",
    "best_thresh_idx = np.argmax(tpr_list - fpr_list)  # TPR - FPRが最大になるようなしきい値が最良\n",
    "best_threshold = thresholds[best_thresh_idx]\n",
    "\n",
    "fpr, tpr = fpr_list[best_thresh_idx], tpr_list[best_thresh_idx]\n",
    "preds_sparse = np.where(scores > best_threshold, 1, 0)  # そのしきい値を用いて異常・正常を分類\n",
    "\n",
    "# 異常・正常サンプルのスコアを横軸にとるヒストグラムを作成\n",
    "normal_idx = np.where(targets == 0)\n",
    "anomaly_idx = np.where(targets == 1)\n",
    "normal_scores = scores[normal_idx]\n",
    "anomaly_scores = scores[anomaly_idx]\n",
    "\n",
    "# 混同行列，AUCの計算\n",
    "cm = metrics.confusion_matrix(targets, preds_sparse)\n",
    "auroc = auroc_metric.compute()\n",
    "auroc"
   ],
   "metadata": {
    "collapsed": false,
    "pycharm": {
     "name": "#%%\n"
    }
   }
  },
  {
   "cell_type": "code",
   "execution_count": null,
   "outputs": [],
   "source": [],
   "metadata": {
    "collapsed": false,
    "pycharm": {
     "name": "#%%\n"
    }
   }
  }
 ],
 "metadata": {
  "kernelspec": {
   "display_name": "Python 3",
   "language": "python",
   "name": "python3"
  },
  "language_info": {
   "codemirror_mode": {
    "name": "ipython",
    "version": 2
   },
   "file_extension": ".py",
   "mimetype": "text/x-python",
   "name": "python",
   "nbconvert_exporter": "python",
   "pygments_lexer": "ipython2",
   "version": "2.7.6"
  }
 },
 "nbformat": 4,
 "nbformat_minor": 0
}